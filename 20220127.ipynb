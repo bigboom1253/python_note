{
 "cells": [
  {
   "cell_type": "code",
   "execution_count": 50,
   "id": "29a55c7d",
   "metadata": {},
   "outputs": [
    {
     "name": "stderr",
     "output_type": "stream",
     "text": [
      "'sudo'은(는) 내부 또는 외부 명령, 실행할 수 있는 프로그램, 또는\n",
      "배치 파일이 아닙니다.\n",
      "'sudo'은(는) 내부 또는 외부 명령, 실행할 수 있는 프로그램, 또는\n",
      "배치 파일이 아닙니다.\n",
      "'rm'은(는) 내부 또는 외부 명령, 실행할 수 있는 프로그램, 또는\n",
      "배치 파일이 아닙니다.\n"
     ]
    }
   ],
   "source": [
    "!sudo apt-get install -y fonts-nanum\n",
    "!sudo fc-cache -fv\n",
    "!rm ~/.cache/matplotlib -rf"
   ]
  },
  {
   "cell_type": "code",
   "execution_count": 51,
   "id": "988130f3",
   "metadata": {},
   "outputs": [],
   "source": [
    "import matplotlib.font_manager as fm\n"
   ]
  },
  {
   "cell_type": "code",
   "execution_count": 52,
   "id": "99bc094a",
   "metadata": {},
   "outputs": [
    {
     "data": {
      "text/plain": [
       "['C:\\\\Windows\\\\Fonts\\\\MTCORSVA.TTF',\n",
       " 'C:\\\\Windows\\\\Fonts\\\\cambria.ttc',\n",
       " 'C:\\\\Windows\\\\Fonts\\\\marlett.ttf',\n",
       " 'C:\\\\Windows\\\\Fonts\\\\pala.ttf',\n",
       " 'C:\\\\Windows\\\\Fonts\\\\FRSCRIPT.TTF',\n",
       " 'C:\\\\Windows\\\\Fonts\\\\cour.ttf',\n",
       " 'C:\\\\Windows\\\\Fonts\\\\ENGR.TTF',\n",
       " 'C:\\\\Windows\\\\Fonts\\\\segoeuib.ttf',\n",
       " 'C:\\\\Windows\\\\Fonts\\\\GILB____.TTF',\n",
       " 'C:\\\\Windows\\\\Fonts\\\\PERBI___.TTF',\n",
       " 'C:\\\\Windows\\\\Fonts\\\\COPRGTB.TTF',\n",
       " 'C:\\\\Windows\\\\Fonts\\\\LTYPEBO.TTF',\n",
       " 'C:\\\\Windows\\\\Fonts\\\\MAGNETOB.TTF',\n",
       " 'C:\\\\Windows\\\\Fonts\\\\HARNGTON.TTF',\n",
       " 'C:\\\\Windows\\\\Fonts\\\\LFAXD.TTF',\n",
       " 'C:\\\\Windows\\\\Fonts\\\\NGULIM.TTF',\n",
       " 'C:\\\\Windows\\\\Fonts\\\\PERB____.TTF',\n",
       " 'C:\\\\Windows\\\\Fonts\\\\seguisb.ttf',\n",
       " 'C:\\\\Windows\\\\Fonts\\\\GILBI___.TTF',\n",
       " 'C:\\\\Windows\\\\Fonts\\\\georgiai.ttf',\n",
       " 'C:\\\\Windows\\\\Fonts\\\\ebrima.ttf',\n",
       " 'C:\\\\Windows\\\\Fonts\\\\BOOKOSI.TTF',\n",
       " 'C:\\\\Windows\\\\Fonts\\\\calibrib.ttf',\n",
       " 'C:\\\\Windows\\\\Fonts\\\\arialbi.ttf',\n",
       " 'C:\\\\Windows\\\\Fonts\\\\comicz.ttf',\n",
       " 'C:\\\\Windows\\\\Fonts\\\\MN.TTF',\n",
       " 'C:\\\\Windows\\\\Fonts\\\\GILLUBCD.TTF',\n",
       " 'C:\\\\Windows\\\\Fonts\\\\BSSYM7.TTF',\n",
       " 'C:\\\\Windows\\\\Fonts\\\\cambriai.ttf',\n",
       " 'C:\\\\Windows\\\\Fonts\\\\PAPYRUS.TTF',\n",
       " 'C:\\\\Windows\\\\Fonts\\\\YuGothM.ttc',\n",
       " 'C:\\\\Windows\\\\Fonts\\\\SCHLBKI.TTF',\n",
       " 'C:\\\\Windows\\\\Fonts\\\\LSANS.TTF',\n",
       " 'C:\\\\Windows\\\\Fonts\\\\BOD_B.TTF',\n",
       " 'C:\\\\Windows\\\\Fonts\\\\BOD_BI.TTF',\n",
       " 'C:\\\\Windows\\\\Fonts\\\\HANBatangB.ttf',\n",
       " 'C:\\\\Windows\\\\Fonts\\\\sylfaen.ttf',\n",
       " 'C:\\\\Windows\\\\Fonts\\\\phagspa.ttf',\n",
       " 'C:\\\\Windows\\\\Fonts\\\\ARIALN.TTF',\n",
       " 'C:\\\\Windows\\\\Fonts\\\\Inkfree.ttf',\n",
       " 'C:\\\\Windows\\\\Fonts\\\\seguiemj.ttf',\n",
       " 'C:\\\\Windows\\\\Fonts\\\\ROCCB___.TTF',\n",
       " 'C:\\\\Windows\\\\Fonts\\\\BOD_CR.TTF',\n",
       " 'C:\\\\Windows\\\\Fonts\\\\LFAX.TTF',\n",
       " 'C:\\\\Windows\\\\Fonts\\\\TCCM____.TTF',\n",
       " 'C:\\\\Windows\\\\Fonts\\\\simsun.ttc',\n",
       " 'C:\\\\Windows\\\\Fonts\\\\BRLNSDB.TTF',\n",
       " 'C:\\\\Windows\\\\Fonts\\\\VLADIMIR.TTF',\n",
       " 'C:\\\\Windows\\\\Fonts\\\\taile.ttf',\n",
       " 'C:\\\\Windows\\\\Fonts\\\\tahomabd.ttf',\n",
       " 'C:\\\\Windows\\\\Fonts\\\\ERASLGHT.TTF',\n",
       " 'C:\\\\Windows\\\\Fonts\\\\PER_____.TTF',\n",
       " 'C:\\\\Windows\\\\Fonts\\\\malgunbd.ttf',\n",
       " 'C:\\\\Windows\\\\Fonts\\\\PERI____.TTF',\n",
       " 'C:\\\\Windows\\\\Fonts\\\\GARABD.TTF',\n",
       " 'C:\\\\Windows\\\\Fonts\\\\javatext.ttf',\n",
       " 'C:\\\\Windows\\\\Fonts\\\\HANBatangExtB.ttf',\n",
       " 'C:\\\\Windows\\\\Fonts\\\\seguisli.ttf',\n",
       " 'C:\\\\Windows\\\\Fonts\\\\ERASMD.TTF',\n",
       " 'C:\\\\Windows\\\\Fonts\\\\trebucbd.ttf',\n",
       " 'C:\\\\Windows\\\\Fonts\\\\ariali.ttf',\n",
       " 'C:\\\\Windows\\\\Fonts\\\\H2GTRM.TTF',\n",
       " 'C:\\\\Windows\\\\Fonts\\\\COPRGTL.TTF',\n",
       " 'C:\\\\Windows\\\\Fonts\\\\SitkaZ.ttc',\n",
       " 'C:\\\\Windows\\\\Fonts\\\\LEELAWAD.TTF',\n",
       " 'C:\\\\Windows\\\\Fonts\\\\timesbd.ttf',\n",
       " 'C:\\\\Windows\\\\Fonts\\\\PERTILI.TTF',\n",
       " 'C:\\\\Windows\\\\Fonts\\\\NIAGSOL.TTF',\n",
       " 'C:\\\\Windows\\\\Fonts\\\\GOTHICBI.TTF',\n",
       " 'C:\\\\Windows\\\\Fonts\\\\H2MJSM.TTF',\n",
       " 'C:\\\\Windows\\\\Fonts\\\\LBRITED.TTF',\n",
       " 'C:\\\\Windows\\\\Fonts\\\\BAUHS93.TTF',\n",
       " 'C:\\\\Windows\\\\Fonts\\\\consolaz.ttf',\n",
       " 'C:\\\\Windows\\\\Fonts\\\\ITCBLKAD.TTF',\n",
       " 'C:\\\\Windows\\\\Fonts\\\\SNAP____.TTF',\n",
       " 'C:\\\\Windows\\\\Fonts\\\\HMFMOLD.TTF',\n",
       " 'C:\\\\Windows\\\\Fonts\\\\FELIXTI.TTF',\n",
       " 'C:\\\\Windows\\\\Fonts\\\\JUICE___.TTF',\n",
       " 'C:\\\\Windows\\\\Fonts\\\\SitkaI.ttc',\n",
       " 'C:\\\\Windows\\\\Fonts\\\\GILSANUB.TTF',\n",
       " 'C:\\\\Windows\\\\Fonts\\\\consolab.ttf',\n",
       " 'C:\\\\Windows\\\\Fonts\\\\FRABKIT.TTF',\n",
       " 'C:\\\\Windows\\\\Fonts\\\\georgiaz.ttf',\n",
       " 'C:\\\\Windows\\\\Fonts\\\\MOD20.TTF',\n",
       " 'C:\\\\Windows\\\\Fonts\\\\segoescb.ttf',\n",
       " 'C:\\\\Windows\\\\Fonts\\\\LSANSD.TTF',\n",
       " 'C:\\\\Windows\\\\Fonts\\\\REFSAN.TTF',\n",
       " 'C:\\\\Windows\\\\Fonts\\\\OUTLOOK.TTF',\n",
       " 'C:\\\\Windows\\\\Fonts\\\\tahoma.ttf',\n",
       " 'C:\\\\Windows\\\\Fonts\\\\Candarai.ttf',\n",
       " 'C:\\\\Windows\\\\Fonts\\\\DUBAI-LIGHT.TTF',\n",
       " 'C:\\\\Windows\\\\Fonts\\\\ANTQUABI.TTF',\n",
       " 'C:\\\\Windows\\\\Fonts\\\\ELEPHNTI.TTF',\n",
       " 'C:\\\\Windows\\\\Fonts\\\\ARIALNBI.TTF',\n",
       " 'C:\\\\Windows\\\\Fonts\\\\georgiab.ttf',\n",
       " 'C:\\\\Windows\\\\Fonts\\\\micross.ttf',\n",
       " 'C:\\\\Windows\\\\Fonts\\\\msjh.ttc',\n",
       " 'C:\\\\Users\\\\배진우\\\\AppData\\\\Local\\\\Microsoft\\\\Windows\\\\Fonts\\\\NanumGothic.ttf',\n",
       " 'C:\\\\Windows\\\\Fonts\\\\cambriaz.ttf',\n",
       " 'C:\\\\Windows\\\\Fonts\\\\palabi.ttf',\n",
       " 'C:\\\\Windows\\\\Fonts\\\\HYHWPEQ.TTF',\n",
       " 'C:\\\\Windows\\\\Fonts\\\\TCB_____.TTF',\n",
       " 'C:\\\\Windows\\\\Fonts\\\\msyi.ttf',\n",
       " 'C:\\\\Windows\\\\Fonts\\\\ITCEDSCR.TTF',\n",
       " 'C:\\\\Windows\\\\Fonts\\\\HMKMRHD.TTF',\n",
       " 'C:\\\\Windows\\\\Fonts\\\\corbelb.ttf',\n",
       " 'C:\\\\Windows\\\\Fonts\\\\TCCEB.TTF',\n",
       " 'C:\\\\Windows\\\\Fonts\\\\BRLNSB.TTF',\n",
       " 'C:\\\\Windows\\\\Fonts\\\\MM.TTF',\n",
       " 'C:\\\\Windows\\\\Fonts\\\\trebucit.ttf',\n",
       " 'C:\\\\Windows\\\\Fonts\\\\malgun.ttf',\n",
       " 'C:\\\\Windows\\\\Fonts\\\\constanb.ttf',\n",
       " 'C:\\\\Windows\\\\Fonts\\\\bahnschrift.ttf',\n",
       " 'C:\\\\Windows\\\\Fonts\\\\ERASDEMI.TTF',\n",
       " 'C:\\\\Windows\\\\Fonts\\\\INFROMAN.TTF',\n",
       " 'C:\\\\Windows\\\\Fonts\\\\GARA.TTF',\n",
       " 'C:\\\\Windows\\\\Fonts\\\\CALISTI.TTF',\n",
       " 'C:\\\\Windows\\\\Fonts\\\\H2MKPB.TTF',\n",
       " 'C:\\\\Windows\\\\Fonts\\\\comici.ttf',\n",
       " 'C:\\\\Windows\\\\Fonts\\\\PALSCRI.TTF',\n",
       " 'C:\\\\Windows\\\\Fonts\\\\LFAXI.TTF',\n",
       " 'C:\\\\Windows\\\\Fonts\\\\LTYPEO.TTF',\n",
       " 'C:\\\\Windows\\\\Fonts\\\\symbol.ttf',\n",
       " 'C:\\\\Windows\\\\Fonts\\\\CascadiaMono.ttf',\n",
       " 'C:\\\\Windows\\\\Fonts\\\\HANDotumB.ttf',\n",
       " 'C:\\\\Windows\\\\Fonts\\\\RAGE.TTF',\n",
       " 'C:\\\\Windows\\\\Fonts\\\\YuGothL.ttc',\n",
       " 'C:\\\\Windows\\\\Fonts\\\\MISTRAL.TTF',\n",
       " 'C:\\\\Windows\\\\Fonts\\\\Gabriola.ttf',\n",
       " 'C:\\\\Windows\\\\Fonts\\\\ELEPHNT.TTF',\n",
       " 'C:\\\\Windows\\\\Fonts\\\\Candaral.ttf',\n",
       " 'C:\\\\Windows\\\\Fonts\\\\GOTHICB.TTF',\n",
       " 'C:\\\\Windows\\\\Fonts\\\\BERNHC.TTF',\n",
       " 'C:\\\\Windows\\\\Fonts\\\\MH.TTF',\n",
       " 'C:\\\\Windows\\\\Fonts\\\\wingding.ttf',\n",
       " 'C:\\\\Windows\\\\Fonts\\\\WINGDNG2.TTF',\n",
       " 'C:\\\\Windows\\\\Fonts\\\\impact.ttf',\n",
       " 'C:\\\\Windows\\\\Fonts\\\\mingliub.ttc',\n",
       " 'C:\\\\Windows\\\\Fonts\\\\msyhl.ttc',\n",
       " 'C:\\\\Windows\\\\Fonts\\\\HANDotumExt.ttf',\n",
       " 'C:\\\\Windows\\\\Fonts\\\\BOD_PSTC.TTF',\n",
       " 'C:\\\\Windows\\\\Fonts\\\\verdanab.ttf',\n",
       " 'C:\\\\Windows\\\\Fonts\\\\Sitka.ttc',\n",
       " 'C:\\\\Windows\\\\Fonts\\\\phagspab.ttf',\n",
       " 'C:\\\\Windows\\\\Fonts\\\\verdana.ttf',\n",
       " 'C:\\\\Windows\\\\Fonts\\\\TCM_____.TTF',\n",
       " 'C:\\\\Windows\\\\Fonts\\\\GOUDYSTO.TTF',\n",
       " 'C:\\\\Windows\\\\Fonts\\\\BOOKOSBI.TTF',\n",
       " 'C:\\\\Windows\\\\Fonts\\\\GOUDOSI.TTF',\n",
       " 'C:\\\\Windows\\\\Fonts\\\\AGENCYR.TTF',\n",
       " 'C:\\\\Windows\\\\Fonts\\\\MG.TTF',\n",
       " 'C:\\\\Windows\\\\Fonts\\\\PLAYBILL.TTF',\n",
       " 'C:\\\\Windows\\\\Fonts\\\\monbaiti.ttf',\n",
       " 'C:\\\\Windows\\\\Fonts\\\\HMKMMAG.TTF',\n",
       " 'C:\\\\Windows\\\\Fonts\\\\calibrili.ttf',\n",
       " 'C:\\\\Windows\\\\Fonts\\\\calibriz.ttf',\n",
       " 'C:\\\\Windows\\\\Fonts\\\\comicbd.ttf',\n",
       " 'C:\\\\Windows\\\\Fonts\\\\segoeprb.ttf',\n",
       " 'C:\\\\Windows\\\\Fonts\\\\CascadiaCode.ttf',\n",
       " 'C:\\\\Windows\\\\Fonts\\\\FRADMIT.TTF',\n",
       " 'C:\\\\Windows\\\\Fonts\\\\HANBatang.ttf',\n",
       " 'C:\\\\Windows\\\\Fonts\\\\HMFMPYUN.TTF',\n",
       " 'C:\\\\Windows\\\\Fonts\\\\mmrtext.ttf',\n",
       " 'C:\\\\Windows\\\\Fonts\\\\H2PORL.TTF',\n",
       " 'C:\\\\Windows\\\\Fonts\\\\seguisym.ttf',\n",
       " 'C:\\\\Windows\\\\Fonts\\\\H2HDRM.TTF',\n",
       " 'C:\\\\Windows\\\\Fonts\\\\constan.ttf',\n",
       " 'C:\\\\Windows\\\\Fonts\\\\CHILLER.TTF',\n",
       " 'C:\\\\Windows\\\\Fonts\\\\segoeuiz.ttf',\n",
       " 'C:\\\\Windows\\\\Fonts\\\\trebuc.ttf',\n",
       " 'C:\\\\Windows\\\\Fonts\\\\HARLOWSI.TTF',\n",
       " 'C:\\\\Windows\\\\Fonts\\\\seguihis.ttf',\n",
       " 'C:\\\\Windows\\\\Fonts\\\\VINERITC.TTF',\n",
       " 'C:\\\\Windows\\\\Fonts\\\\constanz.ttf',\n",
       " 'C:\\\\Windows\\\\Fonts\\\\CALISTBI.TTF',\n",
       " 'C:\\\\Windows\\\\Fonts\\\\GOTHICI.TTF',\n",
       " 'C:\\\\Windows\\\\Fonts\\\\calibri.ttf',\n",
       " 'C:\\\\Windows\\\\Fonts\\\\GLECB.TTF',\n",
       " 'C:\\\\Windows\\\\Fonts\\\\BKANT.TTF',\n",
       " 'C:\\\\Windows\\\\Fonts\\\\WINGDNG3.TTF',\n",
       " 'C:\\\\Windows\\\\Fonts\\\\AGENCYB.TTF',\n",
       " 'C:\\\\Windows\\\\Fonts\\\\Candaraz.ttf',\n",
       " 'C:\\\\Windows\\\\Fonts\\\\MATURASC.TTF',\n",
       " 'C:\\\\Windows\\\\Fonts\\\\SHOWG.TTF',\n",
       " 'C:\\\\Windows\\\\Fonts\\\\CENTAUR.TTF',\n",
       " 'C:\\\\Windows\\\\Fonts\\\\ROCKI.TTF',\n",
       " 'C:\\\\Windows\\\\Fonts\\\\NirmalaB.ttf',\n",
       " 'C:\\\\Windows\\\\Fonts\\\\BELL.TTF',\n",
       " 'C:\\\\Windows\\\\Fonts\\\\FORTE.TTF',\n",
       " 'C:\\\\Windows\\\\Fonts\\\\timesbi.ttf',\n",
       " 'C:\\\\Windows\\\\Fonts\\\\GILI____.TTF',\n",
       " 'C:\\\\Windows\\\\Fonts\\\\LBRITEI.TTF',\n",
       " 'C:\\\\Windows\\\\Fonts\\\\consola.ttf',\n",
       " 'C:\\\\Windows\\\\Fonts\\\\palai.ttf',\n",
       " 'C:\\\\Windows\\\\Fonts\\\\GILC____.TTF',\n",
       " 'C:\\\\Windows\\\\Fonts\\\\H2GTRE.TTF',\n",
       " 'C:\\\\Windows\\\\Fonts\\\\FRABK.TTF',\n",
       " 'C:\\\\Windows\\\\Fonts\\\\lucon.ttf',\n",
       " 'C:\\\\Windows\\\\Fonts\\\\IMPRISHA.TTF',\n",
       " 'C:\\\\Windows\\\\Fonts\\\\GIL_____.TTF',\n",
       " 'C:\\\\Windows\\\\Fonts\\\\BOD_CBI.TTF',\n",
       " 'C:\\\\Windows\\\\Fonts\\\\BROADW.TTF',\n",
       " 'C:\\\\Windows\\\\Fonts\\\\POORICH.TTF',\n",
       " 'C:\\\\Windows\\\\Fonts\\\\PARCHM.TTF',\n",
       " 'C:\\\\Windows\\\\Fonts\\\\segoesc.ttf',\n",
       " 'C:\\\\Windows\\\\Fonts\\\\GIGI.TTF',\n",
       " 'C:\\\\Windows\\\\Fonts\\\\BELLI.TTF',\n",
       " 'C:\\\\Windows\\\\Fonts\\\\seguisbi.ttf',\n",
       " 'C:\\\\Windows\\\\Fonts\\\\COLONNA.TTF',\n",
       " 'C:\\\\Windows\\\\Fonts\\\\gadugib.ttf',\n",
       " 'C:\\\\Windows\\\\Fonts\\\\calibrii.ttf',\n",
       " 'C:\\\\Windows\\\\Fonts\\\\ROCKBI.TTF',\n",
       " 'C:\\\\Windows\\\\Fonts\\\\segmdl2.ttf',\n",
       " 'C:\\\\Windows\\\\Fonts\\\\msgothic.ttc',\n",
       " 'C:\\\\Windows\\\\Fonts\\\\courbd.ttf',\n",
       " 'C:\\\\Windows\\\\Fonts\\\\SCRIPTBL.TTF',\n",
       " 'C:\\\\Windows\\\\Fonts\\\\BOD_I.TTF',\n",
       " 'C:\\\\Windows\\\\Fonts\\\\ariblk.ttf',\n",
       " 'C:\\\\Windows\\\\Fonts\\\\TCMI____.TTF',\n",
       " 'C:\\\\Windows\\\\Fonts\\\\LTYPE.TTF',\n",
       " 'C:\\\\Windows\\\\Fonts\\\\JUMJA.TTF',\n",
       " 'C:\\\\Windows\\\\Fonts\\\\YuGothB.ttc',\n",
       " 'C:\\\\Windows\\\\Fonts\\\\FRADMCN.TTF',\n",
       " 'C:\\\\Windows\\\\Fonts\\\\constani.ttf',\n",
       " 'C:\\\\Windows\\\\Fonts\\\\HANBatangExt.ttf',\n",
       " 'C:\\\\Windows\\\\Fonts\\\\corbeli.ttf',\n",
       " 'C:\\\\Windows\\\\Fonts\\\\GOUDOS.TTF',\n",
       " 'C:\\\\Windows\\\\Fonts\\\\CALISTB.TTF',\n",
       " 'C:\\\\Windows\\\\Fonts\\\\comic.ttf',\n",
       " 'C:\\\\Windows\\\\Fonts\\\\ROCK.TTF',\n",
       " 'C:\\\\Windows\\\\Fonts\\\\times.ttf',\n",
       " 'C:\\\\Windows\\\\Fonts\\\\corbel.ttf',\n",
       " 'C:\\\\Windows\\\\Fonts\\\\PRISTINA.TTF',\n",
       " 'C:\\\\Windows\\\\Fonts\\\\ROCKEB.TTF',\n",
       " 'C:\\\\Windows\\\\Fonts\\\\ARLRDBD.TTF',\n",
       " 'C:\\\\Windows\\\\Fonts\\\\courbi.ttf',\n",
       " 'C:\\\\Windows\\\\Fonts\\\\corbelz.ttf',\n",
       " 'C:\\\\Windows\\\\Fonts\\\\DUBAI-MEDIUM.TTF',\n",
       " 'C:\\\\Windows\\\\Fonts\\\\H2GSRB.TTF',\n",
       " 'C:\\\\Windows\\\\Fonts\\\\framd.ttf',\n",
       " 'C:\\\\Windows\\\\Fonts\\\\JOKERMAN.TTF',\n",
       " 'C:\\\\Windows\\\\Fonts\\\\HTOWERTI.TTF',\n",
       " 'C:\\\\Windows\\\\Fonts\\\\H2GPRM.TTF',\n",
       " 'C:\\\\Windows\\\\Fonts\\\\ntailub.ttf',\n",
       " 'C:\\\\Windows\\\\Fonts\\\\GLSNECB.TTF',\n",
       " 'C:\\\\Windows\\\\Fonts\\\\BRUSHSCI.TTF',\n",
       " 'C:\\\\Windows\\\\Fonts\\\\MSUIGHUR.TTF',\n",
       " 'C:\\\\Windows\\\\Fonts\\\\couri.ttf',\n",
       " 'C:\\\\Windows\\\\Fonts\\\\TCCB____.TTF',\n",
       " 'C:\\\\Windows\\\\Fonts\\\\NirmalaS.ttf',\n",
       " 'C:\\\\Windows\\\\Fonts\\\\MJ.TTF',\n",
       " 'C:\\\\Windows\\\\Fonts\\\\ANTQUAI.TTF',\n",
       " 'C:\\\\Windows\\\\Fonts\\\\corbell.ttf',\n",
       " 'C:\\\\Windows\\\\Fonts\\\\holomdl2.ttf',\n",
       " 'C:\\\\Windows\\\\Fonts\\\\RAVIE.TTF',\n",
       " 'C:\\\\Windows\\\\Fonts\\\\msyhbd.ttc',\n",
       " 'C:\\\\Windows\\\\Fonts\\\\BOOKOSB.TTF',\n",
       " 'C:\\\\Windows\\\\Fonts\\\\MK.TTF',\n",
       " 'C:\\\\Windows\\\\Fonts\\\\LeelawUI.ttf',\n",
       " 'C:\\\\Windows\\\\Fonts\\\\verdanai.ttf',\n",
       " 'C:\\\\Windows\\\\Fonts\\\\MP.TTF',\n",
       " 'C:\\\\Windows\\\\Fonts\\\\CURLZ___.TTF',\n",
       " 'C:\\\\Windows\\\\Fonts\\\\Candarali.ttf',\n",
       " 'C:\\\\Windows\\\\Fonts\\\\BOD_R.TTF',\n",
       " 'C:\\\\Windows\\\\Fonts\\\\COOPBL.TTF',\n",
       " 'C:\\\\Windows\\\\Fonts\\\\Candara.ttf',\n",
       " 'C:\\\\Windows\\\\Fonts\\\\BELLB.TTF',\n",
       " 'C:\\\\Windows\\\\Fonts\\\\mmrtextb.ttf',\n",
       " 'C:\\\\Windows\\\\Fonts\\\\cambriab.ttf',\n",
       " 'C:\\\\Windows\\\\Fonts\\\\YuGothR.ttc',\n",
       " 'C:\\\\Windows\\\\Fonts\\\\BOD_BLAI.TTF',\n",
       " 'C:\\\\Windows\\\\Fonts\\\\KUNSTLER.TTF',\n",
       " 'C:\\\\Windows\\\\Fonts\\\\FRAHVIT.TTF',\n",
       " 'C:\\\\Windows\\\\Fonts\\\\HMKMAMI.TTF',\n",
       " 'C:\\\\Windows\\\\Fonts\\\\segoeuil.ttf',\n",
       " 'C:\\\\Windows\\\\Fonts\\\\Candarab.ttf',\n",
       " 'C:\\\\Windows\\\\Fonts\\\\HMFMMUEX.TTC',\n",
       " 'C:\\\\Windows\\\\Fonts\\\\LTYPEB.TTF',\n",
       " 'C:\\\\Windows\\\\Fonts\\\\LeelaUIb.ttf',\n",
       " 'C:\\\\Windows\\\\Fonts\\\\HANDotum.ttf',\n",
       " 'C:\\\\Windows\\\\Fonts\\\\BRITANIC.TTF',\n",
       " 'C:\\\\Windows\\\\Fonts\\\\georgia.ttf',\n",
       " 'C:\\\\Windows\\\\Fonts\\\\ROCKB.TTF',\n",
       " 'C:\\\\Windows\\\\Fonts\\\\seguibl.ttf',\n",
       " 'C:\\\\Windows\\\\Fonts\\\\PERTIBD.TTF',\n",
       " 'C:\\\\Windows\\\\Fonts\\\\LCALLIG.TTF',\n",
       " 'C:\\\\Windows\\\\Fonts\\\\webdings.ttf',\n",
       " 'C:\\\\Windows\\\\Fonts\\\\HANBatangExtBB.ttf',\n",
       " 'C:\\\\Windows\\\\Fonts\\\\BOD_CI.TTF',\n",
       " 'C:\\\\Windows\\\\Fonts\\\\LATINWD.TTF',\n",
       " 'C:\\\\Windows\\\\Fonts\\\\MT.TTF',\n",
       " 'C:\\\\Windows\\\\Fonts\\\\MB.TTF',\n",
       " 'C:\\\\Windows\\\\Fonts\\\\ALGER.TTF',\n",
       " 'C:\\\\Windows\\\\Fonts\\\\segoepr.ttf',\n",
       " 'C:\\\\Windows\\\\Fonts\\\\batang.ttc',\n",
       " 'C:\\\\Windows\\\\Fonts\\\\arial.ttf',\n",
       " 'C:\\\\Windows\\\\Fonts\\\\LFAXDI.TTF',\n",
       " 'C:\\\\Windows\\\\Fonts\\\\REFSPCL.TTF',\n",
       " 'C:\\\\Windows\\\\Fonts\\\\LSANSDI.TTF',\n",
       " 'C:\\\\Windows\\\\Fonts\\\\SitkaB.ttc',\n",
       " 'C:\\\\Windows\\\\Fonts\\\\MAIAN.TTF',\n",
       " 'C:\\\\Windows\\\\Fonts\\\\H2PORM.TTF',\n",
       " 'C:\\\\Windows\\\\Fonts\\\\FRADM.TTF',\n",
       " 'C:\\\\Windows\\\\Fonts\\\\DUBAI-BOLD.TTF',\n",
       " 'C:\\\\Windows\\\\Fonts\\\\arialbd.ttf',\n",
       " 'C:\\\\Windows\\\\Fonts\\\\ONYX.TTF',\n",
       " 'C:\\\\Windows\\\\Fonts\\\\simsunb.ttf',\n",
       " 'C:\\\\Windows\\\\Fonts\\\\FTLTLT.TTF',\n",
       " 'C:\\\\Windows\\\\Fonts\\\\FRAMDCN.TTF',\n",
       " 'C:\\\\Windows\\\\Fonts\\\\FREESCPT.TTF',\n",
       " 'C:\\\\Windows\\\\Fonts\\\\VIVALDII.TTF',\n",
       " 'C:\\\\Windows\\\\Fonts\\\\Nirmala.ttf',\n",
       " 'C:\\\\Windows\\\\Fonts\\\\corbelli.ttf',\n",
       " 'C:\\\\Windows\\\\Fonts\\\\palab.ttf',\n",
       " 'C:\\\\Windows\\\\Fonts\\\\CENTURY.TTF',\n",
       " 'C:\\\\Windows\\\\Fonts\\\\mvboli.ttf',\n",
       " 'C:\\\\Windows\\\\Fonts\\\\trebucbi.ttf',\n",
       " 'C:\\\\Windows\\\\Fonts\\\\seguili.ttf',\n",
       " 'C:\\\\Windows\\\\Fonts\\\\BRLNSR.TTF',\n",
       " 'C:\\\\Windows\\\\Fonts\\\\GARAIT.TTF',\n",
       " 'C:\\\\Windows\\\\Fonts\\\\LBRITE.TTF',\n",
       " 'C:\\\\Windows\\\\Fonts\\\\ARIALNB.TTF',\n",
       " 'C:\\\\Windows\\\\Fonts\\\\GOUDOSB.TTF',\n",
       " 'C:\\\\Windows\\\\Fonts\\\\ERASBD.TTF',\n",
       " 'C:\\\\Windows\\\\Fonts\\\\BRADHITC.TTF',\n",
       " 'C:\\\\Windows\\\\Fonts\\\\BOD_BLAR.TTF',\n",
       " 'C:\\\\Windows\\\\Fonts\\\\LEELAWDB.TTF',\n",
       " 'C:\\\\Windows\\\\Fonts\\\\DUBAI-REGULAR.TTF',\n",
       " 'C:\\\\Windows\\\\Fonts\\\\CALIFB.TTF',\n",
       " 'C:\\\\Windows\\\\Fonts\\\\HATTEN.TTF',\n",
       " 'C:\\\\Windows\\\\Fonts\\\\H2SA1M.TTF',\n",
       " 'C:\\\\Windows\\\\Fonts\\\\BOOKOS.TTF',\n",
       " 'C:\\\\Windows\\\\Fonts\\\\segoeui.ttf',\n",
       " 'C:\\\\Windows\\\\Fonts\\\\STENCIL.TTF',\n",
       " 'C:\\\\Windows\\\\Fonts\\\\segoeuisl.ttf',\n",
       " 'C:\\\\Windows\\\\Fonts\\\\CENSCBK.TTF',\n",
       " 'C:\\\\Windows\\\\Fonts\\\\CALIFI.TTF',\n",
       " 'C:\\\\Windows\\\\Fonts\\\\l_10646.ttf',\n",
       " 'C:\\\\Windows\\\\Fonts\\\\ANTQUAB.TTF',\n",
       " 'C:\\\\Windows\\\\Fonts\\\\LeelUIsl.ttf',\n",
       " 'C:\\\\Windows\\\\Fonts\\\\BOD_CB.TTF',\n",
       " 'C:\\\\Windows\\\\Fonts\\\\LBRITEDI.TTF',\n",
       " 'C:\\\\Windows\\\\Fonts\\\\MTEXTRA.TTF',\n",
       " 'C:\\\\Windows\\\\Fonts\\\\NIAGENG.TTF',\n",
       " 'C:\\\\Windows\\\\Fonts\\\\timesi.ttf',\n",
       " 'C:\\\\Windows\\\\Fonts\\\\CALIST.TTF',\n",
       " 'C:\\\\Windows\\\\Fonts\\\\MSUIGHUB.TTF',\n",
       " 'C:\\\\Windows\\\\Fonts\\\\SCHLBKBI.TTF',\n",
       " 'C:\\\\Windows\\\\Fonts\\\\BASKVILL.TTF',\n",
       " 'C:\\\\Windows\\\\Fonts\\\\msyh.ttc',\n",
       " 'C:\\\\Windows\\\\Fonts\\\\himalaya.ttf',\n",
       " 'C:\\\\Windows\\\\Fonts\\\\msjhbd.ttc',\n",
       " 'C:\\\\Windows\\\\Fonts\\\\CASTELAR.TTF',\n",
       " 'C:\\\\Windows\\\\Fonts\\\\ntailu.ttf',\n",
       " 'C:\\\\Windows\\\\Fonts\\\\TEMPSITC.TTF',\n",
       " 'C:\\\\Windows\\\\Fonts\\\\malgunsl.ttf',\n",
       " 'C:\\\\Windows\\\\Fonts\\\\calibril.ttf',\n",
       " 'C:\\\\Windows\\\\Fonts\\\\consolai.ttf',\n",
       " 'C:\\\\Windows\\\\Fonts\\\\verdanaz.ttf',\n",
       " 'C:\\\\Windows\\\\Fonts\\\\H2MJRE.TTF',\n",
       " 'C:\\\\Windows\\\\Fonts\\\\taileb.ttf',\n",
       " 'C:\\\\Windows\\\\Fonts\\\\gulim.ttc',\n",
       " 'C:\\\\Windows\\\\Fonts\\\\seguibli.ttf',\n",
       " 'C:\\\\Windows\\\\Fonts\\\\ebrimabd.ttf',\n",
       " 'C:\\\\Windows\\\\Fonts\\\\gadugi.ttf',\n",
       " 'C:\\\\Windows\\\\Fonts\\\\TCBI____.TTF',\n",
       " 'C:\\\\Windows\\\\Fonts\\\\ITCKRIST.TTF',\n",
       " 'C:\\\\Windows\\\\Fonts\\\\HTOWERT.TTF',\n",
       " 'C:\\\\Windows\\\\Fonts\\\\framdit.ttf',\n",
       " 'C:\\\\Windows\\\\Fonts\\\\ROCC____.TTF',\n",
       " 'C:\\\\Windows\\\\Fonts\\\\OLDENGL.TTF',\n",
       " 'C:\\\\Windows\\\\Fonts\\\\LHANDW.TTF',\n",
       " 'C:\\\\Windows\\\\Fonts\\\\segoeuii.ttf',\n",
       " 'C:\\\\Windows\\\\Fonts\\\\GOTHIC.TTF',\n",
       " 'C:\\\\Windows\\\\Fonts\\\\LSANSI.TTF',\n",
       " 'C:\\\\Windows\\\\Fonts\\\\SCHLBKB.TTF',\n",
       " 'C:\\\\Windows\\\\Fonts\\\\CALIFR.TTF',\n",
       " 'C:\\\\Windows\\\\Fonts\\\\OCRAEXT.TTF',\n",
       " 'C:\\\\Windows\\\\Fonts\\\\FRAHV.TTF',\n",
       " 'C:\\\\Windows\\\\Fonts\\\\ARIALNI.TTF',\n",
       " 'C:\\\\Windows\\\\Fonts\\\\msjhl.ttc']"
      ]
     },
     "execution_count": 52,
     "metadata": {},
     "output_type": "execute_result"
    }
   ],
   "source": [
    "font_list = fm.findSystemFonts(fontpaths = None, fontext = 'ttf')\n",
    "font_list\n"
   ]
  },
  {
   "cell_type": "code",
   "execution_count": 53,
   "id": "add3f11f",
   "metadata": {},
   "outputs": [
    {
     "data": {
      "text/plain": [
       "'C:\\\\Users\\\\배진우\\\\AppData\\\\Local\\\\Microsoft\\\\Windows\\\\Fonts\\\\NanumGothic.ttf'"
      ]
     },
     "execution_count": 53,
     "metadata": {},
     "output_type": "execute_result"
    }
   ],
   "source": [
    "'C:\\\\Users\\\\배진우\\\\AppData\\\\Local\\\\Microsoft\\\\Windows\\\\Fonts\\\\NanumGothic.ttf'"
   ]
  },
  {
   "cell_type": "code",
   "execution_count": 54,
   "id": "ce468f87",
   "metadata": {},
   "outputs": [
    {
     "name": "stderr",
     "output_type": "stream",
     "text": [
      "'sudo'은(는) 내부 또는 외부 명령, 실행할 수 있는 프로그램, 또는\n",
      "배치 파일이 아닙니다.\n"
     ]
    }
   ],
   "source": [
    "!sudo fc-cache -fv\n"
   ]
  },
  {
   "cell_type": "code",
   "execution_count": 55,
   "id": "cb86a5b6",
   "metadata": {},
   "outputs": [
    {
     "name": "stderr",
     "output_type": "stream",
     "text": [
      "'rm'은(는) 내부 또는 외부 명령, 실행할 수 있는 프로그램, 또는\n",
      "배치 파일이 아닙니다.\n"
     ]
    }
   ],
   "source": [
    "!rm ~/.cache/matplotlib -rf"
   ]
  },
  {
   "cell_type": "code",
   "execution_count": 56,
   "id": "e5cdce97",
   "metadata": {},
   "outputs": [],
   "source": [
    "import pandas as pd\n",
    "import matplotlib.pyplot as plt\n",
    "import numpy as np\n",
    "import matplotlib"
   ]
  },
  {
   "cell_type": "code",
   "execution_count": 57,
   "id": "8fc7fef1",
   "metadata": {},
   "outputs": [
    {
     "data": {
      "text/plain": [
       "['NanumGothic']"
      ]
     },
     "execution_count": 57,
     "metadata": {},
     "output_type": "execute_result"
    }
   ],
   "source": [
    "# 한글설정\n",
    "matplotlib.rcParams['font.family']"
   ]
  },
  {
   "cell_type": "code",
   "execution_count": 58,
   "id": "8b796dc3",
   "metadata": {},
   "outputs": [],
   "source": [
    "matplotlib.rcParams['font.family'] = 'NanumGothic'"
   ]
  },
  {
   "cell_type": "code",
   "execution_count": 59,
   "id": "f5a64118",
   "metadata": {},
   "outputs": [],
   "source": [
    "matplotlib.rcParams['axes.unicode_minus'] = False"
   ]
  },
  {
   "cell_type": "code",
   "execution_count": 60,
   "id": "2b51f19c",
   "metadata": {},
   "outputs": [
    {
     "data": {
      "text/plain": [
       "['Solarize_Light2',\n",
       " '_classic_test_patch',\n",
       " 'bmh',\n",
       " 'classic',\n",
       " 'dark_background',\n",
       " 'fast',\n",
       " 'fivethirtyeight',\n",
       " 'ggplot',\n",
       " 'grayscale',\n",
       " 'seaborn',\n",
       " 'seaborn-bright',\n",
       " 'seaborn-colorblind',\n",
       " 'seaborn-dark',\n",
       " 'seaborn-dark-palette',\n",
       " 'seaborn-darkgrid',\n",
       " 'seaborn-deep',\n",
       " 'seaborn-muted',\n",
       " 'seaborn-notebook',\n",
       " 'seaborn-paper',\n",
       " 'seaborn-pastel',\n",
       " 'seaborn-poster',\n",
       " 'seaborn-talk',\n",
       " 'seaborn-ticks',\n",
       " 'seaborn-white',\n",
       " 'seaborn-whitegrid',\n",
       " 'tableau-colorblind10']"
      ]
     },
     "execution_count": 60,
     "metadata": {},
     "output_type": "execute_result"
    }
   ],
   "source": [
    "plt.style.available"
   ]
  },
  {
   "cell_type": "code",
   "execution_count": 61,
   "id": "55f994ea",
   "metadata": {},
   "outputs": [
    {
     "data": {
      "text/plain": [
       "[<matplotlib.lines.Line2D at 0x2060dc97be0>]"
      ]
     },
     "execution_count": 61,
     "metadata": {},
     "output_type": "execute_result"
    },
    {
     "data": {
      "image/png": "[encoded data removed]",
      "text/plain": [
       "<Figure size 432x288 with 1 Axes>"
      ]
     },
     "metadata": {
      "needs_background": "light"
     },
     "output_type": "display_data"
    }
   ],
   "source": [
    "x = np.linspace(0, 10, 100)\n",
    "y = 4 + 2 * np.sin(2 * x)\n",
    "\n",
    "fig, ax = plt.subplots()\n",
    "\n",
    "ax.set(xlim = (0, 8),\n",
    "      xticks = np.arange(1, 8),\n",
    "      ylim = (0, 8),\n",
    "      yticks= np.arange(1,8)\n",
    ")\n",
    "\n",
    "ax.plot(x, y, linewidth=2.0)"
   ]
  },
  {
   "cell_type": "code",
   "execution_count": 62,
   "id": "db7b2077",
   "metadata": {},
   "outputs": [
    {
     "data": {
      "text/plain": [
       "1     0.280085\n",
       "11    0.531958\n",
       "21    0.611752\n",
       "31    0.889733\n",
       "41    0.990265\n",
       "51    1.563830\n",
       "61    1.715670\n",
       "71    2.630402\n",
       "81    3.544256\n",
       "91    3.957339\n",
       "dtype: float64"
      ]
     },
     "execution_count": 62,
     "metadata": {},
     "output_type": "execute_result"
    }
   ],
   "source": [
    "s = pd.Series(\n",
    "    np.random.rand(10).cumsum(), \n",
    "    index = np.arange(1, 100, 10))\n",
    "s"
   ]
  },
  {
   "cell_type": "code",
   "execution_count": 63,
   "id": "e4f7f74a",
   "metadata": {},
   "outputs": [
    {
     "data": {
      "text/plain": [
       "<AxesSubplot:>"
      ]
     },
     "execution_count": 63,
     "metadata": {},
     "output_type": "execute_result"
    },
    {
     "data": {
      "image/png": "[encoded data removed]",
      "text/plain": [
       "<Figure size 720x720 with 1 Axes>"
      ]
     },
     "metadata": {
      "needs_background": "light"
     },
     "output_type": "display_data"
    }
   ],
   "source": [
    "s.plot(figsize =(10, 10))"
   ]
  },
  {
   "cell_type": "code",
   "execution_count": 64,
   "id": "5ce3bab3",
   "metadata": {},
   "outputs": [
    {
     "data": {
      "text/html": [
       "<div>\n",
       "<style scoped>\n",
       "    .dataframe tbody tr th:only-of-type {\n",
       "        vertical-align: middle;\n",
       "    }\n",
       "\n",
       "    .dataframe tbody tr th {\n",
       "        vertical-align: top;\n",
       "    }\n",
       "\n",
       "    .dataframe thead th {\n",
       "        text-align: right;\n",
       "    }\n",
       "</style>\n",
       "<table border=\"1\" class=\"dataframe\">\n",
       "  <thead>\n",
       "    <tr style=\"text-align: right;\">\n",
       "      <th></th>\n",
       "      <th>A</th>\n",
       "      <th>B</th>\n",
       "      <th>C</th>\n",
       "      <th>D</th>\n",
       "    </tr>\n",
       "  </thead>\n",
       "  <tbody>\n",
       "    <tr>\n",
       "      <th>0</th>\n",
       "      <td>1.549291</td>\n",
       "      <td>0.204934</td>\n",
       "      <td>1.580958</td>\n",
       "      <td>1.467027</td>\n",
       "    </tr>\n",
       "    <tr>\n",
       "      <th>10</th>\n",
       "      <td>1.899554</td>\n",
       "      <td>-1.391483</td>\n",
       "      <td>2.283643</td>\n",
       "      <td>2.274753</td>\n",
       "    </tr>\n",
       "    <tr>\n",
       "      <th>20</th>\n",
       "      <td>0.983571</td>\n",
       "      <td>0.404575</td>\n",
       "      <td>2.183486</td>\n",
       "      <td>1.158908</td>\n",
       "    </tr>\n",
       "    <tr>\n",
       "      <th>30</th>\n",
       "      <td>1.048346</td>\n",
       "      <td>-0.291129</td>\n",
       "      <td>2.181844</td>\n",
       "      <td>0.665257</td>\n",
       "    </tr>\n",
       "    <tr>\n",
       "      <th>40</th>\n",
       "      <td>1.416468</td>\n",
       "      <td>1.220193</td>\n",
       "      <td>1.615425</td>\n",
       "      <td>-0.640862</td>\n",
       "    </tr>\n",
       "    <tr>\n",
       "      <th>50</th>\n",
       "      <td>2.394209</td>\n",
       "      <td>1.950062</td>\n",
       "      <td>1.386720</td>\n",
       "      <td>-0.653580</td>\n",
       "    </tr>\n",
       "    <tr>\n",
       "      <th>60</th>\n",
       "      <td>0.498044</td>\n",
       "      <td>3.278346</td>\n",
       "      <td>-0.205904</td>\n",
       "      <td>-0.713458</td>\n",
       "    </tr>\n",
       "    <tr>\n",
       "      <th>70</th>\n",
       "      <td>0.671346</td>\n",
       "      <td>3.110966</td>\n",
       "      <td>0.470409</td>\n",
       "      <td>2.010500</td>\n",
       "    </tr>\n",
       "    <tr>\n",
       "      <th>80</th>\n",
       "      <td>-0.571661</td>\n",
       "      <td>4.133517</td>\n",
       "      <td>-0.322530</td>\n",
       "      <td>2.432261</td>\n",
       "    </tr>\n",
       "    <tr>\n",
       "      <th>90</th>\n",
       "      <td>-1.925777</td>\n",
       "      <td>2.928192</td>\n",
       "      <td>-0.133109</td>\n",
       "      <td>-0.389272</td>\n",
       "    </tr>\n",
       "  </tbody>\n",
       "</table>\n",
       "</div>"
      ],
      "text/plain": [
       "           A         B         C         D\n",
       "0   1.549291  0.204934  1.580958  1.467027\n",
       "10  1.899554 -1.391483  2.283643  2.274753\n",
       "20  0.983571  0.404575  2.183486  1.158908\n",
       "30  1.048346 -0.291129  2.181844  0.665257\n",
       "40  1.416468  1.220193  1.615425 -0.640862\n",
       "50  2.394209  1.950062  1.386720 -0.653580\n",
       "60  0.498044  3.278346 -0.205904 -0.713458\n",
       "70  0.671346  3.110966  0.470409  2.010500\n",
       "80 -0.571661  4.133517 -0.322530  2.432261\n",
       "90 -1.925777  2.928192 -0.133109 -0.389272"
      ]
     },
     "execution_count": 64,
     "metadata": {},
     "output_type": "execute_result"
    }
   ],
   "source": [
    "df = pd.DataFrame(\n",
    "    np.random.randn(10, 4).cumsum(axis = 0),\n",
    "    columns =['A', 'B', 'C', 'D'],\n",
    "    index =np.arange(0, 100, 10))\n",
    "df"
   ]
  },
  {
   "cell_type": "code",
   "execution_count": 65,
   "id": "a9c11e32",
   "metadata": {},
   "outputs": [
    {
     "data": {
      "text/plain": [
       "<AxesSubplot:>"
      ]
     },
     "execution_count": 65,
     "metadata": {},
     "output_type": "execute_result"
    },
    {
     "data": {
      "image/png": "[encoded data removed]",
      "text/plain": [
       "<Figure size 432x288 with 1 Axes>"
      ]
     },
     "metadata": {
      "needs_background": "light"
     },
     "output_type": "display_data"
    }
   ],
   "source": [
    "df.plot()"
   ]
  },
  {
   "cell_type": "code",
   "execution_count": 66,
   "id": "075c04bd",
   "metadata": {},
   "outputs": [
    {
     "name": "stderr",
     "output_type": "stream",
     "text": [
      "C:\\anaconda3\\lib\\site-packages\\matplotlib\\backends\\backend_agg.py:240: RuntimeWarning: Glyph 51004 missing from current font.\n",
      "  font.set_text(s, 0.0, flags=flags)\n",
      "C:\\anaconda3\\lib\\site-packages\\matplotlib\\backends\\backend_agg.py:240: RuntimeWarning: Glyph 47196 missing from current font.\n",
      "  font.set_text(s, 0.0, flags=flags)\n",
      "C:\\anaconda3\\lib\\site-packages\\matplotlib\\backends\\backend_agg.py:240: RuntimeWarning: Glyph 54616 missing from current font.\n",
      "  font.set_text(s, 0.0, flags=flags)\n",
      "C:\\anaconda3\\lib\\site-packages\\matplotlib\\backends\\backend_agg.py:240: RuntimeWarning: Glyph 44592 missing from current font.\n",
      "  font.set_text(s, 0.0, flags=flags)\n",
      "C:\\anaconda3\\lib\\site-packages\\matplotlib\\backends\\backend_agg.py:203: RuntimeWarning: Glyph 51004 missing from current font.\n",
      "  font.set_text(s, 0, flags=flags)\n",
      "C:\\anaconda3\\lib\\site-packages\\matplotlib\\backends\\backend_agg.py:203: RuntimeWarning: Glyph 47196 missing from current font.\n",
      "  font.set_text(s, 0, flags=flags)\n",
      "C:\\anaconda3\\lib\\site-packages\\matplotlib\\backends\\backend_agg.py:203: RuntimeWarning: Glyph 54616 missing from current font.\n",
      "  font.set_text(s, 0, flags=flags)\n",
      "C:\\anaconda3\\lib\\site-packages\\matplotlib\\backends\\backend_agg.py:203: RuntimeWarning: Glyph 44592 missing from current font.\n",
      "  font.set_text(s, 0, flags=flags)\n"
     ]
    },
    {
     "data": {
      "image/png": "[encoded data removed]",
      "text/plain": [
       "<Figure size 432x288 with 1 Axes>"
      ]
     },
     "metadata": {
      "needs_background": "light"
     },
     "output_type": "display_data"
    }
   ],
   "source": [
    "plt.figure()\n",
    "plt.plot(df.index, df['A'])\n",
    "plt.plot(df.index, df['B'])\n",
    "plt.plot(df.index, df['C'])\n",
    "plt.plot(df.index, df['D'])\n",
    "plt.title('pyplot으로 plot하기')\n",
    "plt.legend(df.columns)\n",
    "plt.show()"
   ]
  },
  {
   "cell_type": "code",
   "execution_count": 67,
   "id": "d608cf4f",
   "metadata": {
    "scrolled": true
   },
   "outputs": [
    {
     "data": {
      "text/plain": [
       "[<matplotlib.lines.Line2D at 0x2060ddc93d0>]"
      ]
     },
     "execution_count": 67,
     "metadata": {},
     "output_type": "execute_result"
    },
    {
     "data": {
      "image/png": "[encoded data removed]",
      "text/plain": [
       "<Figure size 432x288 with 1 Axes>"
      ]
     },
     "metadata": {
      "needs_background": "light"
     },
     "output_type": "display_data"
    }
   ],
   "source": [
    "plt.plot(df.index, df['B'])"
   ]
  },
  {
   "cell_type": "code",
   "execution_count": 72,
   "id": "84506ff8",
   "metadata": {},
   "outputs": [
    {
     "data": {
      "image/png": "[encoded data removed]",
      "text/plain": [
       "<Figure size 432x288 with 1 Axes>"
      ]
     },
     "metadata": {
      "needs_background": "light"
     },
     "output_type": "display_data"
    }
   ],
   "source": [
    "np.random.seed(3)\n",
    "\n",
    "x = 0.5 + np.arange(8)\n",
    "y = np.random.uniform(2, 7, len(x))\n",
    "\n",
    "fig, ax = plt.subplots()\n",
    "\n",
    "ax.bar(x, y, width=1, edgecolor='white', linewidth=0.7)\n",
    "\n",
    "ax.set(\n",
    "    xlim=(0, 8), xticks=np.arange(1, 8),\n",
    "    ylim=(0, 8), yticks=np.arange(1, 8),\n",
    ")\n",
    "\n",
    "plt.show()\n"
   ]
  },
  {
   "cell_type": "code",
   "execution_count": 74,
   "id": "2541bace",
   "metadata": {},
   "outputs": [
    {
     "data": {
      "image/png": "[encoded data removed]",
      "text/plain": [
       "<Figure size 432x288 with 1 Axes>"
      ]
     },
     "metadata": {
      "needs_background": "light"
     },
     "output_type": "display_data"
    }
   ],
   "source": [
    "import matplotlib.pyplot as plt\n",
    "import numpy as np\n",
    "\n",
    "x = np.arange(3)\n",
    "years = ['2018', '2019', '2020']\n",
    "values = [100, 400, 900]\n",
    "\n",
    "plt.bar(x, values, color=['r', 'g', 'b'])\n",
    "plt.xticks(x, years)\n",
    "\n",
    "plt.show()"
   ]
  },
  {
   "cell_type": "code",
   "execution_count": 95,
   "id": "16bd75f6",
   "metadata": {},
   "outputs": [
    {
     "data": {
      "text/plain": [
       "array([[0.85097142, 0.54359433, 0.08979087, 0.48887324],\n",
       "       [0.92793635, 0.7876182 , 0.48509423, 0.45527936],\n",
       "       [0.21798577, 0.17721338, 0.07362367, 0.89239319],\n",
       "       [0.64017662, 0.14333232, 0.41412692, 0.04910892],\n",
       "       [0.20937335, 0.73070812, 0.65112277, 0.4789783 ],\n",
       "       [0.27478051, 0.65222313, 0.95644951, 0.43552056]])"
      ]
     },
     "execution_count": 95,
     "metadata": {},
     "output_type": "execute_result"
    }
   ],
   "source": [
    "data = np.random.rand(6,4)\n",
    "\n",
    "data"
   ]
  },
  {
   "cell_type": "code",
   "execution_count": 96,
   "id": "6bd1dffa",
   "metadata": {},
   "outputs": [
    {
     "data": {
      "text/html": [
       "<div>\n",
       "<style scoped>\n",
       "    .dataframe tbody tr th:only-of-type {\n",
       "        vertical-align: middle;\n",
       "    }\n",
       "\n",
       "    .dataframe tbody tr th {\n",
       "        vertical-align: top;\n",
       "    }\n",
       "\n",
       "    .dataframe thead th {\n",
       "        text-align: right;\n",
       "    }\n",
       "</style>\n",
       "<table border=\"1\" class=\"dataframe\">\n",
       "  <thead>\n",
       "    <tr style=\"text-align: right;\">\n",
       "      <th></th>\n",
       "      <th>A</th>\n",
       "      <th>B</th>\n",
       "      <th>C</th>\n",
       "      <th>D</th>\n",
       "    </tr>\n",
       "  </thead>\n",
       "  <tbody>\n",
       "    <tr>\n",
       "      <th>0</th>\n",
       "      <td>0.850971</td>\n",
       "      <td>0.543594</td>\n",
       "      <td>0.089791</td>\n",
       "      <td>0.488873</td>\n",
       "    </tr>\n",
       "    <tr>\n",
       "      <th>1</th>\n",
       "      <td>0.927936</td>\n",
       "      <td>0.787618</td>\n",
       "      <td>0.485094</td>\n",
       "      <td>0.455279</td>\n",
       "    </tr>\n",
       "    <tr>\n",
       "      <th>2</th>\n",
       "      <td>0.217986</td>\n",
       "      <td>0.177213</td>\n",
       "      <td>0.073624</td>\n",
       "      <td>0.892393</td>\n",
       "    </tr>\n",
       "    <tr>\n",
       "      <th>3</th>\n",
       "      <td>0.640177</td>\n",
       "      <td>0.143332</td>\n",
       "      <td>0.414127</td>\n",
       "      <td>0.049109</td>\n",
       "    </tr>\n",
       "    <tr>\n",
       "      <th>4</th>\n",
       "      <td>0.209373</td>\n",
       "      <td>0.730708</td>\n",
       "      <td>0.651123</td>\n",
       "      <td>0.478978</td>\n",
       "    </tr>\n",
       "    <tr>\n",
       "      <th>5</th>\n",
       "      <td>0.274781</td>\n",
       "      <td>0.652223</td>\n",
       "      <td>0.956450</td>\n",
       "      <td>0.435521</td>\n",
       "    </tr>\n",
       "  </tbody>\n",
       "</table>\n",
       "</div>"
      ],
      "text/plain": [
       "          A         B         C         D\n",
       "0  0.850971  0.543594  0.089791  0.488873\n",
       "1  0.927936  0.787618  0.485094  0.455279\n",
       "2  0.217986  0.177213  0.073624  0.892393\n",
       "3  0.640177  0.143332  0.414127  0.049109\n",
       "4  0.209373  0.730708  0.651123  0.478978\n",
       "5  0.274781  0.652223  0.956450  0.435521"
      ]
     },
     "execution_count": 96,
     "metadata": {},
     "output_type": "execute_result"
    }
   ],
   "source": [
    "# index = ['one', 'two', 'three', 'four', 'five', 'six']\n",
    "columns = pd.Index(['A', 'B', 'C', 'D'])\n",
    "\n",
    "df = pd.DataFrame(\n",
    "    data,\n",
    "#     index = index,\n",
    "    columns = columns)\n",
    "\n",
    "df"
   ]
  },
  {
   "cell_type": "code",
   "execution_count": 99,
   "id": "6e51ffff",
   "metadata": {},
   "outputs": [
    {
     "data": {
      "text/plain": [
       "<AxesSubplot:>"
      ]
     },
     "execution_count": 99,
     "metadata": {},
     "output_type": "execute_result"
    },
    {
     "data": {
      "image/png": "[encoded data removed]",
      "text/plain": [
       "<Figure size 720x360 with 1 Axes>"
      ]
     },
     "metadata": {
      "needs_background": "light"
     },
     "output_type": "display_data"
    }
   ],
   "source": [
    "df.plot(kind='bar', figsize=(10,5))"
   ]
  },
  {
   "cell_type": "code",
   "execution_count": 112,
   "id": "a9ce6371",
   "metadata": {},
   "outputs": [
    {
     "data": {
      "image/png": "[encoded data removed]",
      "text/plain": [
       "<Figure size 432x288 with 1 Axes>"
      ]
     },
     "metadata": {
      "needs_background": "light"
     },
     "output_type": "display_data"
    }
   ],
   "source": [
    "w = 0.2\n",
    "plt.bar(df.index-2*w, df['A'], width=w)\n",
    "plt.bar(df.index-w, df['B'], width=w)\n",
    "plt.bar(df.index, df['C'], width=w)\n",
    "plt.bar(df.index+w, df['D'], width=w)\n",
    "\n",
    "plt.xticks(df.index, index)\n",
    "\n",
    "plt.show()"
   ]
  },
  {
   "cell_type": "code",
   "execution_count": 120,
   "id": "14c173a6",
   "metadata": {},
   "outputs": [
    {
     "data": {
      "image/png": "[encoded data removed]",
      "text/plain": [
       "<Figure size 432x288 with 1 Axes>"
      ]
     },
     "metadata": {
      "needs_background": "light"
     },
     "output_type": "display_data"
    }
   ],
   "source": [
    "w = 0.2\n",
    "# plt.bar(df.index, df['A'])\n",
    "# plt.bar(df.index, df['B'])\n",
    "# plt.bar(df.index, df['C'])\n",
    "# plt.bar(df.index, df['D'])\n",
    "\n",
    "plt.bar(df.index-2*w, df['A'], width=w)\n",
    "plt.bar(df.index-w, df['B'], width=w)\n",
    "plt.bar(df.index, df['C'], width=w)\n",
    "plt.bar(df.index+w, df['D'], width=w)\n",
    "\n",
    "plt.xticks(df.index, index)\n",
    "\n",
    "plt.show()\n"
   ]
  },
  {
   "cell_type": "code",
   "execution_count": 121,
   "id": "d28cb1c2",
   "metadata": {},
   "outputs": [
    {
     "data": {
      "image/png": "[encoded data removed]",
      "text/plain": [
       "<Figure size 432x288 with 1 Axes>"
      ]
     },
     "metadata": {
      "needs_background": "light"
     },
     "output_type": "display_data"
    }
   ],
   "source": [
    "index = ['one', 'two', 'three', 'four', 'five', 'six']\n",
    "columns = pd.Index(['A', 'B', 'C', 'D'])\n",
    "\n",
    "df = pd.DataFrame(\n",
    "    data,\n",
    "#     index = index,\n",
    "    columns = columns)\n",
    "\n",
    "df\n",
    "\n",
    "# df.plot(kind='bar', figsize=(10,5))\n",
    "#figsize로 그래프 크기조절 가능\n",
    "\n",
    "w = 0.2\n",
    "plt.bar(df.index-2*w, df['A'], width=w)\n",
    "plt.bar(df.index-w, df['B'], width=w)\n",
    "plt.bar(df.index, df['C'], width=w)\n",
    "plt.bar(df.index+w, df['D'], width=w)\n",
    "\n",
    "plt.xticks(df.index, index)\n",
    "\n",
    "plt.show()\n"
   ]
  },
  {
   "cell_type": "code",
   "execution_count": 122,
   "id": "4a6f1229",
   "metadata": {},
   "outputs": [
    {
     "data": {
      "image/png": "[encoded data removed]",
      "text/plain": [
       "<Figure size 432x288 with 1 Axes>"
      ]
     },
     "metadata": {
      "needs_background": "light"
     },
     "output_type": "display_data"
    }
   ],
   "source": [
    "index = ['one', 'two', 'three', 'four', 'five', 'six']\n",
    "columns = pd.Index(['A', 'B', 'C', 'D'])\n",
    "\n",
    "df = pd.DataFrame(\n",
    "    data,\n",
    "#     index = index,\n",
    "    columns = columns)\n",
    "\n",
    "df\n",
    "\n",
    "# df.plot(kind='bar', figsize=(10,5))\n",
    "#figsize로 그래프 크기조절 가능\n",
    "\n",
    "w = 0.2\n",
    "plt.bar(df.index-2*w, df['A'], width=w)\n",
    "plt.bar(df.index-w, df['B'], width=w)\n",
    "plt.bar(df.index, df['C'], width=w)\n",
    "plt.bar(df.index+w, df['D'], width=w)\n",
    "\n",
    "plt.xticks(df.index, index)\n",
    "\n",
    "plt.show()\n"
   ]
  },
  {
   "cell_type": "code",
   "execution_count": 123,
   "id": "4ca3a5ef",
   "metadata": {},
   "outputs": [
    {
     "data": {
      "text/plain": [
       "<AxesSubplot:>"
      ]
     },
     "execution_count": 123,
     "metadata": {},
     "output_type": "execute_result"
    },
    {
     "data": {
      "image/png": "[encoded data removed]",
      "text/plain": [
       "<Figure size 432x288 with 1 Axes>"
      ]
     },
     "metadata": {
      "needs_background": "light"
     },
     "output_type": "display_data"
    }
   ],
   "source": [
    "df.plot(kind ='barh', stacked = True)"
   ]
  },
  {
   "cell_type": "code",
   "execution_count": 127,
   "id": "81fa61d4",
   "metadata": {},
   "outputs": [
    {
     "data": {
      "image/png": "[encoded data removed]",
      "text/plain": [
       "<Figure size 432x288 with 1 Axes>"
      ]
     },
     "metadata": {
      "needs_background": "light"
     },
     "output_type": "display_data"
    }
   ],
   "source": [
    "plt.barh(df.index, df['A'])\n",
    "plt.barh(df.index, df['B'])\n",
    "plt.barh(df.index, df['C'])\n",
    "plt.barh(df.index, df['D'])\n",
    "\n",
    "plt.show()"
   ]
  },
  {
   "cell_type": "code",
   "execution_count": 136,
   "id": "785f964e",
   "metadata": {},
   "outputs": [
    {
     "data": {
      "image/png": "[encoded data removed]",
      "text/plain": [
       "<Figure size 432x288 with 1 Axes>"
      ]
     },
     "metadata": {
      "needs_background": "light"
     },
     "output_type": "display_data"
    }
   ],
   "source": [
    "weight = [68, 81, 64, 56, 78, 74, 61, 77, 66, 68, 59, 71,\n",
    "          80, 59, 67, 81, 69, 73, 69, 74, 70, 65]\n",
    "\n",
    "plt.hist(weight, label='bins=10')\n",
    "plt.hist(weight, bins=30, label='bins=30')\n",
    "plt.legend()\n",
    "plt.show()"
   ]
  },
  {
   "cell_type": "code",
   "execution_count": 139,
   "id": "e90f50d7",
   "metadata": {},
   "outputs": [
    {
     "data": {
      "text/plain": [
       "array([6.43651805, 3.08236538, 3.20774237, 2.39054707, 5.29811144,\n",
       "       0.54769195, 6.61721765, 2.85818965, 4.47855864, 3.62594444,\n",
       "       6.19316191, 0.90978894, 3.51637419, 3.42391847, 5.70065416,\n",
       "       2.3501631 , 3.74135769, 2.68321237, 4.06332062, 4.87422282,\n",
       "       2.34907123, 5.71708556, 5.35238608, 4.75374151, 5.35128392,\n",
       "       2.97440821, 3.81566466, 2.59634585, 3.59816788, 4.7955332 ,\n",
       "       2.96250887, 3.40486971, 2.96924095, 2.73219154, 2.9931308 ,\n",
       "       3.9810031 , 2.32403448, 4.35162355, 6.48970327, 5.11306624,\n",
       "       3.71224667, 2.66855655, 2.87926256, 6.5386819 , 4.07621163,\n",
       "       3.04450653, 4.28637323, 7.1503827 , 4.18023843, 4.92580466,\n",
       "       4.45025548, 3.47162523, 2.2862227 , 3.47598592, 3.68665865,\n",
       "       4.87993479, 5.25847512, 5.39665312, 4.42838099, 5.32771175,\n",
       "       2.86840309, 5.87930223, 4.76939473, 3.55286075, 4.73277722,\n",
       "       3.88664243, 5.69744408, 6.27972522, 7.27836311, 1.9052555 ,\n",
       "       1.83382929, 3.24330121, 4.2400556 , 5.31425338, 4.47345242,\n",
       "       0.96669818, 3.54069398, 5.24196196, 4.3451421 , 5.14301677,\n",
       "       3.66650779, 3.6988629 , 4.27984209, 4.61507747, 4.29744958,\n",
       "       4.17851297, 2.99400657, 4.56634568, 4.18273191, 5.69422586,\n",
       "       5.79837682, 4.27773463, 3.43707257, 3.04190439, 4.63524153,\n",
       "       4.1160101 , 3.48421949, 4.06539529, 3.06999873, 5.04704805,\n",
       "       3.32930715, 5.83676156, 4.60523746, 4.89036778, 2.35763223,\n",
       "       4.25407365, 5.11083468, 2.5694491 , 3.60067224, 4.04892182,\n",
       "       1.94032402, 4.47273909, 5.26924097, 2.71072609, 4.52581897,\n",
       "       2.03157488, 3.94195674, 1.57634147, 5.68212656, 4.61335081,\n",
       "       3.96307457, 2.83725757, 5.9106339 , 6.95065262, 1.2130272 ,\n",
       "       5.85424605, 6.44147613, 4.50701754, 2.20109795, 5.29501798,\n",
       "       3.72861955, 3.09411906, 2.1549128 , 4.82580624, 5.1892103 ,\n",
       "       3.06470391, 4.78086451, 2.28348792, 5.20279155, 4.06985095,\n",
       "       3.72014534, 3.84738119, 5.30332924, 5.12561746, 4.79419799,\n",
       "       4.20655181, 4.11673169, 4.92757039, 4.34874184, 5.02382711,\n",
       "       3.53482484, 0.34774335, 5.5582369 , 7.28046947, 4.66204667,\n",
       "       3.84976715, 3.79533288, 3.82141872, 4.02611411, 2.31697191,\n",
       "       3.22435831, 2.50445976, 4.37319874, 3.55503827, 4.74281699,\n",
       "       3.73794526, 5.47950278, 4.32030085, 7.28604959, 1.15545862,\n",
       "       3.02962497, 5.35223034, 7.79248856, 3.62704783, 4.06550349,\n",
       "       3.66052864, 5.99718567, 3.5690382 , 5.02010476, 3.5202976 ,\n",
       "       2.09116187, 4.47032158, 4.75477722, 5.93983882, 3.83432946,\n",
       "       3.0739569 , 4.84414164, 4.36110564, 4.42099762, 3.89033094,\n",
       "       5.74050785, 4.55423907, 6.85698806, 5.66658505, 4.98857469,\n",
       "       1.55884249, 4.90347892, 4.63042331, 5.21642751, 5.56666314])"
      ]
     },
     "execution_count": 139,
     "metadata": {},
     "output_type": "execute_result"
    }
   ],
   "source": [
    "np.random.seed(1)\n",
    "x = 4 + np.random.normal(0, 1.5, 200)\n",
    "x\n"
   ]
  },
  {
   "cell_type": "code",
   "execution_count": 143,
   "id": "05002f29",
   "metadata": {},
   "outputs": [
    {
     "data": {
      "image/png": "[encoded data removed]",
      "text/plain": [
       "<Figure size 432x288 with 1 Axes>"
      ]
     },
     "metadata": {
      "needs_background": "light"
     },
     "output_type": "display_data"
    }
   ],
   "source": [
    "fig, ax = plt.subplots()\n",
    "\n",
    "ax.set(\n",
    "    xlim=(0, 8), xticks =np.arange(1, 8),\n",
    "    ylim=(0, 56), yticks =np.arange(0, 56, 9))\n",
    "\n",
    "ax.hist(x)\n",
    "\n",
    "plt.show()"
   ]
  },
  {
   "cell_type": "code",
   "execution_count": 144,
   "id": "b2f1c383",
   "metadata": {},
   "outputs": [
    {
     "data": {
      "text/plain": [
       "0     -0.400878\n",
       "1      0.824006\n",
       "2     -0.562305\n",
       "3      1.954878\n",
       "4     -1.331952\n",
       "         ...   \n",
       "195    0.794528\n",
       "196   -1.873161\n",
       "197    0.920615\n",
       "198   -0.035368\n",
       "199    2.110605\n",
       "Length: 200, dtype: float64"
      ]
     },
     "execution_count": 144,
     "metadata": {},
     "output_type": "execute_result"
    }
   ],
   "source": [
    "s = pd.Series(np.random.normal(0,1, size= 200))\n",
    "s"
   ]
  },
  {
   "cell_type": "code",
   "execution_count": 146,
   "id": "73670c65",
   "metadata": {},
   "outputs": [
    {
     "data": {
      "text/plain": [
       "<AxesSubplot:ylabel='Frequency'>"
      ]
     },
     "execution_count": 146,
     "metadata": {},
     "output_type": "execute_result"
    },
    {
     "data": {
      "image/png": "[encoded data removed]",
      "text/plain": [
       "<Figure size 432x288 with 1 Axes>"
      ]
     },
     "metadata": {
      "needs_background": "light"
     },
     "output_type": "display_data"
    }
   ],
   "source": [
    "s.plot(kind='hist')"
   ]
  },
  {
   "cell_type": "code",
   "execution_count": 149,
   "id": "306a89c8",
   "metadata": {},
   "outputs": [
    {
     "data": {
      "image/png": "[encoded data removed]",
      "text/plain": [
       "<Figure size 432x288 with 1 Axes>"
      ]
     },
     "metadata": {
      "needs_background": "light"
     },
     "output_type": "display_data"
    }
   ],
   "source": [
    "np.random.seed(3)\n",
    "x= 4 + np.random.normal(0, 2, 24)\n",
    "y= 4 + np.random.normal(0, 2, len(x))\n",
    "\n",
    "sizes = np.random.uniform(15, 80, len(x))\n",
    "colors= np.random.uniform(15, 80, len(x))\n",
    "\n",
    "fig, ax = plt.subplots()\n",
    "\n",
    "ax.scatter(x, y, s=sizes, c=colors, vmin=0, vmax=100)\n",
    "\n",
    "ax.set(\n",
    "    xlim=(0,8), xticks =np.arange(1,8),\n",
    "    ylim=(0,8), yticks =np.arange(1,8),\n",
    "    )\n",
    "\n",
    "plt.show()\n"
   ]
  },
  {
   "cell_type": "code",
   "execution_count": 150,
   "id": "4d47fbda",
   "metadata": {},
   "outputs": [
    {
     "data": {
      "text/plain": [
       "array([46.4330596 , 38.54145381, 60.99963042, 63.5385045 , 59.92103992,\n",
       "       59.79672689, 39.28400807, 58.42876231, 37.09016316, 52.23160154,\n",
       "       36.17746527, 43.9344282 , 18.9993805 , 30.77390244, 78.1541694 ,\n",
       "       29.98797328, 59.94603821, 57.28099578, 62.05604406, 45.88075969,\n",
       "       53.78314535, 19.35301256, 19.71653896, 27.93344171])"
      ]
     },
     "execution_count": 150,
     "metadata": {},
     "output_type": "execute_result"
    }
   ],
   "source": [
    "sizes"
   ]
  },
  {
   "cell_type": "code",
   "execution_count": 153,
   "id": "481ed23b",
   "metadata": {},
   "outputs": [
    {
     "data": {
      "text/plain": [
       "array([7.57725695, 4.8730197 , 4.19299494, 0.27301459, 3.44522359,\n",
       "       3.29048204, 3.83451704, 2.74599865, 3.91236366, 3.04556394,\n",
       "       1.37227049, 5.76924476, 5.76263608, 7.41914613, 4.10006728,\n",
       "       3.19064517, 2.9092801 , 0.90704537, 5.96473487, 1.79786474,\n",
       "       1.62990695, 3.5887002 , 6.97229671, 4.47343253])"
      ]
     },
     "execution_count": 153,
     "metadata": {},
     "output_type": "execute_result"
    }
   ],
   "source": [
    "x"
   ]
  },
  {
   "cell_type": "code",
   "execution_count": 163,
   "id": "1019e9bf",
   "metadata": {},
   "outputs": [
    {
     "data": {
      "text/plain": [
       "(100, 2)"
      ]
     },
     "execution_count": 163,
     "metadata": {},
     "output_type": "execute_result"
    }
   ],
   "source": [
    "x1 = np.random.normal(1, 1, size=(100, 1))\n",
    "\n",
    "x2 = np.random.normal(-2, 4, size =(100, 1))\n",
    "\n",
    "x = np.concatenate((x1,x2), axis=1)\n",
    "x.shape"
   ]
  },
  {
   "cell_type": "code",
   "execution_count": 164,
   "id": "4c464310",
   "metadata": {},
   "outputs": [
    {
     "data": {
      "image/png": "[encoded data removed]",
      "text/plain": [
       "<Figure size 432x288 with 1 Axes>"
      ]
     },
     "metadata": {
      "needs_background": "light"
     },
     "output_type": "display_data"
    }
   ],
   "source": [
    "df = pd.DataFrame(x, columns=['x1', 'x2'])\n",
    "plt.scatter(df['x1'], df['x2'])\n",
    "plt.show()"
   ]
  },
  {
   "cell_type": "code",
   "execution_count": 165,
   "id": "dbb6a140",
   "metadata": {},
   "outputs": [
    {
     "data": {
      "text/html": [
       "<div>\n",
       "<style scoped>\n",
       "    .dataframe tbody tr th:only-of-type {\n",
       "        vertical-align: middle;\n",
       "    }\n",
       "\n",
       "    .dataframe tbody tr th {\n",
       "        vertical-align: top;\n",
       "    }\n",
       "\n",
       "    .dataframe thead th {\n",
       "        text-align: right;\n",
       "    }\n",
       "</style>\n",
       "<table border=\"1\" class=\"dataframe\">\n",
       "  <thead>\n",
       "    <tr style=\"text-align: right;\">\n",
       "      <th></th>\n",
       "      <th>x1</th>\n",
       "      <th>x2</th>\n",
       "    </tr>\n",
       "  </thead>\n",
       "  <tbody>\n",
       "    <tr>\n",
       "      <th>0</th>\n",
       "      <td>1.194245</td>\n",
       "      <td>-2.927910</td>\n",
       "    </tr>\n",
       "    <tr>\n",
       "      <th>1</th>\n",
       "      <td>0.954109</td>\n",
       "      <td>-2.460820</td>\n",
       "    </tr>\n",
       "    <tr>\n",
       "      <th>2</th>\n",
       "      <td>1.816818</td>\n",
       "      <td>-3.089068</td>\n",
       "    </tr>\n",
       "    <tr>\n",
       "      <th>3</th>\n",
       "      <td>0.964823</td>\n",
       "      <td>0.178820</td>\n",
       "    </tr>\n",
       "    <tr>\n",
       "      <th>4</th>\n",
       "      <td>0.936802</td>\n",
       "      <td>-2.117779</td>\n",
       "    </tr>\n",
       "    <tr>\n",
       "      <th>...</th>\n",
       "      <td>...</td>\n",
       "      <td>...</td>\n",
       "    </tr>\n",
       "    <tr>\n",
       "      <th>95</th>\n",
       "      <td>0.754452</td>\n",
       "      <td>3.664588</td>\n",
       "    </tr>\n",
       "    <tr>\n",
       "      <th>96</th>\n",
       "      <td>0.597085</td>\n",
       "      <td>-1.490230</td>\n",
       "    </tr>\n",
       "    <tr>\n",
       "      <th>97</th>\n",
       "      <td>3.317775</td>\n",
       "      <td>1.811088</td>\n",
       "    </tr>\n",
       "    <tr>\n",
       "      <th>98</th>\n",
       "      <td>1.260241</td>\n",
       "      <td>-5.806469</td>\n",
       "    </tr>\n",
       "    <tr>\n",
       "      <th>99</th>\n",
       "      <td>0.989305</td>\n",
       "      <td>-5.163626</td>\n",
       "    </tr>\n",
       "  </tbody>\n",
       "</table>\n",
       "<p>100 rows × 2 columns</p>\n",
       "</div>"
      ],
      "text/plain": [
       "          x1        x2\n",
       "0   1.194245 -2.927910\n",
       "1   0.954109 -2.460820\n",
       "2   1.816818 -3.089068\n",
       "3   0.964823  0.178820\n",
       "4   0.936802 -2.117779\n",
       "..       ...       ...\n",
       "95  0.754452  3.664588\n",
       "96  0.597085 -1.490230\n",
       "97  3.317775  1.811088\n",
       "98  1.260241 -5.806469\n",
       "99  0.989305 -5.163626\n",
       "\n",
       "[100 rows x 2 columns]"
      ]
     },
     "execution_count": 165,
     "metadata": {},
     "output_type": "execute_result"
    }
   ],
   "source": [
    "df"
   ]
  },
  {
   "cell_type": "code",
   "execution_count": 167,
   "id": "98d04a09",
   "metadata": {},
   "outputs": [
    {
     "data": {
      "image/png": "[encoded data removed]",
      "text/plain": [
       "<Figure size 432x288 with 3 Axes>"
      ]
     },
     "metadata": {
      "needs_background": "light"
     },
     "output_type": "display_data"
    }
   ],
   "source": [
    "fig = plt.figure()\n",
    "\n",
    "ax1 = fig.add_subplot(2,2,1)\n",
    "ax2 = fig.add_subplot(2,2,2)\n",
    "ax3 = fig.add_subplot(2,2,3)"
   ]
  },
  {
   "cell_type": "code",
   "execution_count": 170,
   "id": "98aecbaa",
   "metadata": {},
   "outputs": [
    {
     "data": {
      "image/png": "[encoded data removed]",
      "text/plain": [
       "<Figure size 432x288 with 3 Axes>"
      ]
     },
     "execution_count": 170,
     "metadata": {},
     "output_type": "execute_result"
    }
   ],
   "source": [
    "ax1.plot(np.random.randn(50).cumsum())\n",
    "ax2.hist(np.random.randn(100), bins= 20)\n",
    "ax3.scatter(np.arange(30), np.arange(30) +3 * np.random.randn(30))\n",
    "\n",
    "fig"
   ]
  },
  {
   "cell_type": "code",
   "execution_count": 173,
   "id": "b1b9d4e6",
   "metadata": {},
   "outputs": [
    {
     "data": {
      "image/png": "[encoded data removed]",
      "text/plain": [
       "<Figure size 432x288 with 3 Axes>"
      ]
     },
     "metadata": {
      "needs_background": "light"
     },
     "output_type": "display_data"
    }
   ],
   "source": [
    "fig, axes = plt.subplots(1,3)\n",
    "\n"
   ]
  },
  {
   "cell_type": "code",
   "execution_count": 174,
   "id": "4f5c8157",
   "metadata": {},
   "outputs": [
    {
     "data": {
      "text/plain": [
       "numpy.ndarray"
      ]
     },
     "execution_count": 174,
     "metadata": {},
     "output_type": "execute_result"
    }
   ],
   "source": [
    "type(axes)"
   ]
  },
  {
   "cell_type": "code",
   "execution_count": 178,
   "id": "c65416a8",
   "metadata": {},
   "outputs": [
    {
     "data": {
      "image/png": "[encoded data removed]",
      "text/plain": [
       "<Figure size 1080x360 with 3 Axes>"
      ]
     },
     "metadata": {
      "needs_background": "light"
     },
     "output_type": "display_data"
    }
   ],
   "source": [
    "fig, axes = plt.subplots(1,3, figsize=(15, 5))\n",
    "\n",
    "axes[0].plot(np.random.randn(50).cumsum())\n",
    "axes[1].hist(np.random.randn(100), bins=20)\n",
    "axes[2].scatter(np.arange(30), np.arange(30) +3*np.random.randn(30))\n",
    "\n",
    "plt.show()"
   ]
  },
  {
   "cell_type": "code",
   "execution_count": null,
   "id": "5d139952",
   "metadata": {},
   "outputs": [],
   "source": []
  }
 ],
 "metadata": {
  "kernelspec": {
   "display_name": "Python 3 (ipykernel)",
   "language": "python",
   "name": "python3"
  },
  "language_info": {
   "codemirror_mode": {
    "name": "ipython",
    "version": 3
   },
   "file_extension": ".py",
   "mimetype": "text/x-python",
   "name": "python",
   "nbconvert_exporter": "python",
   "pygments_lexer": "ipython3",
   "version": "3.9.7"
  }
 },
 "nbformat": 4,
 "nbformat_minor": 5
}
