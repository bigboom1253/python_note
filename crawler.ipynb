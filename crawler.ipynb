{
 "cells": [
  {
   "cell_type": "code",
   "execution_count": 2,
   "id": "d86b0658",
   "metadata": {},
   "outputs": [],
   "source": [
    "from urllib.request import urlopen\n",
    "from bs4 import BeautifulSoup\n",
    "import re\n",
    "\n",
    "html = urlopen('https://ko.wikipedia.org/wiki/%EC%8A%A4%EC%9C%84%EC%8A%A4')\n",
    "bs = BeautifulSoup(html, 'html.parser')\n"
   ]
  },
  {
   "cell_type": "code",
   "execution_count": 15,
   "id": "491e1ba2",
   "metadata": {},
   "outputs": [
    {
     "name": "stdout",
     "output_type": "stream",
     "text": [
      "[<a href=\"/wiki/%EC%9C%84%ED%82%A4%EB%B0%B1%EA%B3%BC:%EC%9D%B4%ED%83%88%EB%A6%AC%EC%95%84%EC%96%B4%EC%9D%98_%ED%95%9C%EA%B8%80_%ED%91%9C%EA%B8%B0\" title=\"위키백과:이탈리아어의 한글 표기\">*</a>, <a href=\"/wiki/%EC%9C%84%ED%82%A4%EB%B0%B1%EA%B3%BC:%EC%9D%B4%ED%83%88%EB%A6%AC%EC%95%84%EC%96%B4%EC%9D%98_%ED%95%9C%EA%B8%80_%ED%91%9C%EA%B8%B0\" title=\"위키백과:이탈리아어의 한글 표기\">*</a>, <a href=\"/wiki/%EC%9C%84%ED%82%A4%EB%B0%B1%EA%B3%BC:%EC%9D%B4%ED%83%88%EB%A6%AC%EC%95%84%EC%96%B4%EC%9D%98_%ED%95%9C%EA%B8%80_%ED%91%9C%EA%B8%B0\" title=\"위키백과:이탈리아어의 한글 표기\">*</a>]\n",
      "*\n",
      "*\n",
      "*\n"
     ]
    }
   ],
   "source": [
    "a = bs.findAll('a', title=\"위키백과:이탈리아어의 한글 표기\")\n",
    "print(a)\n",
    "for i in a :\n",
    "    print(i.get_text())\n",
    "    "
   ]
  },
  {
   "cell_type": "code",
   "execution_count": null,
   "id": "54637a0d",
   "metadata": {},
   "outputs": [],
   "source": [
    "from urllib.request import urlopen\n",
    "from bs4 import BeautifulSoup\n",
    "import re\n",
    "\n",
    "pages = set()\n",
    "def getLInks(pageUrl) :\n",
    "    global pages\n",
    "    html = urlopen('http://ko.wikipedia.org{}'.format(pageUrl))\n",
    "    bs = BeautifulSoup(html, 'html.parser')\n",
    "    for link in bs.findAll('a', href=re.compile('^(/wiki/)')) :"
   ]
  },
  {
   "cell_type": "code",
   "execution_count": null,
   "id": "90444f2a",
   "metadata": {},
   "outputs": [],
   "source": [
    "import requests\n",
    "from bs4 import BeautifulSoup\n",
    "\n",
    "class Crawler : \n",
    "    \n",
    "    def getPage(self, url) :\n",
    "        try :\n",
    "            req = requests.get(url)\n",
    "        except requests.exceptions.RequestException :\n",
    "            return None\n",
    "        \n",
    "        return BeautifulSoup(req.text, 'html.parser')\n",
    "    \n",
    "    def safeGet(self, pageObj, selector) :\n",
    "        '''\n",
    "        '''\n",
    "        "
   ]
  }
 ],
 "metadata": {
  "kernelspec": {
   "display_name": "Python 3 (ipykernel)",
   "language": "python",
   "name": "python3"
  },
  "language_info": {
   "codemirror_mode": {
    "name": "ipython",
    "version": 3
   },
   "file_extension": ".py",
   "mimetype": "text/x-python",
   "name": "python",
   "nbconvert_exporter": "python",
   "pygments_lexer": "ipython3",
   "version": "3.9.7"
  }
 },
 "nbformat": 4,
 "nbformat_minor": 5
}
