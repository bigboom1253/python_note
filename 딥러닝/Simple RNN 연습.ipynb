{
 "cells": [
  {
   "cell_type": "code",
   "execution_count": 2,
   "id": "f6525448",
   "metadata": {},
   "outputs": [],
   "source": [
    "from tensorflow.keras.layers import Dense, Input, SimpleRNN\n",
    "from tensorflow.keras.models import Model\n",
    "from tensorflow.keras.optimizers import Adam\n",
    "import numpy as np\n",
    "import pandas as pd\n",
    "import matplotlib.pyplot as plt"
   ]
  },
  {
   "cell_type": "code",
   "execution_count": 3,
   "id": "8176d891",
   "metadata": {},
   "outputs": [],
   "source": [
    "# 2차원 배열의 feature 데이터로 LSTM 학습 데이터를 만든다.\n",
    "def build_train_data(data, t_step, n_jump = 1):\n",
    "    n_data = data.shape[0]   # number of data\n",
    "    n_feat = data.shape[1]   # number of features\n",
    "\n",
    "    m = np.arange(0, n_data - t_step, n_jump)   # m =  [0, 1, 2, 3, 4, 5]\n",
    "    x = np.array([data[i:(i+t_step), :] for i in m])      # feature data\n",
    "    y = np.array([data[i, :] for i in (m + t_step)])      # target data\n",
    "\n",
    "    # shape을 조정한다. feature = 3D, target = 2D\n",
    "    x_data = x.reshape(-1, t_step, n_feat)\n",
    "    y_target = y.reshape(-1, n_feat)\n",
    "    \n",
    "    return x_data, y_target\n"
   ]
  },
  {
   "cell_type": "code",
   "execution_count": 4,
   "id": "2fa81fd6",
   "metadata": {},
   "outputs": [],
   "source": [
    "# 시계열 데이터 (noisy sin)\n",
    "n_data = 1000\n",
    "sine = np.sin(2 * np.pi * 0.03 * np.arange(n_data)) + np.random.random(n_data) # noisy sine\n"
   ]
  },
  {
   "cell_type": "code",
   "execution_count": 5,
   "id": "ca24b7a3",
   "metadata": {
    "scrolled": false
   },
   "outputs": [
    {
     "data": {
      "text/html": [
       "<div>\n",
       "<style scoped>\n",
       "    .dataframe tbody tr th:only-of-type {\n",
       "        vertical-align: middle;\n",
       "    }\n",
       "\n",
       "    .dataframe tbody tr th {\n",
       "        vertical-align: top;\n",
       "    }\n",
       "\n",
       "    .dataframe thead th {\n",
       "        text-align: right;\n",
       "    }\n",
       "</style>\n",
       "<table border=\"1\" class=\"dataframe\">\n",
       "  <thead>\n",
       "    <tr style=\"text-align: right;\">\n",
       "      <th></th>\n",
       "      <th>sine</th>\n",
       "    </tr>\n",
       "  </thead>\n",
       "  <tbody>\n",
       "    <tr>\n",
       "      <th>0</th>\n",
       "      <td>0.857550</td>\n",
       "    </tr>\n",
       "    <tr>\n",
       "      <th>1</th>\n",
       "      <td>0.436299</td>\n",
       "    </tr>\n",
       "    <tr>\n",
       "      <th>2</th>\n",
       "      <td>0.723707</td>\n",
       "    </tr>\n",
       "    <tr>\n",
       "      <th>3</th>\n",
       "      <td>0.717231</td>\n",
       "    </tr>\n",
       "    <tr>\n",
       "      <th>4</th>\n",
       "      <td>1.586423</td>\n",
       "    </tr>\n",
       "  </tbody>\n",
       "</table>\n",
       "</div>"
      ],
      "text/plain": [
       "       sine\n",
       "0  0.857550\n",
       "1  0.436299\n",
       "2  0.723707\n",
       "3  0.717231\n",
       "4  1.586423"
      ]
     },
     "execution_count": 5,
     "metadata": {},
     "output_type": "execute_result"
    }
   ],
   "source": [
    "# 데이터가 데이터프레임 형식으로 되어 있다고 생각하자. feature가 1개이고 target이 없는 데이터임.\n",
    "df = pd.DataFrame({'sine':sine})\n",
    "df.head()"
   ]
  },
  {
   "cell_type": "code",
   "execution_count": 6,
   "id": "2a777529",
   "metadata": {},
   "outputs": [
    {
     "data": {
      "text/plain": [
       "((980, 20, 1), (980, 1))"
      ]
     },
     "execution_count": 6,
     "metadata": {},
     "output_type": "execute_result"
    }
   ],
   "source": [
    "t_step = 20\n",
    "\n",
    "# 학습 데이터를 생성한다.\n",
    "data = np.array(df)\n",
    "x_train, y_train = build_train_data(data, t_step)\n",
    "x_train.shape, y_train.shape"
   ]
  },
  {
   "cell_type": "code",
   "execution_count": 13,
   "id": "921ba6ea",
   "metadata": {},
   "outputs": [
    {
     "data": {
      "text/plain": [
       "1000"
      ]
     },
     "execution_count": 13,
     "metadata": {},
     "output_type": "execute_result"
    }
   ],
   "source": [
    "data.shape[0]"
   ]
  },
  {
   "cell_type": "code",
   "execution_count": 14,
   "id": "b321b372",
   "metadata": {},
   "outputs": [
    {
     "data": {
      "text/plain": [
       "1"
      ]
     },
     "execution_count": 14,
     "metadata": {},
     "output_type": "execute_result"
    }
   ],
   "source": [
    "data.shape[1]"
   ]
  },
  {
   "cell_type": "code",
   "execution_count": 7,
   "id": "7e93cc02",
   "metadata": {},
   "outputs": [
    {
     "name": "stdout",
     "output_type": "stream",
     "text": [
      "Model: \"model\"\n",
      "________________________________________________________________________________________________________________________\n",
      " Layer (type)                                         Output Shape                                    Param #           \n",
      "========================================================================================================================\n",
      " input_1 (InputLayer)                                 [(None, 20, 1)]                                 0                 \n",
      "                                                                                                                        \n",
      " simple_rnn (SimpleRNN)                               (None, 50)                                      2600              \n",
      "                                                                                                                        \n",
      " dense (Dense)                                        (None, 1)                                       51                \n",
      "                                                                                                                        \n",
      "========================================================================================================================\n",
      "Total params: 2,651\n",
      "Trainable params: 2,651\n",
      "Non-trainable params: 0\n",
      "________________________________________________________________________________________________________________________\n",
      "Epoch 1/20\n",
      "10/10 [==============================] - 1s 3ms/step - loss: 0.2238\n",
      "Epoch 2/20\n",
      "10/10 [==============================] - 0s 2ms/step - loss: 0.1229\n",
      "Epoch 3/20\n",
      "10/10 [==============================] - 0s 3ms/step - loss: 0.1034\n",
      "Epoch 4/20\n",
      "10/10 [==============================] - 0s 3ms/step - loss: 0.0971\n",
      "Epoch 5/20\n",
      "10/10 [==============================] - 0s 2ms/step - loss: 0.0952\n",
      "Epoch 6/20\n",
      "10/10 [==============================] - 0s 3ms/step - loss: 0.0957\n",
      "Epoch 7/20\n",
      "10/10 [==============================] - 0s 2ms/step - loss: 0.0937\n",
      "Epoch 8/20\n",
      "10/10 [==============================] - 0s 2ms/step - loss: 0.0912\n",
      "Epoch 9/20\n",
      "10/10 [==============================] - 0s 3ms/step - loss: 0.0911\n",
      "Epoch 10/20\n",
      "10/10 [==============================] - 0s 2ms/step - loss: 0.0902\n",
      "Epoch 11/20\n",
      "10/10 [==============================] - 0s 3ms/step - loss: 0.0915\n",
      "Epoch 12/20\n",
      "10/10 [==============================] - 0s 3ms/step - loss: 0.0950\n",
      "Epoch 13/20\n",
      "10/10 [==============================] - 0s 3ms/step - loss: 0.0916\n",
      "Epoch 14/20\n",
      "10/10 [==============================] - 0s 2ms/step - loss: 0.0907\n",
      "Epoch 15/20\n",
      "10/10 [==============================] - 0s 2ms/step - loss: 0.0892\n",
      "Epoch 16/20\n",
      "10/10 [==============================] - 0s 3ms/step - loss: 0.0904\n",
      "Epoch 17/20\n",
      "10/10 [==============================] - 0s 2ms/step - loss: 0.0885\n",
      "Epoch 18/20\n",
      "10/10 [==============================] - 0s 2ms/step - loss: 0.0914\n",
      "Epoch 19/20\n",
      "10/10 [==============================] - 0s 3ms/step - loss: 0.0885\n",
      "Epoch 20/20\n",
      "10/10 [==============================] - 0s 2ms/step - loss: 0.0890\n"
     ]
    },
    {
     "data": {
      "image/png": "[encoded data removed]",
      "text/plain": [
       "<Figure size 576x216 with 1 Axes>"
      ]
     },
     "metadata": {
      "needs_background": "light"
     },
     "output_type": "display_data"
    }
   ],
   "source": [
    "n_input = 1\n",
    "n_output = 1\n",
    "n_hidden = 50\n",
    "\n",
    "# RNN 모델을 생성한다.\n",
    "x_input = Input(batch_shape=(None, t_step, n_input))\n",
    "x_lstm = SimpleRNN(n_hidden)(x_input)\n",
    "y_output = Dense(n_output)(x_lstm)\n",
    "\n",
    "model = Model(x_input, y_output)\n",
    "model.compile(loss='mean_squared_error', optimizer=Adam(learning_rate=0.001))\n",
    "model.summary(line_length=120)\n",
    "\n",
    "# 학습한다\n",
    "h = model.fit(x_train, y_train, epochs=20, batch_size=100, shuffle=True)\n",
    "\n",
    "# Loss history를 그린다\n",
    "plt.figure(figsize=(8, 3))\n",
    "plt.plot(h.history['loss'], color='red')\n",
    "plt.title(\"Loss History\")\n",
    "plt.xlabel(\"epoch\")\n",
    "plt.ylabel(\"loss\")\n",
    "plt.show()"
   ]
  },
  {
   "cell_type": "code",
   "execution_count": 8,
   "id": "f4728e75",
   "metadata": {},
   "outputs": [
    {
     "data": {
      "text/plain": [
       "((120, 1), (100, 1), (21, 1))"
      ]
     },
     "execution_count": 8,
     "metadata": {},
     "output_type": "execute_result"
    }
   ],
   "source": [
    "# 향후 20 기간 데이터를 예측한다. 향후 1 기간을 예측하고, 예측값을 다시 입력하여 2 기간을 예측한다.\n",
    "# 이런 방식으로 20 기간까지 예측한다.\n",
    "n_future = 20\n",
    "n_last = 100\n",
    "last_data = data[-n_last:]  # 원 데이터의 마지막 n_last개만 그려본다\n",
    "\n",
    "for i in range(n_future):\n",
    "    # 마지막 t_step 만큼 입력데이터로 다음 값을 예측한다\n",
    "    px = last_data[-t_step:, :].reshape(1, t_step, 1)\n",
    "\n",
    "    # 다음 값을 예측한다.\n",
    "    y_hat = model.predict(px)\n",
    "    \n",
    "    # 이전 예측값을 포함하여 또 다음 값을 예측하기위해 예측한 값을 저장해 둔다\n",
    "    last_data = np.vstack([last_data, y_hat])\n",
    "\n",
    "past_data = last_data[:-n_future, :]\n",
    "future_data = last_data[-(n_future + 1):, :]\n",
    "\n",
    "last_data.shape, past_data.shape, future_data.shape\n"
   ]
  },
  {
   "cell_type": "code",
   "execution_count": 9,
   "id": "5eea8f96",
   "metadata": {},
   "outputs": [
    {
     "name": "stderr",
     "output_type": "stream",
     "text": [
      "C:\\Users\\배진우\\AppData\\Local\\Temp/ipykernel_10440/863394633.py:5: UserWarning: color is redundantly defined by the 'color' keyword argument and the fmt string \"b-o\" (-> color='b'). The keyword argument will take precedence.\n",
      "  plt.plot(ax1, past_data, 'b-o', color='blue', markersize=3, label='Time series', linewidth=1)\n",
      "C:\\Users\\배진우\\AppData\\Local\\Temp/ipykernel_10440/863394633.py:6: UserWarning: color is redundantly defined by the 'color' keyword argument and the fmt string \"b-o\" (-> color='b'). The keyword argument will take precedence.\n",
      "  plt.plot(ax2, future_data, 'b-o', color='red', markersize=3, label='Estimatedk')\n"
     ]
    },
    {
     "data": {
      "image/png": "[encoded data removed]",
      "text/plain": [
       "<Figure size 864x432 with 1 Axes>"
      ]
     },
     "metadata": {
      "needs_background": "light"
     },
     "output_type": "display_data"
    }
   ],
   "source": [
    "# 원 시계열과 예측된 시계열을 그린다\n",
    "plt.figure(figsize=(12, 6))\n",
    "ax1 = np.arange(1, len(past_data) + 1)\n",
    "ax2 = np.arange(len(past_data), len(past_data) + len(future_data))\n",
    "plt.plot(ax1, past_data, 'b-o', color='blue', markersize=3, label='Time series', linewidth=1)\n",
    "plt.plot(ax2, future_data, 'b-o', color='red', markersize=3, label='Estimatedk')\n",
    "plt.axvline(x=ax1[-1],  linestyle='dashed', linewidth=1)\n",
    "plt.legend()\n",
    "plt.show()"
   ]
  },
  {
   "cell_type": "code",
   "execution_count": null,
   "id": "0c908050",
   "metadata": {},
   "outputs": [],
   "source": []
  },
  {
   "cell_type": "code",
   "execution_count": null,
   "id": "29027ab2",
   "metadata": {},
   "outputs": [],
   "source": []
  }
 ],
 "metadata": {
  "kernelspec": {
   "display_name": "Python 3 (ipykernel)",
   "language": "python",
   "name": "python3"
  },
  "language_info": {
   "codemirror_mode": {
    "name": "ipython",
    "version": 3
   },
   "file_extension": ".py",
   "mimetype": "text/x-python",
   "name": "python",
   "nbconvert_exporter": "python",
   "pygments_lexer": "ipython3",
   "version": "3.9.7"
  }
 },
 "nbformat": 4,
 "nbformat_minor": 5
}
