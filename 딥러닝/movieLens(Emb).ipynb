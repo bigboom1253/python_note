{
 "cells": [
  {
   "cell_type": "code",
   "execution_count": 1,
   "id": "2e040f97",
   "metadata": {},
   "outputs": [],
   "source": [
    "# 영화 추천시스템 (Movie Recommendation System)\n",
    "# 행렬 분해를 이용한 잠재 요인 협업 필터링 사용\n",
    "# Keras Embedding layer를 적용한다.\n",
    "import pandas as pd\n",
    "import numpy as np\n",
    "from sklearn.metrics import mean_squared_error\n",
    "from tensorflow.keras.layers import Input, Dense, Dropout, Embedding\n",
    "from tensorflow.keras.layers import Flatten, Dot, Activation\n",
    "from tensorflow.keras.models import Model\n",
    "from tensorflow.keras.optimizers import Adam\n",
    "from sklearn.model_selection import train_test_split\n",
    "import matplotlib.pyplot as plt\n",
    "from sklearn.preprocessing import LabelEncoder"
   ]
  },
  {
   "cell_type": "code",
   "execution_count": 22,
   "id": "7019f0ee",
   "metadata": {},
   "outputs": [],
   "source": [
    "# 학습 데이터를 읽어온다.\n",
    "DATA_PATH = 'C:\\\\Users\\\\배진우\\\\Documents\\\\multiCampus_TA\\\\python_data\\\\ml-latest-small\\\\ml-latest-small\\\\'\n",
    "movies = pd.read_csv(DATA_PATH + 'movies.csv')\n",
    "ratings = pd.read_csv(DATA_PATH + 'ratings.csv')\n",
    "\n",
    "df = pd.merge(ratings, movies, on='movieId')[['userId', 'movieId', 'rating', 'title']]\n"
   ]
  },
  {
   "cell_type": "code",
   "execution_count": 23,
   "id": "6e3a9c5b",
   "metadata": {},
   "outputs": [
    {
     "data": {
      "text/html": [
       "<div>\n",
       "<style scoped>\n",
       "    .dataframe tbody tr th:only-of-type {\n",
       "        vertical-align: middle;\n",
       "    }\n",
       "\n",
       "    .dataframe tbody tr th {\n",
       "        vertical-align: top;\n",
       "    }\n",
       "\n",
       "    .dataframe thead th {\n",
       "        text-align: right;\n",
       "    }\n",
       "</style>\n",
       "<table border=\"1\" class=\"dataframe\">\n",
       "  <thead>\n",
       "    <tr style=\"text-align: right;\">\n",
       "      <th></th>\n",
       "      <th>userId</th>\n",
       "      <th>movieId</th>\n",
       "      <th>rating</th>\n",
       "      <th>title</th>\n",
       "    </tr>\n",
       "  </thead>\n",
       "  <tbody>\n",
       "    <tr>\n",
       "      <th>0</th>\n",
       "      <td>0</td>\n",
       "      <td>0</td>\n",
       "      <td>0.8</td>\n",
       "      <td>Toy Story (1995)</td>\n",
       "    </tr>\n",
       "    <tr>\n",
       "      <th>1</th>\n",
       "      <td>4</td>\n",
       "      <td>0</td>\n",
       "      <td>0.8</td>\n",
       "      <td>Toy Story (1995)</td>\n",
       "    </tr>\n",
       "    <tr>\n",
       "      <th>2</th>\n",
       "      <td>6</td>\n",
       "      <td>0</td>\n",
       "      <td>0.9</td>\n",
       "      <td>Toy Story (1995)</td>\n",
       "    </tr>\n",
       "    <tr>\n",
       "      <th>3</th>\n",
       "      <td>14</td>\n",
       "      <td>0</td>\n",
       "      <td>0.5</td>\n",
       "      <td>Toy Story (1995)</td>\n",
       "    </tr>\n",
       "    <tr>\n",
       "      <th>4</th>\n",
       "      <td>16</td>\n",
       "      <td>0</td>\n",
       "      <td>0.9</td>\n",
       "      <td>Toy Story (1995)</td>\n",
       "    </tr>\n",
       "  </tbody>\n",
       "</table>\n",
       "</div>"
      ],
      "text/plain": [
       "   userId  movieId  rating             title\n",
       "0       0        0     0.8  Toy Story (1995)\n",
       "1       4        0     0.8  Toy Story (1995)\n",
       "2       6        0     0.9  Toy Story (1995)\n",
       "3      14        0     0.5  Toy Story (1995)\n",
       "4      16        0     0.9  Toy Story (1995)"
      ]
     },
     "execution_count": 23,
     "metadata": {},
     "output_type": "execute_result"
    }
   ],
   "source": [
    "# userId와 movieId가 중간에 빈 값이 많으므로 순차적인 id를 다시 부여한다.\n",
    "user_enc = LabelEncoder()\n",
    "item_enc = LabelEncoder()\n",
    "\n",
    "df['userId'] = user_enc.fit_transform(df['userId'])\n",
    "df['movieId'] = item_enc.fit_transform(df['movieId'])\n",
    "df['rating'] /= 5.0   # 0.5 ~ 5.0 --> 0.1 ~ 1.0으로 표준화.\n",
    "df.head()"
   ]
  },
  {
   "cell_type": "code",
   "execution_count": 24,
   "id": "24311e6e",
   "metadata": {},
   "outputs": [],
   "source": [
    "# number of users and items\n",
    "n_users = df['userId'].max() + 1\n",
    "n_items = df['movieId'].max() + 1\n",
    "n_factors = 50"
   ]
  },
  {
   "cell_type": "code",
   "execution_count": 25,
   "id": "c3d34279",
   "metadata": {},
   "outputs": [],
   "source": [
    "# 학습 데이터와 시험 데이터로 분리\n",
    "d_train, d_test = train_test_split(df, test_size = 0.1)\n",
    "\n",
    "# 학습 데이터 세트를 생성한다.\n",
    "x_user_train = np.array(d_train['userId']).reshape(-1, 1)\n",
    "x_item_train = np.array(d_train['movieId']).reshape(-1, 1)\n",
    "y_rating_train = np.array(d_train['rating']).reshape(-1, 1)"
   ]
  },
  {
   "cell_type": "code",
   "execution_count": 26,
   "id": "00291c5c",
   "metadata": {},
   "outputs": [],
   "source": [
    "# 시험 데이터 세트를 생성한다.\n",
    "x_user_test = np.array(d_test['userId']).reshape(-1, 1)\n",
    "x_item_test = np.array(d_test['movieId']).reshape(-1, 1)\n",
    "y_rating_test = np.array(d_test['rating']).reshape(-1, 1)"
   ]
  },
  {
   "cell_type": "code",
   "execution_count": 27,
   "id": "1083eae3",
   "metadata": {},
   "outputs": [
    {
     "name": "stdout",
     "output_type": "stream",
     "text": [
      "Model: \"model_6\"\n",
      "__________________________________________________________________________________________________\n",
      " Layer (type)                   Output Shape         Param #     Connected to                     \n",
      "==================================================================================================\n",
      " input_7 (InputLayer)           [(None, 1)]          0           []                               \n",
      "                                                                                                  \n",
      " input_8 (InputLayer)           [(None, 1)]          0           []                               \n",
      "                                                                                                  \n",
      " embedding_12 (Embedding)       (None, 1, 50)        30500       ['input_7[0][0]']                \n",
      "                                                                                                  \n",
      " embedding_13 (Embedding)       (None, 1, 50)        486200      ['input_8[0][0]']                \n",
      "                                                                                                  \n",
      " dropout_8 (Dropout)            (None, 1, 50)        0           ['embedding_12[0][0]']           \n",
      "                                                                                                  \n",
      " dropout_9 (Dropout)            (None, 1, 50)        0           ['embedding_13[0][0]']           \n",
      "                                                                                                  \n",
      " flatten_10 (Flatten)           (None, 50)           0           ['dropout_8[0][0]']              \n",
      "                                                                                                  \n",
      " flatten_11 (Flatten)           (None, 50)           0           ['dropout_9[0][0]']              \n",
      "                                                                                                  \n",
      " dot_6 (Dot)                    (None, 1)            0           ['flatten_10[0][0]',             \n",
      "                                                                  'flatten_11[0][0]']             \n",
      "                                                                                                  \n",
      " activation_3 (Activation)      (None, 1)            0           ['dot_6[0][0]']                  \n",
      "                                                                                                  \n",
      "==================================================================================================\n",
      "Total params: 516,700\n",
      "Trainable params: 516,700\n",
      "Non-trainable params: 0\n",
      "__________________________________________________________________________________________________\n"
     ]
    }
   ],
   "source": [
    "x_input_user = Input(batch_shape = (None, x_user_train.shape[1]))\n",
    "x_input_item = Input(batch_shape = (None, x_item_train.shape[1]))\n",
    "\n",
    "x_user_emb = Embedding(input_dim = n_users, output_dim = n_factors)(x_input_user)\n",
    "x_user_emb = Dropout(rate=0.5)(x_user_emb)\n",
    "x_user_emb = Flatten()(x_user_emb)\n",
    "\n",
    "x_item_emb = Embedding(input_dim = n_items, output_dim = n_factors)(x_input_item)\n",
    "x_item_emb = Dropout(rate=0.5)(x_item_emb)\n",
    "x_item_emb = Flatten()(x_item_emb)\n",
    "\n",
    "y_output = Dot(axes=1)([x_user_emb, x_item_emb])\n",
    "# y_output = Activation('sigmoid')(y_output)\n",
    "y_output = Activation('hard_sigmoid')(y_output)\n",
    "\n",
    "\n",
    "model = Model([x_input_user, x_input_item], y_output)\n",
    "model.compile(loss='mean_squared_error', optimizer = Adam(learning_rate=0.001))\n",
    "model.summary()"
   ]
  },
  {
   "cell_type": "code",
   "execution_count": 28,
   "id": "11cc1b7c",
   "metadata": {},
   "outputs": [
    {
     "name": "stdout",
     "output_type": "stream",
     "text": [
      "Epoch 1/30\n",
      "89/89 [==============================] - 1s 6ms/step - loss: 0.0836 - val_loss: 0.0834\n",
      "Epoch 2/30\n",
      "89/89 [==============================] - 0s 5ms/step - loss: 0.0834 - val_loss: 0.0833\n",
      "Epoch 3/30\n",
      "89/89 [==============================] - 0s 5ms/step - loss: 0.0826 - val_loss: 0.0819\n",
      "Epoch 4/30\n",
      "89/89 [==============================] - 0s 5ms/step - loss: 0.0789 - val_loss: 0.0755\n",
      "Epoch 5/30\n",
      "89/89 [==============================] - 0s 4ms/step - loss: 0.0685 - val_loss: 0.0620\n",
      "Epoch 6/30\n",
      "89/89 [==============================] - 0s 5ms/step - loss: 0.0544 - val_loss: 0.0492\n",
      "Epoch 7/30\n",
      "89/89 [==============================] - 0s 5ms/step - loss: 0.0449 - val_loss: 0.0424\n",
      "Epoch 8/30\n",
      "89/89 [==============================] - 0s 5ms/step - loss: 0.0399 - val_loss: 0.0390\n",
      "Epoch 9/30\n",
      "89/89 [==============================] - 0s 5ms/step - loss: 0.0371 - val_loss: 0.0370\n",
      "Epoch 10/30\n",
      "89/89 [==============================] - 0s 5ms/step - loss: 0.0352 - val_loss: 0.0357\n",
      "Epoch 11/30\n",
      "89/89 [==============================] - 0s 5ms/step - loss: 0.0338 - val_loss: 0.0348\n",
      "Epoch 12/30\n",
      "89/89 [==============================] - 0s 5ms/step - loss: 0.0325 - val_loss: 0.0341\n",
      "Epoch 13/30\n",
      "89/89 [==============================] - 0s 5ms/step - loss: 0.0316 - val_loss: 0.0335\n",
      "Epoch 14/30\n",
      "89/89 [==============================] - 0s 5ms/step - loss: 0.0307 - val_loss: 0.0331\n",
      "Epoch 15/30\n",
      "89/89 [==============================] - 0s 5ms/step - loss: 0.0300 - val_loss: 0.0327\n",
      "Epoch 16/30\n",
      "89/89 [==============================] - 0s 5ms/step - loss: 0.0295 - val_loss: 0.0324\n",
      "Epoch 17/30\n",
      "89/89 [==============================] - 0s 5ms/step - loss: 0.0290 - val_loss: 0.0322\n",
      "Epoch 18/30\n",
      "89/89 [==============================] - 0s 4ms/step - loss: 0.0285 - val_loss: 0.0320\n",
      "Epoch 19/30\n",
      "89/89 [==============================] - 0s 5ms/step - loss: 0.0281 - val_loss: 0.0319\n",
      "Epoch 20/30\n",
      "89/89 [==============================] - 0s 4ms/step - loss: 0.0277 - val_loss: 0.0317\n",
      "Epoch 21/30\n",
      "89/89 [==============================] - 0s 5ms/step - loss: 0.0274 - val_loss: 0.0316\n",
      "Epoch 22/30\n",
      "89/89 [==============================] - 0s 5ms/step - loss: 0.0271 - val_loss: 0.0315\n",
      "Epoch 23/30\n",
      "89/89 [==============================] - 0s 4ms/step - loss: 0.0268 - val_loss: 0.0315\n",
      "Epoch 24/30\n",
      "89/89 [==============================] - 0s 5ms/step - loss: 0.0266 - val_loss: 0.0314\n",
      "Epoch 25/30\n",
      "89/89 [==============================] - 0s 5ms/step - loss: 0.0263 - val_loss: 0.0313\n",
      "Epoch 26/30\n",
      "89/89 [==============================] - 0s 5ms/step - loss: 0.0263 - val_loss: 0.0313\n",
      "Epoch 27/30\n",
      "89/89 [==============================] - 0s 5ms/step - loss: 0.0259 - val_loss: 0.0312\n",
      "Epoch 28/30\n",
      "89/89 [==============================] - 0s 5ms/step - loss: 0.0257 - val_loss: 0.0312\n",
      "Epoch 29/30\n",
      "89/89 [==============================] - 0s 5ms/step - loss: 0.0257 - val_loss: 0.0311\n",
      "Epoch 30/30\n",
      "89/89 [==============================] - 0s 5ms/step - loss: 0.0255 - val_loss: 0.0311\n"
     ]
    },
    {
     "data": {
      "image/png": "[encoded data removed]",
      "text/plain": [
       "<Figure size 432x288 with 1 Axes>"
      ]
     },
     "metadata": {
      "needs_background": "light"
     },
     "output_type": "display_data"
    }
   ],
   "source": [
    "# 학습\n",
    "hist = model.fit([x_user_train, x_item_train], y_rating_train, \n",
    "                 batch_size=1024, \n",
    "                 epochs = 30,\n",
    "                 validation_data=([x_user_test, x_item_test], y_rating_test))\n",
    "\n",
    "# loss 확인\n",
    "plt.plot(hist.history['loss'], label='train')\n",
    "plt.plot(hist.history['val_loss'], label='test')\n",
    "plt.legend()\n",
    "plt.show()\n"
   ]
  },
  {
   "cell_type": "code",
   "execution_count": 29,
   "id": "daffc813",
   "metadata": {},
   "outputs": [],
   "source": [
    "# 타겟 유저가 보지 않은 영화들에 대해 해당 유저가 부여할 rating을 추정한다.\n",
    "user_id = user_enc.transform([9])[0]         # target user = 9\n",
    "top_n = 20          # 추정 평점이 높은 상위 top_n개 추천\n",
    "\n",
    "# target user가 본 movieId\n",
    "seen_id = set(df[df['userId'] == user_id]['movieId'])\n",
    "\n",
    "# target user가 보지 않은 movieId\n",
    "unseen_id = list(set(df['movieId']) - seen_id)"
   ]
  },
  {
   "cell_type": "code",
   "execution_count": 30,
   "id": "95eae556",
   "metadata": {},
   "outputs": [],
   "source": [
    "# target user가 보지 않은 영화의 평점을 추정하기 위한 데이터 세트를 생성한다.\n",
    "x_target_item = np.array(unseen_id, dtype=np.int32)\n",
    "x_target_user = np.ones(shape = x_target_item.shape, dtype=np.int32) * user_id\n"
   ]
  },
  {
   "cell_type": "code",
   "execution_count": 31,
   "id": "bfb18db9",
   "metadata": {},
   "outputs": [
    {
     "data": {
      "text/html": [
       "<div>\n",
       "<style scoped>\n",
       "    .dataframe tbody tr th:only-of-type {\n",
       "        vertical-align: middle;\n",
       "    }\n",
       "\n",
       "    .dataframe tbody tr th {\n",
       "        vertical-align: top;\n",
       "    }\n",
       "\n",
       "    .dataframe thead th {\n",
       "        text-align: right;\n",
       "    }\n",
       "</style>\n",
       "<table border=\"1\" class=\"dataframe\">\n",
       "  <thead>\n",
       "    <tr style=\"text-align: right;\">\n",
       "      <th></th>\n",
       "      <th>userId</th>\n",
       "      <th>movieId</th>\n",
       "      <th>rating</th>\n",
       "    </tr>\n",
       "  </thead>\n",
       "  <tbody>\n",
       "    <tr>\n",
       "      <th>274</th>\n",
       "      <td>9</td>\n",
       "      <td>318</td>\n",
       "      <td>5.000000</td>\n",
       "    </tr>\n",
       "    <tr>\n",
       "      <th>597</th>\n",
       "      <td>9</td>\n",
       "      <td>750</td>\n",
       "      <td>4.991467</td>\n",
       "    </tr>\n",
       "    <tr>\n",
       "      <th>457</th>\n",
       "      <td>9</td>\n",
       "      <td>527</td>\n",
       "      <td>4.922862</td>\n",
       "    </tr>\n",
       "    <tr>\n",
       "      <th>654</th>\n",
       "      <td>9</td>\n",
       "      <td>858</td>\n",
       "      <td>4.898319</td>\n",
       "    </tr>\n",
       "    <tr>\n",
       "      <th>675</th>\n",
       "      <td>9</td>\n",
       "      <td>898</td>\n",
       "      <td>4.889508</td>\n",
       "    </tr>\n",
       "  </tbody>\n",
       "</table>\n",
       "</div>"
      ],
      "text/plain": [
       "     userId  movieId    rating\n",
       "274       9      318  5.000000\n",
       "597       9      750  4.991467\n",
       "457       9      527  4.922862\n",
       "654       9      858  4.898319\n",
       "675       9      898  4.889508"
      ]
     },
     "execution_count": 31,
     "metadata": {},
     "output_type": "execute_result"
    }
   ],
   "source": [
    "# target user가 보지 않은 영화의 평점을 추정한다.\n",
    "x_target_rating = model.predict([x_target_user, x_target_item])\n",
    "\n",
    "# 추정 평점이 높은 순서로 정렬한다. 학습시 rating을 5로 나눠주었기 때문에, 다시 5를 곱해주었다.\n",
    "x_target_df = pd.DataFrame({'userId': user_enc.inverse_transform(x_target_user), \n",
    "                            'movieId': item_enc.inverse_transform(x_target_item),\n",
    "                            'rating': x_target_rating.reshape(-1) * 5})\n",
    "\n",
    "x_target_df = x_target_df.sort_values(by = 'rating', ascending = False)[:top_n]\n",
    "x_target_df[['userId', 'movieId']] = x_target_df[['userId', 'movieId']].astype('int64')\n",
    "x_target_df.head()\n"
   ]
  },
  {
   "cell_type": "code",
   "execution_count": 32,
   "id": "2a068d55",
   "metadata": {},
   "outputs": [
    {
     "name": "stdout",
     "output_type": "stream",
     "text": [
      "\n",
      "영화 추천 목록 : User = 9\n",
      " No Title                                    Expected rating\n",
      " 1 : Shawshank Redemption, The (1994)             5.0000\n",
      " 2 : Dr. Strangelove or: How I Learned to St      4.9915\n",
      " 3 : Schindler's List (1993)                      4.9229\n",
      " 4 : Godfather, The (1972)                        4.8983\n",
      " 5 : Philadelphia Story, The (1940)               4.8895\n",
      " 6 : Pulp Fiction (1994)                          4.8513\n",
      " 7 : Fight Club (1999)                            4.8138\n",
      " 8 : Usual Suspects, The (1995)                   4.8112\n",
      " 9 : Godfather: Part II, The (1974)               4.8048\n",
      "10 : Patton (1970)                                4.7961\n",
      "11 : Dark Knight, The (2008)                      4.7698\n",
      "12 : Three Billboards Outside Ebbing, Missou      4.7697\n",
      "13 : North by Northwest (1959)                    4.7456\n",
      "14 : Trial, The (Procès, Le) (1962)               4.7394\n",
      "15 : Monty Python and the Holy Grail (1975)       4.7305\n",
      "16 : Bridge on the River Kwai, The (1957)         4.7302\n",
      "17 : Princess Bride, The (1987)                   4.7054\n",
      "18 : Star Wars: Episode V - The Empire Strik      4.7041\n",
      "19 : Lawrence of Arabia (1962)                    4.6922\n",
      "20 : Star Wars: Episode IV - A New Hope (197      4.6801\n"
     ]
    }
   ],
   "source": [
    "# 추천 결과를 출력한다.\n",
    "print('\\n영화 추천 목록 : User = {}'.format(user_enc.inverse_transform([user_id])[0]))\n",
    "print(\" No {:40s} {:s}\".format('Title', 'Expected rating'))\n",
    "for i, (idx, row) in enumerate(x_target_df.iterrows()):\n",
    "    title = movies[movies['movieId'] == row['movieId']]['title'].values[0]\n",
    "    print(\"{:2d} : {:40s}     {:.4f}\".format(i+1, title[:39], row['rating']))\n"
   ]
  },
  {
   "cell_type": "code",
   "execution_count": 33,
   "id": "977a8350",
   "metadata": {},
   "outputs": [
    {
     "name": "stdout",
     "output_type": "stream",
     "text": [
      "MSE = 0.0311\n"
     ]
    },
    {
     "data": {
      "text/plain": [
       "0.2734084210812041"
      ]
     },
     "execution_count": 33,
     "metadata": {},
     "output_type": "execute_result"
    }
   ],
   "source": [
    "# 평가. MSE로 평가한다.\n",
    "# 추천 결과에 대한 신뢰도로 활용할 수 있다.\n",
    "# loss가 local min 지점에 빠질 수 있으므로 여러번 수행한 후 MSE가 작았을 때의 결과를 최종 결과로 선택한다.\n",
    "pred = model.predict([x_user_test, x_item_test])\n",
    "\n",
    "# MSE를 계산한다.\n",
    "mse = mean_squared_error(pred, y_rating_test)\n",
    "print('MSE =', mse.round(4))\n",
    "\n",
    "from sklearn.metrics import r2_score\n",
    "r2_score(y_rating_test, pred)"
   ]
  },
  {
   "cell_type": "code",
   "execution_count": null,
   "id": "012085b4",
   "metadata": {},
   "outputs": [],
   "source": []
  },
  {
   "cell_type": "code",
   "execution_count": null,
   "id": "fb241fa5",
   "metadata": {},
   "outputs": [],
   "source": []
  },
  {
   "cell_type": "code",
   "execution_count": null,
   "id": "4a5f6051",
   "metadata": {},
   "outputs": [],
   "source": []
  }
 ],
 "metadata": {
  "kernelspec": {
   "display_name": "Python 3 (ipykernel)",
   "language": "python",
   "name": "python3"
  },
  "language_info": {
   "codemirror_mode": {
    "name": "ipython",
    "version": 3
   },
   "file_extension": ".py",
   "mimetype": "text/x-python",
   "name": "python",
   "nbconvert_exporter": "python",
   "pygments_lexer": "ipython3",
   "version": "3.9.7"
  }
 },
 "nbformat": 4,
 "nbformat_minor": 5
}
