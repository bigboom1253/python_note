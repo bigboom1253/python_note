{
 "cells": [
  {
   "cell_type": "code",
   "execution_count": 1,
   "id": "19fe1ba3",
   "metadata": {},
   "outputs": [],
   "source": [
    "from tensorflow.keras.layers import Dense, Input, SimpleRNN\n",
    "from tensorflow.keras.models import Model\n",
    "from tensorflow.keras.optimizers import Adam\n",
    "import numpy as np\n",
    "import pandas as pd\n",
    "import matplotlib.pyplot as plt"
   ]
  },
  {
   "cell_type": "code",
   "execution_count": 2,
   "id": "dae7401f",
   "metadata": {},
   "outputs": [],
   "source": [
    "# 2차원 배열의 feature 데이터로 LSTM 학습 데이터를 만든다.\n",
    "def build_train_data(data, t_step, n_jump = 1):\n",
    "    n_data = data.shape[0]   # number of data\n",
    "    n_feat = data.shape[1]   # number of features\n",
    "\n",
    "    m = np.arange(0, n_data - t_step, n_jump)   # m =  [0, 1, 2, 3, 4, 5]\n",
    "    x = np.array([data[i:(i+t_step), :] for i in m])      # feature data\n",
    "    y = np.array([data[i, :] for i in (m + t_step)])      # target data\n",
    "\n",
    "    # shape을 조정한다. feature = 3D, target = 2D\n",
    "    x_data = x.reshape(-1, t_step, n_feat)\n",
    "    y_target = y.reshape(-1, n_feat)\n",
    "    \n",
    "    return x_data, y_target\n"
   ]
  },
  {
   "cell_type": "code",
   "execution_count": 3,
   "id": "6a95c1c1",
   "metadata": {},
   "outputs": [],
   "source": [
    "# 시계열 데이터 (noisy sin)\n",
    "n_data = 1000\n",
    "sine = np.sin(2 * np.pi * 0.03 * np.arange(n_data)) + np.random.random(n_data) # noisy sine\n"
   ]
  },
  {
   "cell_type": "code",
   "execution_count": 4,
   "id": "19141dd7",
   "metadata": {},
   "outputs": [
    {
     "data": {
      "text/html": [
       "<div>\n",
       "<style scoped>\n",
       "    .dataframe tbody tr th:only-of-type {\n",
       "        vertical-align: middle;\n",
       "    }\n",
       "\n",
       "    .dataframe tbody tr th {\n",
       "        vertical-align: top;\n",
       "    }\n",
       "\n",
       "    .dataframe thead th {\n",
       "        text-align: right;\n",
       "    }\n",
       "</style>\n",
       "<table border=\"1\" class=\"dataframe\">\n",
       "  <thead>\n",
       "    <tr style=\"text-align: right;\">\n",
       "      <th></th>\n",
       "      <th>sine</th>\n",
       "    </tr>\n",
       "  </thead>\n",
       "  <tbody>\n",
       "    <tr>\n",
       "      <th>0</th>\n",
       "      <td>0.685006</td>\n",
       "    </tr>\n",
       "    <tr>\n",
       "      <th>1</th>\n",
       "      <td>0.384318</td>\n",
       "    </tr>\n",
       "    <tr>\n",
       "      <th>2</th>\n",
       "      <td>0.773695</td>\n",
       "    </tr>\n",
       "    <tr>\n",
       "      <th>3</th>\n",
       "      <td>0.713186</td>\n",
       "    </tr>\n",
       "    <tr>\n",
       "      <th>4</th>\n",
       "      <td>0.940435</td>\n",
       "    </tr>\n",
       "  </tbody>\n",
       "</table>\n",
       "</div>"
      ],
      "text/plain": [
       "       sine\n",
       "0  0.685006\n",
       "1  0.384318\n",
       "2  0.773695\n",
       "3  0.713186\n",
       "4  0.940435"
      ]
     },
     "execution_count": 4,
     "metadata": {},
     "output_type": "execute_result"
    }
   ],
   "source": [
    "# 데이터가 데이터프레임 형식으로 되어 있다고 생각하자. feature가 1개이고 target이 없는 데이터임.\n",
    "df = pd.DataFrame({'sine':sine})\n",
    "df.head()"
   ]
  },
  {
   "cell_type": "code",
   "execution_count": 5,
   "id": "f8abb13d",
   "metadata": {},
   "outputs": [
    {
     "data": {
      "text/plain": [
       "((980, 20, 1), (980, 1))"
      ]
     },
     "execution_count": 5,
     "metadata": {},
     "output_type": "execute_result"
    }
   ],
   "source": [
    "t_step = 20\n",
    "\n",
    "# 학습 데이터를 생성한다.\n",
    "data = np.array(df)\n",
    "x_train, y_train = build_train_data(data, t_step)\n",
    "x_train.shape, y_train.shape"
   ]
  },
  {
   "cell_type": "code",
   "execution_count": null,
   "id": "2b4d7c46",
   "metadata": {},
   "outputs": [],
   "source": [
    "\n",
    "\n",
    "x_input = Input(batch_shape=(None, t_step, n_input))\n",
    "x_lstm = SimpleRNN(n_hidden)(x_input)\n",
    "y_output = Dense(n_output)(x_lstm)\n",
    "\n",
    "model = Model(x_input, y_output)\n",
    "model.compile(loss='mean_squared_error', optimizer=Adam(learning_rate=0.001))\n",
    "model.summary(line_length=120)\n",
    "\n",
    "# 학습한다\n",
    "h = model.fit(x_train, y_train, epochs=20, batch_size=100, shuffle=True)\n",
    "\n",
    "# Loss history를 그린다\n",
    "plt.figure(figsize=(8, 3))\n",
    "plt.plot(h.history['loss'], color='red')\n",
    "plt.title(\"Loss History\")\n",
    "plt.xlabel(\"epoch\")\n",
    "plt.ylabel(\"loss\")\n",
    "plt.show()"
   ]
  }
 ],
 "metadata": {
  "kernelspec": {
   "display_name": "Python 3 (ipykernel)",
   "language": "python",
   "name": "python3"
  },
  "language_info": {
   "codemirror_mode": {
    "name": "ipython",
    "version": 3
   },
   "file_extension": ".py",
   "mimetype": "text/x-python",
   "name": "python",
   "nbconvert_exporter": "python",
   "pygments_lexer": "ipython3",
   "version": "3.9.7"
  }
 },
 "nbformat": 4,
 "nbformat_minor": 5
}
