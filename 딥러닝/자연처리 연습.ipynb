{
 "cells": [
  {
   "cell_type": "code",
   "execution_count": 1,
   "id": "a4a52a0f",
   "metadata": {},
   "outputs": [],
   "source": [
    "from sklearn.feature_extraction.text import CountVectorizer"
   ]
  },
  {
   "cell_type": "code",
   "execution_count": 2,
   "id": "811521c0",
   "metadata": {},
   "outputs": [],
   "source": [
    "text_data = ['나는 배가 고프다',\n",
    "            '내일 점심 뭐먹지',\n",
    "            '내일 공부 해야겠다',\n",
    "            '점심 먹고 공부 해야지']\n"
   ]
  },
  {
   "cell_type": "code",
   "execution_count": 4,
   "id": "1b049d46",
   "metadata": {},
   "outputs": [
    {
     "name": "stdout",
     "output_type": "stream",
     "text": [
      "{'나는': 2, '배가': 6, '고프다': 0, '내일': 3, '점심': 7, '뭐먹지': 5, '공부': 1, '해야겠다': 8, '먹고': 4, '해야지': 9}\n"
     ]
    }
   ],
   "source": [
    "count_vectorizer = CountVectorizer()\n",
    "count_vectorizer.fit(text_data)\n",
    "print(count_vectorizer.vocabulary_)"
   ]
  },
  {
   "cell_type": "code",
   "execution_count": 5,
   "id": "2941389c",
   "metadata": {},
   "outputs": [
    {
     "name": "stdout",
     "output_type": "stream",
     "text": [
      "[[1 0 1 0 0 0 1 0 0 0]]\n"
     ]
    }
   ],
   "source": [
    "sentence = [text_data[0]]\n",
    "print(count_vectorizer.transform(sentence).toarray())"
   ]
  },
  {
   "cell_type": "code",
   "execution_count": 7,
   "id": "017972b7",
   "metadata": {},
   "outputs": [
    {
     "data": {
      "text/plain": [
       "{'나는': 2,\n",
       " '배가': 6,\n",
       " '고프다': 0,\n",
       " '내일': 3,\n",
       " '점심': 7,\n",
       " '뭐먹지': 5,\n",
       " '공부': 1,\n",
       " '해야겠다': 8,\n",
       " '먹고': 4,\n",
       " '해야지': 9}"
      ]
     },
     "execution_count": 7,
     "metadata": {},
     "output_type": "execute_result"
    }
   ],
   "source": [
    "word2idx = count_vectorizer.vocabulary_\n",
    "word2idx"
   ]
  },
  {
   "cell_type": "code",
   "execution_count": 8,
   "id": "152437fe",
   "metadata": {},
   "outputs": [
    {
     "data": {
      "text/plain": [
       "{2: '나는',\n",
       " 6: '배가',\n",
       " 0: '고프다',\n",
       " 3: '내일',\n",
       " 7: '점심',\n",
       " 5: '뭐먹지',\n",
       " 1: '공부',\n",
       " 8: '해야겠다',\n",
       " 4: '먹고',\n",
       " 9: '해야지'}"
      ]
     },
     "execution_count": 8,
     "metadata": {},
     "output_type": "execute_result"
    }
   ],
   "source": [
    "idx2word = {v:k for (k, v) in word2idx.items()}\n",
    "idx2word"
   ]
  },
  {
   "cell_type": "code",
   "execution_count": 9,
   "id": "c4e047f4",
   "metadata": {},
   "outputs": [
    {
     "name": "stdout",
     "output_type": "stream",
     "text": [
      "[[1 0 1 0 0 0 1 0 0 0]\n",
      " [0 0 0 1 0 1 0 1 0 0]\n",
      " [0 1 0 1 0 0 0 0 1 0]\n",
      " [0 1 0 0 1 0 0 1 0 1]]\n"
     ]
    }
   ],
   "source": [
    "print(count_vectorizer.transform(text_data).toarray())"
   ]
  },
  {
   "cell_type": "code",
   "execution_count": 10,
   "id": "55c2cd2b",
   "metadata": {},
   "outputs": [],
   "source": [
    "from sklearn.feature_extraction.text import TfidfVectorizer"
   ]
  },
  {
   "cell_type": "code",
   "execution_count": 11,
   "id": "7e2e79ce",
   "metadata": {},
   "outputs": [
    {
     "name": "stdout",
     "output_type": "stream",
     "text": [
      "{'나는': 2, '배가': 6, '고프다': 0, '내일': 3, '점심': 7, '뭐먹지': 5, '공부': 1, '해야겠다': 8, '먹고': 4, '해야지': 9}\n"
     ]
    }
   ],
   "source": [
    "tfidf_Vectorizer = TfidfVectorizer()\n",
    "tfidf_Vectorizer.fit(text_data)\n",
    "print(tfidf_Vectorizer.vocabulary_)"
   ]
  },
  {
   "cell_type": "code",
   "execution_count": 12,
   "id": "e824813b",
   "metadata": {},
   "outputs": [
    {
     "name": "stdout",
     "output_type": "stream",
     "text": [
      "[[0.57735027 0.         0.57735027 0.         0.         0.\n",
      "  0.57735027 0.         0.         0.        ]\n",
      " [0.         0.         0.         0.52640543 0.         0.66767854\n",
      "  0.         0.52640543 0.         0.        ]\n",
      " [0.         0.52640543 0.         0.52640543 0.         0.\n",
      "  0.         0.         0.66767854 0.        ]\n",
      " [0.         0.43779123 0.         0.         0.55528266 0.\n",
      "  0.         0.43779123 0.         0.55528266]]\n"
     ]
    }
   ],
   "source": [
    "print(tfidf_Vectorizer.transform(text_data).toarray())"
   ]
  },
  {
   "cell_type": "code",
   "execution_count": 13,
   "id": "792a53c9",
   "metadata": {},
   "outputs": [],
   "source": [
    "from sklearn.feature_extraction.text import HashingVectorizer"
   ]
  },
  {
   "cell_type": "code",
   "execution_count": 16,
   "id": "86fb0d50",
   "metadata": {},
   "outputs": [
    {
     "data": {
      "text/plain": [
       "HashingVectorizer(n_features=10)"
      ]
     },
     "execution_count": 16,
     "metadata": {},
     "output_type": "execute_result"
    }
   ],
   "source": [
    "hash_Vectorizer = HashingVectorizer(n_features=10)\n",
    "hash_Vectorizer.fit(text_data)"
   ]
  },
  {
   "cell_type": "code",
   "execution_count": 17,
   "id": "7990ad1d",
   "metadata": {},
   "outputs": [
    {
     "name": "stdout",
     "output_type": "stream",
     "text": [
      "[[ 0.          0.57735027  0.          0.          0.57735027  0.\n",
      "  -0.57735027  0.          0.          0.        ]\n",
      " [ 0.          1.          0.          0.          0.          0.\n",
      "   0.          0.          0.          0.        ]\n",
      " [-0.57735027  0.57735027  0.          0.          0.          0.\n",
      "   0.57735027  0.          0.          0.        ]\n",
      " [ 0.70710678  0.          0.          0.          0.          0.\n",
      "   0.70710678  0.          0.          0.        ]]\n"
     ]
    }
   ],
   "source": [
    "print(hash_Vectorizer.transform(text_data).toarray())"
   ]
  },
  {
   "cell_type": "code",
   "execution_count": 20,
   "id": "979153d8",
   "metadata": {},
   "outputs": [
    {
     "name": "stderr",
     "output_type": "stream",
     "text": [
      "[nltk_data] Downloading package punkt to\n",
      "[nltk_data]     C:\\Users\\배진우\\AppData\\Roaming\\nltk_data...\n",
      "[nltk_data]   Unzipping tokenizers\\punkt.zip.\n",
      "[nltk_data] Downloading package stopwords to\n",
      "[nltk_data]     C:\\Users\\배진우\\AppData\\Roaming\\nltk_data...\n",
      "[nltk_data]   Unzipping corpora\\stopwords.zip.\n"
     ]
    },
    {
     "data": {
      "text/plain": [
       "True"
      ]
     },
     "execution_count": 20,
     "metadata": {},
     "output_type": "execute_result"
    }
   ],
   "source": [
    "import nltk\n",
    "nltk.download('punkt')\n",
    "nltk.download('stopwords')"
   ]
  },
  {
   "cell_type": "code",
   "execution_count": 21,
   "id": "db882223",
   "metadata": {},
   "outputs": [
    {
     "name": "stdout",
     "output_type": "stream",
     "text": [
      "['Natural', 'language', 'processing', '(', 'NLP', ')', 'is', 'a', 'subfield', 'of', 'computer', 'science', ',', 'information', 'engineering', ',', 'and', 'artificial', 'intelligence', 'concerned', 'with', 'the', 'interactions', 'between', 'computers', 'and', 'human', '(', 'natural', ')', 'languages', ',', 'in', 'particular', 'how', 'to', 'program', 'computers', 'to', 'process', 'and', 'analyze', 'large', 'amounts', 'of', 'natural', 'language', 'data', '.']\n"
     ]
    }
   ],
   "source": [
    "from nltk.tokenize import word_tokenize\n",
    "\n",
    "sentence = \"\"\"\n",
    "Natural language processing (NLP) is a subfield of computer science, information engineering, \n",
    "and artificial intelligence concerned with the interactions between computers and human (natural) languages, \n",
    "in particular how to program computers to process and analyze large amounts of natural language data.\n",
    "\"\"\"\n",
    "\n",
    "print(word_tokenize(sentence))\n"
   ]
  },
  {
   "cell_type": "code",
   "execution_count": 24,
   "id": "dc0dd12d",
   "metadata": {},
   "outputs": [
    {
     "name": "stdout",
     "output_type": "stream",
     "text": [
      "['Il', 'ike', 'you']\n"
     ]
    }
   ],
   "source": [
    "sentence2 = 'Ilike you'\n",
    "print(word_tokenize(sentence2))"
   ]
  },
  {
   "cell_type": "code",
   "execution_count": 25,
   "id": "a3ce109a",
   "metadata": {},
   "outputs": [
    {
     "name": "stderr",
     "output_type": "stream",
     "text": [
      "[nltk_data] Downloading package punkt to\n",
      "[nltk_data]     C:\\Users\\배진우\\AppData\\Roaming\\nltk_data...\n",
      "[nltk_data]   Package punkt is already up-to-date!\n",
      "[nltk_data] Downloading package averaged_perceptron_tagger to\n",
      "[nltk_data]     C:\\Users\\배진우\\AppData\\Roaming\\nltk_data...\n"
     ]
    },
    {
     "name": "stdout",
     "output_type": "stream",
     "text": [
      "['Natural', 'language', 'processing', '(', 'NLP', ')', 'is', 'a', 'subfield', 'of', 'computer', 'science', ',', 'information', 'engineering', ',', 'and', 'artificial', 'intelligence', 'concerned', 'with', 'the', 'interactions', 'between', 'computers', 'and', 'human', '(', 'natural', ')', 'languages', ',', 'in', 'particular', 'how', 'to', 'program', 'computers', 'to', 'process', 'and', 'analyze', 'large', 'amounts', 'of', 'natural', 'language', 'data', '.']\n"
     ]
    },
    {
     "name": "stderr",
     "output_type": "stream",
     "text": [
      "[nltk_data]   Unzipping taggers\\averaged_perceptron_tagger.zip.\n"
     ]
    },
    {
     "data": {
      "text/plain": [
       "[('Natural', 'language', 'processing', 'subfield'),\n",
       " ('language', 'processing', 'subfield', 'computer'),\n",
       " ('processing', 'subfield', 'computer', 'science'),\n",
       " ('subfield', 'computer', 'science', 'information'),\n",
       " ('computer', 'science', 'information', 'engineering'),\n",
       " ('science', 'information', 'engineering', 'artificial'),\n",
       " ('information', 'engineering', 'artificial', 'intelligence'),\n",
       " ('engineering', 'artificial', 'intelligence', 'human'),\n",
       " ('artificial', 'intelligence', 'human', 'natural'),\n",
       " ('intelligence', 'human', 'natural', 'particular'),\n",
       " ('human', 'natural', 'particular', 'program'),\n",
       " ('natural', 'particular', 'program', 'large'),\n",
       " ('particular', 'program', 'large', 'natural'),\n",
       " ('program', 'large', 'natural', 'language')]"
      ]
     },
     "execution_count": 25,
     "metadata": {},
     "output_type": "execute_result"
    }
   ],
   "source": [
    "import nltk\n",
    "nltk.download('punkt')      # '/root/nltk_data/tokenizers'\n",
    "nltk.download('averaged_perceptron_tagger')  # 형태소 분석을 위해 필요한 도구\n",
    "\n",
    "sentence = \"\"\"\n",
    "Natural language processing (NLP) is a subfield of computer science, information engineering, \n",
    "and artificial intelligence concerned with the interactions between computers and human (natural) languages, \n",
    "in particular how to program computers to process and analyze large amounts of natural language data.\n",
    "\"\"\"\n",
    "word_tok = nltk.word_tokenize(sentence)\n",
    "print(word_tok)\n",
    "\n",
    "nltk.pos_tag(word_tok)\n",
    "\n",
    "# 명사와 형용사만 표시한다.\n",
    "sent_nnjj = [word for word, pos in nltk.pos_tag(word_tok) if pos == 'NN' or pos == 'JJ']\n",
    "sent_nnjj\n",
    "\n",
    "# bigram\n",
    "bigram = [(a, b) for a, b in nltk.bigrams(sent_nnjj)]\n",
    "bigram\n",
    "\n",
    "# trigram\n",
    "trigram = [(a, b, c) for a, b, c in nltk.trigrams(sent_nnjj)]\n",
    "trigram\n",
    "\n",
    "# n-gram\n",
    "ngram = [(a, b, c, d) for a, b, c, d in nltk.ngrams(sent_nnjj, 4)]\n",
    "ngram"
   ]
  },
  {
   "cell_type": "code",
   "execution_count": 1,
   "id": "15e97819",
   "metadata": {},
   "outputs": [],
   "source": [
    "import konlpy\n",
    "from konlpy.tag import Okt"
   ]
  },
  {
   "cell_type": "code",
   "execution_count": 2,
   "id": "b20911ef",
   "metadata": {
    "scrolled": true
   },
   "outputs": [],
   "source": [
    "okt= Okt()"
   ]
  },
  {
   "cell_type": "code",
   "execution_count": 3,
   "id": "b49d7ffb",
   "metadata": {},
   "outputs": [
    {
     "name": "stdout",
     "output_type": "stream",
     "text": [
      "['한글', '자연어', '처리', '는', '재밌다', '.', '이제', '부터', '열심히', '해야지', 'ㅎㅎㅎ']\n"
     ]
    }
   ],
   "source": [
    "text = '한글 자연어 처리는 재밌다. 이제부터 열심히 해야지 ㅎㅎㅎ'\n",
    "\n",
    "print(okt.morphs(text))"
   ]
  },
  {
   "cell_type": "code",
   "execution_count": 23,
   "id": "8560a886",
   "metadata": {},
   "outputs": [],
   "source": [
    "from sklearn.feature_extraction.text import CountVectorizer\n",
    "import numpy as np"
   ]
  },
  {
   "cell_type": "code",
   "execution_count": 24,
   "id": "fd4f84f0",
   "metadata": {},
   "outputs": [],
   "source": [
    "text = ['성진과 창욱은 야구장에 갔다',\n",
    "       '성진과 태균은 도서관에 갔다',\n",
    "       '성진과 창욱은 공부를 좋아한다']"
   ]
  },
  {
   "cell_type": "code",
   "execution_count": 25,
   "id": "d0cb9682",
   "metadata": {},
   "outputs": [],
   "source": [
    "cv = CountVectorizer()"
   ]
  },
  {
   "cell_type": "code",
   "execution_count": 26,
   "id": "bd03d20c",
   "metadata": {},
   "outputs": [
    {
     "data": {
      "text/plain": [
       "array([[1, 0, 0, 1, 1, 0, 1, 0],\n",
       "       [1, 0, 1, 1, 0, 0, 0, 1],\n",
       "       [0, 1, 0, 1, 0, 1, 1, 0]], dtype=int64)"
      ]
     },
     "execution_count": 26,
     "metadata": {},
     "output_type": "execute_result"
    }
   ],
   "source": [
    "x = cv.fit_transform(text).toarray()\n",
    "x"
   ]
  },
  {
   "cell_type": "code",
   "execution_count": 27,
   "id": "947f6bd7",
   "metadata": {},
   "outputs": [
    {
     "data": {
      "text/plain": [
       "array([[1, 1, 0],\n",
       "       [0, 0, 1],\n",
       "       [0, 1, 0],\n",
       "       [1, 1, 1],\n",
       "       [1, 0, 0],\n",
       "       [0, 0, 1],\n",
       "       [1, 0, 1],\n",
       "       [0, 1, 0]], dtype=int64)"
      ]
     },
     "execution_count": 27,
     "metadata": {},
     "output_type": "execute_result"
    }
   ],
   "source": [
    "x.T"
   ]
  },
  {
   "cell_type": "code",
   "execution_count": 31,
   "id": "1180a61a",
   "metadata": {},
   "outputs": [
    {
     "data": {
      "text/plain": [
       "array([[2, 0, 1, 2, 1, 0, 1, 1],\n",
       "       [0, 1, 0, 1, 0, 1, 1, 0],\n",
       "       [1, 0, 1, 1, 0, 0, 0, 1],\n",
       "       [2, 1, 1, 3, 1, 1, 2, 1],\n",
       "       [1, 0, 0, 1, 1, 0, 1, 0],\n",
       "       [0, 1, 0, 1, 0, 1, 1, 0],\n",
       "       [1, 1, 0, 2, 1, 1, 2, 0],\n",
       "       [1, 0, 1, 1, 0, 0, 0, 1]], dtype=int64)"
      ]
     },
     "execution_count": 31,
     "metadata": {},
     "output_type": "execute_result"
    }
   ],
   "source": [
    "C = np.dot(x.T, x)\n",
    "C"
   ]
  },
  {
   "cell_type": "code",
   "execution_count": null,
   "id": "193b1806",
   "metadata": {},
   "outputs": [],
   "source": []
  }
 ],
 "metadata": {
  "kernelspec": {
   "display_name": "Python 3 (ipykernel)",
   "language": "python",
   "name": "python3"
  },
  "language_info": {
   "codemirror_mode": {
    "name": "ipython",
    "version": 3
   },
   "file_extension": ".py",
   "mimetype": "text/x-python",
   "name": "python",
   "nbconvert_exporter": "python",
   "pygments_lexer": "ipython3",
   "version": "3.9.7"
  }
 },
 "nbformat": 4,
 "nbformat_minor": 5
}
