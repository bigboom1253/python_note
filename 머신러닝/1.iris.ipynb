{
 "cells": [
  {
   "cell_type": "code",
   "execution_count": 27,
   "id": "0e8c5093",
   "metadata": {},
   "outputs": [],
   "source": [
    "import matplotlib.pyplot as plt\n",
    "from sklearn.datasets import load_iris\n",
    "from sklearn.model_selection import train_test_split\n",
    "from sklearn.neighbors import KNeighborsClassifier\n",
    "import math\n",
    "import collections"
   ]
  },
  {
   "cell_type": "code",
   "execution_count": 2,
   "id": "fb9d4d93",
   "metadata": {},
   "outputs": [],
   "source": [
    "iris = load_iris()"
   ]
  },
  {
   "cell_type": "code",
   "execution_count": 3,
   "id": "9e376944",
   "metadata": {},
   "outputs": [
    {
     "data": {
      "text/plain": [
       "array([[5.1, 3.5, 1.4, 0.2],\n",
       "       [4.9, 3. , 1.4, 0.2],\n",
       "       [4.7, 3.2, 1.3, 0.2],\n",
       "       [4.6, 3.1, 1.5, 0.2],\n",
       "       [5. , 3.6, 1.4, 0.2],\n",
       "       [5.4, 3.9, 1.7, 0.4],\n",
       "       [4.6, 3.4, 1.4, 0.3],\n",
       "       [5. , 3.4, 1.5, 0.2],\n",
       "       [4.4, 2.9, 1.4, 0.2],\n",
       "       [4.9, 3.1, 1.5, 0.1],\n",
       "       [5.4, 3.7, 1.5, 0.2],\n",
       "       [4.8, 3.4, 1.6, 0.2],\n",
       "       [4.8, 3. , 1.4, 0.1],\n",
       "       [4.3, 3. , 1.1, 0.1],\n",
       "       [5.8, 4. , 1.2, 0.2],\n",
       "       [5.7, 4.4, 1.5, 0.4],\n",
       "       [5.4, 3.9, 1.3, 0.4],\n",
       "       [5.1, 3.5, 1.4, 0.3],\n",
       "       [5.7, 3.8, 1.7, 0.3],\n",
       "       [5.1, 3.8, 1.5, 0.3],\n",
       "       [5.4, 3.4, 1.7, 0.2],\n",
       "       [5.1, 3.7, 1.5, 0.4],\n",
       "       [4.6, 3.6, 1. , 0.2],\n",
       "       [5.1, 3.3, 1.7, 0.5],\n",
       "       [4.8, 3.4, 1.9, 0.2],\n",
       "       [5. , 3. , 1.6, 0.2],\n",
       "       [5. , 3.4, 1.6, 0.4],\n",
       "       [5.2, 3.5, 1.5, 0.2],\n",
       "       [5.2, 3.4, 1.4, 0.2],\n",
       "       [4.7, 3.2, 1.6, 0.2],\n",
       "       [4.8, 3.1, 1.6, 0.2],\n",
       "       [5.4, 3.4, 1.5, 0.4],\n",
       "       [5.2, 4.1, 1.5, 0.1],\n",
       "       [5.5, 4.2, 1.4, 0.2],\n",
       "       [4.9, 3.1, 1.5, 0.2],\n",
       "       [5. , 3.2, 1.2, 0.2],\n",
       "       [5.5, 3.5, 1.3, 0.2],\n",
       "       [4.9, 3.6, 1.4, 0.1],\n",
       "       [4.4, 3. , 1.3, 0.2],\n",
       "       [5.1, 3.4, 1.5, 0.2],\n",
       "       [5. , 3.5, 1.3, 0.3],\n",
       "       [4.5, 2.3, 1.3, 0.3],\n",
       "       [4.4, 3.2, 1.3, 0.2],\n",
       "       [5. , 3.5, 1.6, 0.6],\n",
       "       [5.1, 3.8, 1.9, 0.4],\n",
       "       [4.8, 3. , 1.4, 0.3],\n",
       "       [5.1, 3.8, 1.6, 0.2],\n",
       "       [4.6, 3.2, 1.4, 0.2],\n",
       "       [5.3, 3.7, 1.5, 0.2],\n",
       "       [5. , 3.3, 1.4, 0.2],\n",
       "       [7. , 3.2, 4.7, 1.4],\n",
       "       [6.4, 3.2, 4.5, 1.5],\n",
       "       [6.9, 3.1, 4.9, 1.5],\n",
       "       [5.5, 2.3, 4. , 1.3],\n",
       "       [6.5, 2.8, 4.6, 1.5],\n",
       "       [5.7, 2.8, 4.5, 1.3],\n",
       "       [6.3, 3.3, 4.7, 1.6],\n",
       "       [4.9, 2.4, 3.3, 1. ],\n",
       "       [6.6, 2.9, 4.6, 1.3],\n",
       "       [5.2, 2.7, 3.9, 1.4],\n",
       "       [5. , 2. , 3.5, 1. ],\n",
       "       [5.9, 3. , 4.2, 1.5],\n",
       "       [6. , 2.2, 4. , 1. ],\n",
       "       [6.1, 2.9, 4.7, 1.4],\n",
       "       [5.6, 2.9, 3.6, 1.3],\n",
       "       [6.7, 3.1, 4.4, 1.4],\n",
       "       [5.6, 3. , 4.5, 1.5],\n",
       "       [5.8, 2.7, 4.1, 1. ],\n",
       "       [6.2, 2.2, 4.5, 1.5],\n",
       "       [5.6, 2.5, 3.9, 1.1],\n",
       "       [5.9, 3.2, 4.8, 1.8],\n",
       "       [6.1, 2.8, 4. , 1.3],\n",
       "       [6.3, 2.5, 4.9, 1.5],\n",
       "       [6.1, 2.8, 4.7, 1.2],\n",
       "       [6.4, 2.9, 4.3, 1.3],\n",
       "       [6.6, 3. , 4.4, 1.4],\n",
       "       [6.8, 2.8, 4.8, 1.4],\n",
       "       [6.7, 3. , 5. , 1.7],\n",
       "       [6. , 2.9, 4.5, 1.5],\n",
       "       [5.7, 2.6, 3.5, 1. ],\n",
       "       [5.5, 2.4, 3.8, 1.1],\n",
       "       [5.5, 2.4, 3.7, 1. ],\n",
       "       [5.8, 2.7, 3.9, 1.2],\n",
       "       [6. , 2.7, 5.1, 1.6],\n",
       "       [5.4, 3. , 4.5, 1.5],\n",
       "       [6. , 3.4, 4.5, 1.6],\n",
       "       [6.7, 3.1, 4.7, 1.5],\n",
       "       [6.3, 2.3, 4.4, 1.3],\n",
       "       [5.6, 3. , 4.1, 1.3],\n",
       "       [5.5, 2.5, 4. , 1.3],\n",
       "       [5.5, 2.6, 4.4, 1.2],\n",
       "       [6.1, 3. , 4.6, 1.4],\n",
       "       [5.8, 2.6, 4. , 1.2],\n",
       "       [5. , 2.3, 3.3, 1. ],\n",
       "       [5.6, 2.7, 4.2, 1.3],\n",
       "       [5.7, 3. , 4.2, 1.2],\n",
       "       [5.7, 2.9, 4.2, 1.3],\n",
       "       [6.2, 2.9, 4.3, 1.3],\n",
       "       [5.1, 2.5, 3. , 1.1],\n",
       "       [5.7, 2.8, 4.1, 1.3],\n",
       "       [6.3, 3.3, 6. , 2.5],\n",
       "       [5.8, 2.7, 5.1, 1.9],\n",
       "       [7.1, 3. , 5.9, 2.1],\n",
       "       [6.3, 2.9, 5.6, 1.8],\n",
       "       [6.5, 3. , 5.8, 2.2],\n",
       "       [7.6, 3. , 6.6, 2.1],\n",
       "       [4.9, 2.5, 4.5, 1.7],\n",
       "       [7.3, 2.9, 6.3, 1.8],\n",
       "       [6.7, 2.5, 5.8, 1.8],\n",
       "       [7.2, 3.6, 6.1, 2.5],\n",
       "       [6.5, 3.2, 5.1, 2. ],\n",
       "       [6.4, 2.7, 5.3, 1.9],\n",
       "       [6.8, 3. , 5.5, 2.1],\n",
       "       [5.7, 2.5, 5. , 2. ],\n",
       "       [5.8, 2.8, 5.1, 2.4],\n",
       "       [6.4, 3.2, 5.3, 2.3],\n",
       "       [6.5, 3. , 5.5, 1.8],\n",
       "       [7.7, 3.8, 6.7, 2.2],\n",
       "       [7.7, 2.6, 6.9, 2.3],\n",
       "       [6. , 2.2, 5. , 1.5],\n",
       "       [6.9, 3.2, 5.7, 2.3],\n",
       "       [5.6, 2.8, 4.9, 2. ],\n",
       "       [7.7, 2.8, 6.7, 2. ],\n",
       "       [6.3, 2.7, 4.9, 1.8],\n",
       "       [6.7, 3.3, 5.7, 2.1],\n",
       "       [7.2, 3.2, 6. , 1.8],\n",
       "       [6.2, 2.8, 4.8, 1.8],\n",
       "       [6.1, 3. , 4.9, 1.8],\n",
       "       [6.4, 2.8, 5.6, 2.1],\n",
       "       [7.2, 3. , 5.8, 1.6],\n",
       "       [7.4, 2.8, 6.1, 1.9],\n",
       "       [7.9, 3.8, 6.4, 2. ],\n",
       "       [6.4, 2.8, 5.6, 2.2],\n",
       "       [6.3, 2.8, 5.1, 1.5],\n",
       "       [6.1, 2.6, 5.6, 1.4],\n",
       "       [7.7, 3. , 6.1, 2.3],\n",
       "       [6.3, 3.4, 5.6, 2.4],\n",
       "       [6.4, 3.1, 5.5, 1.8],\n",
       "       [6. , 3. , 4.8, 1.8],\n",
       "       [6.9, 3.1, 5.4, 2.1],\n",
       "       [6.7, 3.1, 5.6, 2.4],\n",
       "       [6.9, 3.1, 5.1, 2.3],\n",
       "       [5.8, 2.7, 5.1, 1.9],\n",
       "       [6.8, 3.2, 5.9, 2.3],\n",
       "       [6.7, 3.3, 5.7, 2.5],\n",
       "       [6.7, 3. , 5.2, 2.3],\n",
       "       [6.3, 2.5, 5. , 1.9],\n",
       "       [6.5, 3. , 5.2, 2. ],\n",
       "       [6.2, 3.4, 5.4, 2.3],\n",
       "       [5.9, 3. , 5.1, 1.8]])"
      ]
     },
     "execution_count": 3,
     "metadata": {},
     "output_type": "execute_result"
    }
   ],
   "source": [
    "iris['data']"
   ]
  },
  {
   "cell_type": "code",
   "execution_count": 8,
   "id": "f6095c64",
   "metadata": {},
   "outputs": [
    {
     "data": {
      "text/plain": [
       "array([5.9, 3. , 5.1, 1.8])"
      ]
     },
     "execution_count": 8,
     "metadata": {},
     "output_type": "execute_result"
    }
   ],
   "source": [
    "#마지막 데이터를 기준으로 가장 가까운 10개의 데이터 찾기(유클리디언)\n",
    "#10개를 기준으로 target 추정\n",
    "\n",
    "b = iris['data'][-1]\n",
    "b"
   ]
  },
  {
   "cell_type": "code",
   "execution_count": 9,
   "id": "217d8d0c",
   "metadata": {},
   "outputs": [
    {
     "data": {
      "text/plain": [
       "array([5.1, 3.5, 1.4, 0.2])"
      ]
     },
     "execution_count": 9,
     "metadata": {},
     "output_type": "execute_result"
    }
   ],
   "source": [
    "a = iris['data'][0]\n",
    "a"
   ]
  },
  {
   "cell_type": "code",
   "execution_count": 13,
   "id": "03d16f8c",
   "metadata": {},
   "outputs": [
    {
     "data": {
      "text/plain": [
       "4.1400483088968905"
      ]
     },
     "execution_count": 13,
     "metadata": {},
     "output_type": "execute_result"
    }
   ],
   "source": [
    "sum = 0\n",
    "for i in range(0,4) :\n",
    "    sum += (a[i] - b[i])**2\n",
    "math.sqrt(sum)\n"
   ]
  },
  {
   "cell_type": "code",
   "execution_count": 33,
   "id": "02d4757e",
   "metadata": {},
   "outputs": [
    {
     "name": "stdout",
     "output_type": "stream",
     "text": [
      "target_ls :  [2, 2, 2, 2, 1, 1, 2, 2, 2, 2]\n",
      "near_index_ls :  [127, 138, 101, 142, 70, 83, 121, 126, 123, 133]\n"
     ]
    },
    {
     "data": {
      "text/plain": [
       "2"
      ]
     },
     "execution_count": 33,
     "metadata": {},
     "output_type": "execute_result"
    }
   ],
   "source": [
    "test_data = iris['data'][-1]\n",
    "\n",
    "distance_ls = []\n",
    "\n",
    "for index, data in enumerate(iris['data'][0:-1]) :\n",
    "    temp_sum = 0\n",
    "    for i in range(0,4) :\n",
    "        temp_sum += (test_data[i] - data[i])**2\n",
    "    distance_ls.append([math.sqrt(temp_sum), index])\n",
    "\n",
    "distance_ls.sort(key=lambda x : x[0])\n",
    "distance_ls\n",
    "\n",
    "\n",
    "target_ls = []\n",
    "near_index_ls = [] \n",
    "for d in distance_ls[0:10] :\n",
    "    index = d[1]\n",
    "    near_index_ls.append(index)\n",
    "    target_ls.append(iris['target'][index])\n",
    "\n",
    "print(\"target_ls : \", target_ls)\n",
    "print(\"near_index_ls : \", near_index_ls)\n",
    "max_target = collections.Counter(target_ls).most_common(n = 1)\n",
    "max_target[0][0]"
   ]
  },
  {
   "cell_type": "code",
   "execution_count": null,
   "id": "928db70c",
   "metadata": {},
   "outputs": [],
   "source": []
  },
  {
   "cell_type": "code",
   "execution_count": 34,
   "id": "7ac0b222",
   "metadata": {},
   "outputs": [
    {
     "name": "stdout",
     "output_type": "stream",
     "text": [
      "2\n"
     ]
    }
   ],
   "source": [
    "#iris['data']의 마지막 데이터와 나머지 데이터의 거리를 계산하고 인덱스 값과 거리 값을 딕셔너리 형태로 저장\n",
    "dict_distance = {}\n",
    "for i in range(len(iris['data']) - 1):\n",
    "  distance = math.sqrt(pow(iris['data'][-1][0] - iris['data'][i][0], 2) + pow(iris['data'][-1][1] - iris['data'][i][1], 2) + pow(iris['data'][-1][2] - iris['data'][i][2], 2) + pow(iris['data'][-1][3] - iris['data'][i][3], 2))\n",
    "  dict_distance[i] = distance\n",
    "\n",
    "#딕셔너리를 거리의 크기에 따라 오름차순 정렬\n",
    "arr_distance = sorted(list(dict_distance.items()), key = lambda x : x[1])\n",
    "#거리가 작은 순서대로 10개 슬라이싱\n",
    "selected_arr_distance = arr_distance[:10]\n",
    "\n",
    "#선택된 10개의 데이터의 타겟값의 개수를 세서 딕셔너리 형태로 저장\n",
    "dict_result = {0: 0, 1: 0, 2: 0}\n",
    "for i, j in selected_arr_distance:\n",
    "  if iris['target'][i] == 0:\n",
    "    dict_result[0] += 1\n",
    "  elif iris['target'][i] == 1:\n",
    "    dict_result[1] += 1\n",
    "  else:\n",
    "    dict_result[2] += 1\n",
    "\n",
    "#타겟값의 개수에 따라 내림차순으로 정렬\n",
    "result = sorted(dict_result.items(), key = lambda x:x[1], reverse = True)\n",
    "#가장 큰 값의 타겟값을 프린트\n",
    "print(result[0][0])\n"
   ]
  },
  {
   "cell_type": "code",
   "execution_count": 45,
   "id": "d4323de4",
   "metadata": {},
   "outputs": [
    {
     "name": "stdout",
     "output_type": "stream",
     "text": [
      "     distance  target\n",
      "127  0.282843     2.0\n",
      "138  0.316228     2.0\n",
      "142  0.331662     2.0\n",
      "101  0.331662     2.0\n",
      "70   0.360555     1.0\n",
      "..        ...     ...\n",
      "41   4.374929     0.0\n",
      "38   4.387482     0.0\n",
      "42   4.392038     0.0\n",
      "22   4.628175     0.0\n",
      "13   4.631414     0.0\n",
      "\n",
      "[149 rows x 2 columns]\n",
      "candidates [2 2 2 2 1 1 2 2 2 2]\n",
      "counts [0 2 8]\n",
      "2\n",
      "[2]\n"
     ]
    }
   ],
   "source": [
    "from sklearn.datasets import load_iris\n",
    "import pandas as pd\n",
    "import numpy as np\n",
    "\n",
    "# iris 데이터를 읽어온다\n",
    "iris = load_iris()\n",
    "\n",
    "# 학습 데이터와 시험 데이터로 분리한다\n",
    "x_train = iris['data'][:-1]\n",
    "y_train = iris['target'][:-1]\n",
    "x_test = iris['data'][-1:]\n",
    "\n",
    "# 시험 데이터와 학습 데이터의 거리를 모두 계산한다.\n",
    "distance = np.sqrt(((x_train - x_test) ** 2).sum(axis=1))\n",
    "\n",
    "# 거리와 target을 dataframe으로 저장한다.\n",
    "df = pd.DataFrame(data= np.c_[distance, y_train], columns= ['distance', 'target'])\n",
    "# distance를 오름차순 (ascending)으로 정렬한다\n",
    "df.sort_values(by='distance', inplace=True)\n",
    "print(df)\n",
    "# distance가 큰 상위 K를 선택하고, target의 majority를 찾는다\n",
    "K = 10\n",
    "candidates = df[:K]['target'].to_numpy().astype('int')\n",
    "print(\"candidates\", candidates)\n",
    "\n",
    "counts = np.bincount(candidates)\n",
    "print(\"counts\", counts)\n",
    "majority = np.argmax(counts)\n",
    "print(majority)\n",
    "\n",
    "from sklearn.neighbors import KNeighborsClassifier\n",
    "\n",
    "# KNN 모델을 생성한다.\n",
    "knn = KNeighborsClassifier(n_neighbors = K)\n",
    "knn.fit(x_train, y_train)\n",
    "\n",
    "# 시험 데이터의 target을 추정한다.\n",
    "y_pred = knn.predict(x_test)\n",
    "print(y_pred)"
   ]
  },
  {
   "cell_type": "code",
   "execution_count": 85,
   "id": "7519dc94",
   "metadata": {},
   "outputs": [
    {
     "name": "stdout",
     "output_type": "stream",
     "text": [
      "     distance  target    weight\n",
      "127  0.282843     2.0  3.535534\n",
      "138  0.316228     2.0  3.162278\n",
      "142  0.331662     2.0  3.015113\n",
      "101  0.331662     2.0  3.015113\n",
      "70   0.360555     1.0  2.773501\n",
      "..        ...     ...       ...\n",
      "41   4.374929     0.0  0.228575\n",
      "38   4.387482     0.0  0.227921\n",
      "42   4.392038     0.0  0.227685\n",
      "22   4.628175     0.0  0.216068\n",
      "13   4.631414     0.0  0.215917\n",
      "\n",
      "[149 rows x 3 columns]\n",
      "candidates [2 2 2 2 1 1 2 2 2 2]\n",
      "weight_sum 26.202244687363866\n",
      "taget_unique [2. 1.]\n",
      "{'0': 0.0, '1': 5.4461134002503915, '2': 20.756131287113472}\n",
      "counts [0 2 8]\n",
      "2\n",
      "[2]\n"
     ]
    }
   ],
   "source": [
    "from sklearn.datasets import load_iris\n",
    "import pandas as pd\n",
    "import numpy as np\n",
    "\n",
    "# iris 데이터를 읽어온다\n",
    "iris = load_iris()\n",
    "\n",
    "# 학습 데이터와 시험 데이터로 분리한다\n",
    "x_train = iris['data'][:-1]\n",
    "y_train = iris['target'][:-1]\n",
    "x_test = iris['data'][-1:]\n",
    "\n",
    "# 시험 데이터와 학습 데이터의 거리를 모두 계산한다.\n",
    "distance = np.sqrt(((x_train - x_test) ** 2).sum(axis=1))\n",
    "\n",
    "# 거리와 target을 dataframe으로 저장한다.\n",
    "df = pd.DataFrame(data= np.c_[distance, y_train, 1/distance], columns= ['distance', 'target', 'weight'])\n",
    "# distance를 오름차순 (ascending)으로 정렬한다\n",
    "df.sort_values(by='distance', inplace=True)\n",
    "print(df)\n",
    "# distance가 큰 상위 K를 선택하고, target의 majority를 찾는다\n",
    "K = 10\n",
    "candidates = df[:K]['target'].to_numpy().astype('int')\n",
    "print(\"candidates\", candidates)\n",
    "\n",
    "weight_sum = df[:K]['weight'].sum()\n",
    "print(\"weight_sum\", weight_sum)\n",
    "\n",
    "taget_unique = df[:K]['target'].unique()\n",
    "print(\"taget_unique\", taget_unique)\n",
    "\n",
    "temp_json = {'0': 0. , '1' : 0., '2' : 0. }\n",
    "\n",
    "\n",
    "for idx,d in df[:K].iterrows() :\n",
    "    if d['target'] == 0. :\n",
    "        temp_json['0'] += d['weight']\n",
    "    elif d['target'] == 1. :\n",
    "        temp_json['1'] += d['weight']\n",
    "    elif d['target'] == 2. :\n",
    "        temp_json['2'] += d['weight']\n",
    "        \n",
    "print(temp_json)\n",
    "           \n",
    "counts = np.bincount(candidates)\n",
    "print(\"counts\", counts)\n",
    "majority = np.argmax(counts)\n",
    "print(majority)\n",
    "\n",
    "from sklearn.neighbors import KNeighborsClassifier\n",
    "\n",
    "# KNN 모델을 생성한다.\n",
    "knn = KNeighborsClassifier(n_neighbors = K)\n",
    "knn.fit(x_train, y_train)\n",
    "\n",
    "# 시험 데이터의 target을 추정한다.\n",
    "y_pred = knn.predict(x_test)\n",
    "print(y_pred)"
   ]
  },
  {
   "cell_type": "code",
   "execution_count": 86,
   "id": "f251855e",
   "metadata": {},
   "outputs": [
    {
     "name": "stdout",
     "output_type": "stream",
     "text": [
      "2\n",
      "[2]\n"
     ]
    }
   ],
   "source": [
    "from sklearn.datasets import load_iris\n",
    "import pandas as pd\n",
    "import numpy as np\n",
    "\n",
    "# iris 데이터를 읽어온다\n",
    "iris = load_iris()\n",
    "\n",
    "# 학습 데이터와 시험 데이터로 분리한다\n",
    "x_train = iris['data'][:-1]\n",
    "y_train = iris['target'][:-1]\n",
    "x_test = iris['data'][-1:]\n",
    "\n",
    "# 시험 데이터와 학습 데이터의 거리를 모두 계산한다.\n",
    "distance = np.sqrt(((x_train - x_test) ** 2).sum(axis=1))\n",
    "\n",
    "# 거리와 target을 dataframe으로 저장한다.\n",
    "df = pd.DataFrame(data= np.c_[distance, y_train], columns= ['distance', 'target'])\n",
    "\n",
    "# distance를 오름차순 (ascending)으로 정렬하고, 상위 K개를 선택한다\n",
    "K = 10\n",
    "df.sort_values(by='distance', inplace=True)\n",
    "top_k = df[:K].copy()\n",
    "\n",
    "# 거리 가중치를 계산한다. (inverse weighting)\n",
    "top_k['weight'] = 1 / top_k['distance']\n",
    "\n",
    "# 가중평균 거리를 계산한다.\n",
    "w_distance = []\n",
    "for t in [0, 1, 2]:\n",
    "    w_distance.append(top_k.loc[top_k['target'] == t]['weight'].sum())\n",
    "\n",
    "w_distance /= top_k['weight'].sum()\n",
    "\n",
    "# w_distance가 가장 큰 class를 출력한다.\n",
    "majority = np.argmax(w_distance)\n",
    "print(majority)\n",
    "\n",
    "from sklearn.neighbors import KNeighborsClassifier\n",
    "\n",
    "# KNN 모델을 생성한다.\n",
    "knn = KNeighborsClassifier(n_neighbors = K, weights='distance')\n",
    "knn.fit(x_train, y_train)\n",
    "\n",
    "# 시험 데이터의 target을 추정한다.\n",
    "y_pred = knn.predict(x_test)\n",
    "print(y_pred)\n"
   ]
  },
  {
   "cell_type": "code",
   "execution_count": null,
   "id": "ef316ff5",
   "metadata": {},
   "outputs": [],
   "source": []
  }
 ],
 "metadata": {
  "kernelspec": {
   "display_name": "Python 3 (ipykernel)",
   "language": "python",
   "name": "python3"
  },
  "language_info": {
   "codemirror_mode": {
    "name": "ipython",
    "version": 3
   },
   "file_extension": ".py",
   "mimetype": "text/x-python",
   "name": "python",
   "nbconvert_exporter": "python",
   "pygments_lexer": "ipython3",
   "version": "3.9.7"
  }
 },
 "nbformat": 4,
 "nbformat_minor": 5
}
