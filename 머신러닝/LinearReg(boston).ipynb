{
 "cells": [
  {
   "cell_type": "code",
   "execution_count": 53,
   "id": "87681d66",
   "metadata": {},
   "outputs": [],
   "source": [
    "import matplotlib.pyplot as plt\n",
    "from sklearn.model_selection import train_test_split\n",
    "from sklearn.linear_model import LinearRegression\n",
    "import numpy as np\n",
    "import pandas as pd\n",
    "from sklearn.datasets import load_boston"
   ]
  },
  {
   "cell_type": "code",
   "execution_count": 54,
   "id": "1b1a96e4",
   "metadata": {},
   "outputs": [
    {
     "data": {
      "text/html": [
       "<div>\n",
       "<style scoped>\n",
       "    .dataframe tbody tr th:only-of-type {\n",
       "        vertical-align: middle;\n",
       "    }\n",
       "\n",
       "    .dataframe tbody tr th {\n",
       "        vertical-align: top;\n",
       "    }\n",
       "\n",
       "    .dataframe thead th {\n",
       "        text-align: right;\n",
       "    }\n",
       "</style>\n",
       "<table border=\"1\" class=\"dataframe\">\n",
       "  <thead>\n",
       "    <tr style=\"text-align: right;\">\n",
       "      <th></th>\n",
       "      <th>CRIM</th>\n",
       "      <th>ZN</th>\n",
       "      <th>INDUS</th>\n",
       "      <th>CHAS</th>\n",
       "      <th>NOX</th>\n",
       "      <th>RM</th>\n",
       "      <th>AGE</th>\n",
       "      <th>DIS</th>\n",
       "      <th>RAD</th>\n",
       "      <th>TAX</th>\n",
       "      <th>PTRATIO</th>\n",
       "      <th>B</th>\n",
       "      <th>LSTAT</th>\n",
       "      <th>PRICE</th>\n",
       "    </tr>\n",
       "  </thead>\n",
       "  <tbody>\n",
       "    <tr>\n",
       "      <th>0</th>\n",
       "      <td>0.00632</td>\n",
       "      <td>18.0</td>\n",
       "      <td>2.31</td>\n",
       "      <td>0.0</td>\n",
       "      <td>0.538</td>\n",
       "      <td>6.575</td>\n",
       "      <td>65.2</td>\n",
       "      <td>4.0900</td>\n",
       "      <td>1.0</td>\n",
       "      <td>296.0</td>\n",
       "      <td>15.3</td>\n",
       "      <td>396.90</td>\n",
       "      <td>4.98</td>\n",
       "      <td>24.0</td>\n",
       "    </tr>\n",
       "    <tr>\n",
       "      <th>1</th>\n",
       "      <td>0.02731</td>\n",
       "      <td>0.0</td>\n",
       "      <td>7.07</td>\n",
       "      <td>0.0</td>\n",
       "      <td>0.469</td>\n",
       "      <td>6.421</td>\n",
       "      <td>78.9</td>\n",
       "      <td>4.9671</td>\n",
       "      <td>2.0</td>\n",
       "      <td>242.0</td>\n",
       "      <td>17.8</td>\n",
       "      <td>396.90</td>\n",
       "      <td>9.14</td>\n",
       "      <td>21.6</td>\n",
       "    </tr>\n",
       "    <tr>\n",
       "      <th>2</th>\n",
       "      <td>0.02729</td>\n",
       "      <td>0.0</td>\n",
       "      <td>7.07</td>\n",
       "      <td>0.0</td>\n",
       "      <td>0.469</td>\n",
       "      <td>7.185</td>\n",
       "      <td>61.1</td>\n",
       "      <td>4.9671</td>\n",
       "      <td>2.0</td>\n",
       "      <td>242.0</td>\n",
       "      <td>17.8</td>\n",
       "      <td>392.83</td>\n",
       "      <td>4.03</td>\n",
       "      <td>34.7</td>\n",
       "    </tr>\n",
       "    <tr>\n",
       "      <th>3</th>\n",
       "      <td>0.03237</td>\n",
       "      <td>0.0</td>\n",
       "      <td>2.18</td>\n",
       "      <td>0.0</td>\n",
       "      <td>0.458</td>\n",
       "      <td>6.998</td>\n",
       "      <td>45.8</td>\n",
       "      <td>6.0622</td>\n",
       "      <td>3.0</td>\n",
       "      <td>222.0</td>\n",
       "      <td>18.7</td>\n",
       "      <td>394.63</td>\n",
       "      <td>2.94</td>\n",
       "      <td>33.4</td>\n",
       "    </tr>\n",
       "    <tr>\n",
       "      <th>4</th>\n",
       "      <td>0.06905</td>\n",
       "      <td>0.0</td>\n",
       "      <td>2.18</td>\n",
       "      <td>0.0</td>\n",
       "      <td>0.458</td>\n",
       "      <td>7.147</td>\n",
       "      <td>54.2</td>\n",
       "      <td>6.0622</td>\n",
       "      <td>3.0</td>\n",
       "      <td>222.0</td>\n",
       "      <td>18.7</td>\n",
       "      <td>396.90</td>\n",
       "      <td>5.33</td>\n",
       "      <td>36.2</td>\n",
       "    </tr>\n",
       "  </tbody>\n",
       "</table>\n",
       "</div>"
      ],
      "text/plain": [
       "      CRIM    ZN  INDUS  CHAS    NOX     RM   AGE     DIS  RAD    TAX  \\\n",
       "0  0.00632  18.0   2.31   0.0  0.538  6.575  65.2  4.0900  1.0  296.0   \n",
       "1  0.02731   0.0   7.07   0.0  0.469  6.421  78.9  4.9671  2.0  242.0   \n",
       "2  0.02729   0.0   7.07   0.0  0.469  7.185  61.1  4.9671  2.0  242.0   \n",
       "3  0.03237   0.0   2.18   0.0  0.458  6.998  45.8  6.0622  3.0  222.0   \n",
       "4  0.06905   0.0   2.18   0.0  0.458  7.147  54.2  6.0622  3.0  222.0   \n",
       "\n",
       "   PTRATIO       B  LSTAT  PRICE  \n",
       "0     15.3  396.90   4.98   24.0  \n",
       "1     17.8  396.90   9.14   21.6  \n",
       "2     17.8  392.83   4.03   34.7  \n",
       "3     18.7  394.63   2.94   33.4  \n",
       "4     18.7  396.90   5.33   36.2  "
      ]
     },
     "execution_count": 54,
     "metadata": {},
     "output_type": "execute_result"
    }
   ],
   "source": [
    "#보스턴 데이터 가져오기\n",
    "\n",
    "boston = load_boston()\n",
    "df = pd.DataFrame(boston.data, columns = boston.feature_names)\n",
    "df['PRICE'] = boston.target\n",
    "df.head()"
   ]
  },
  {
   "cell_type": "code",
   "execution_count": 55,
   "id": "136412dc",
   "metadata": {},
   "outputs": [
    {
     "name": "stdout",
     "output_type": "stream",
     "text": [
      "<class 'pandas.core.frame.DataFrame'>\n",
      "RangeIndex: 506 entries, 0 to 505\n",
      "Data columns (total 14 columns):\n",
      " #   Column   Non-Null Count  Dtype  \n",
      "---  ------   --------------  -----  \n",
      " 0   CRIM     506 non-null    float64\n",
      " 1   ZN       506 non-null    float64\n",
      " 2   INDUS    506 non-null    float64\n",
      " 3   CHAS     506 non-null    float64\n",
      " 4   NOX      506 non-null    float64\n",
      " 5   RM       506 non-null    float64\n",
      " 6   AGE      506 non-null    float64\n",
      " 7   DIS      506 non-null    float64\n",
      " 8   RAD      506 non-null    float64\n",
      " 9   TAX      506 non-null    float64\n",
      " 10  PTRATIO  506 non-null    float64\n",
      " 11  B        506 non-null    float64\n",
      " 12  LSTAT    506 non-null    float64\n",
      " 13  PRICE    506 non-null    float64\n",
      "dtypes: float64(14)\n",
      "memory usage: 55.5 KB\n"
     ]
    }
   ],
   "source": [
    "df.info()"
   ]
  },
  {
   "cell_type": "code",
   "execution_count": 70,
   "id": "d8c81e70",
   "metadata": {},
   "outputs": [
    {
     "name": "stdout",
     "output_type": "stream",
     "text": [
      ".. _boston_dataset:\n",
      "\n",
      "Boston house prices dataset\n",
      "---------------------------\n",
      "\n",
      "**Data Set Characteristics:**  \n",
      "\n",
      "    :Number of Instances: 506 \n",
      "\n",
      "    :Number of Attributes: 13 numeric/categorical predictive. Median Value (attribute 14) is usually the target.\n",
      "\n",
      "    :Attribute Information (in order):\n",
      "        - CRIM     per capita crime rate by town\n",
      "        - ZN       proportion of residential land zoned for lots over 25,000 sq.ft.\n",
      "        - INDUS    proportion of non-retail business acres per town\n",
      "        - CHAS     Charles River dummy variable (= 1 if tract bounds river; 0 otherwise)\n",
      "        - NOX      nitric oxides concentration (parts per 10 million)\n",
      "        - RM       average number of rooms per dwelling\n",
      "        - AGE      proportion of owner-occupied units built prior to 1940\n",
      "        - DIS      weighted distances to five Boston employment centres\n",
      "        - RAD      index of accessibility to radial highways\n",
      "        - TAX      full-value property-tax rate per $10,000\n",
      "        - PTRATIO  pupil-teacher ratio by town\n",
      "        - B        1000(Bk - 0.63)^2 where Bk is the proportion of black people by town\n",
      "        - LSTAT    % lower status of the population\n",
      "        - MEDV     Median value of owner-occupied homes in $1000's\n",
      "\n",
      "    :Missing Attribute Values: None\n",
      "\n",
      "    :Creator: Harrison, D. and Rubinfeld, D.L.\n",
      "\n",
      "This is a copy of UCI ML housing dataset.\n",
      "https://archive.ics.uci.edu/ml/machine-learning-databases/housing/\n",
      "\n",
      "\n",
      "This dataset was taken from the StatLib library which is maintained at Carnegie Mellon University.\n",
      "\n",
      "The Boston house-price data of Harrison, D. and Rubinfeld, D.L. 'Hedonic\n",
      "prices and the demand for clean air', J. Environ. Economics & Management,\n",
      "vol.5, 81-102, 1978.   Used in Belsley, Kuh & Welsch, 'Regression diagnostics\n",
      "...', Wiley, 1980.   N.B. Various transformations are used in the table on\n",
      "pages 244-261 of the latter.\n",
      "\n",
      "The Boston house-price data has been used in many machine learning papers that address regression\n",
      "problems.   \n",
      "     \n",
      ".. topic:: References\n",
      "\n",
      "   - Belsley, Kuh & Welsch, 'Regression diagnostics: Identifying Influential Data and Sources of Collinearity', Wiley, 1980. 244-261.\n",
      "   - Quinlan,R. (1993). Combining Instance-Based and Model-Based Learning. In Proceedings on the Tenth International Conference of Machine Learning, 236-243, University of Massachusetts, Amherst. Morgan Kaufmann.\n",
      "\n"
     ]
    }
   ],
   "source": [
    "print(boston.DESCR)"
   ]
  },
  {
   "cell_type": "code",
   "execution_count": 56,
   "id": "6549180b",
   "metadata": {},
   "outputs": [],
   "source": [
    "#학습 데이터와 타겟 데이터 분리\n",
    "# y_target = boston.target\n",
    "y_target = df['PRICE']\n",
    "x_feat = np.array(df.drop('PRICE', axis=1))"
   ]
  },
  {
   "cell_type": "code",
   "execution_count": 57,
   "id": "24a5d37b",
   "metadata": {},
   "outputs": [],
   "source": [
    "#학습 데이터와 시험 데이터 분리\n",
    "x_train, x_test, y_train, y_test = train_test_split(x_feat, y_target, test_size = 0.2 )"
   ]
  },
  {
   "cell_type": "code",
   "execution_count": 58,
   "id": "8a852372",
   "metadata": {},
   "outputs": [
    {
     "data": {
      "text/plain": [
       "LinearRegression()"
      ]
     },
     "execution_count": 58,
     "metadata": {},
     "output_type": "execute_result"
    }
   ],
   "source": [
    "model = LinearRegression()\n",
    "model.fit(x_train, y_train)"
   ]
  },
  {
   "cell_type": "code",
   "execution_count": 59,
   "id": "f5d5c3bb",
   "metadata": {},
   "outputs": [
    {
     "name": "stdout",
     "output_type": "stream",
     "text": [
      "학습 데이터 정확도 :  0.7386953888121628\n",
      "시험 데이터 정확도 :  0.7416109300331599\n"
     ]
    }
   ],
   "source": [
    "print(\"학습 데이터 정확도 : \",model.score(x_train, y_train))\n",
    "print(\"시험 데이터 정확도 : \", model.score(x_test, y_test))"
   ]
  },
  {
   "cell_type": "code",
   "execution_count": 60,
   "id": "e4f429b7",
   "metadata": {},
   "outputs": [
    {
     "name": "stdout",
     "output_type": "stream",
     "text": [
      "13\n"
     ]
    },
    {
     "data": {
      "text/plain": [
       "array([-1.04413408e-01,  4.27279392e-02, -1.66449656e-02,  3.01658777e+00,\n",
       "       -1.62632212e+01,  3.75556164e+00, -1.48024603e-03, -1.43254482e+00,\n",
       "        3.02070398e-01, -1.23715129e-02, -8.92895912e-01,  8.83362721e-03,\n",
       "       -5.10788344e-01])"
      ]
     },
     "execution_count": 60,
     "metadata": {},
     "output_type": "execute_result"
    }
   ],
   "source": [
    "a = model.coef_\n",
    "print(len(a))\n",
    "a"
   ]
  },
  {
   "cell_type": "code",
   "execution_count": 61,
   "id": "bf4502fe",
   "metadata": {},
   "outputs": [
    {
     "data": {
      "text/plain": [
       "35.34019295609928"
      ]
     },
     "execution_count": 61,
     "metadata": {},
     "output_type": "execute_result"
    }
   ],
   "source": [
    "b = model.intercept_\n",
    "b"
   ]
  },
  {
   "cell_type": "code",
   "execution_count": 62,
   "id": "082b50e9",
   "metadata": {},
   "outputs": [
    {
     "name": "stdout",
     "output_type": "stream",
     "text": [
      "NMSE scores : [  -9.28694671  -14.15128316  -14.07360615  -35.20692433  -31.88511666\n",
      "  -19.83587796   -9.94726918 -168.37537954  -33.32974507  -10.96041068]\n",
      "NMSE scores mean : -34.70525594452493\n",
      "NMSE scores std : 45.573999200308926\n"
     ]
    }
   ],
   "source": [
    "from sklearn.model_selection import cross_val_score\n",
    "\n",
    "scores = cross_val_score(model, boston.data, boston.target, cv=10, scoring='neg_mean_squared_error')\n",
    "print(\"NMSE scores : {}\".format(scores))\n",
    "print(\"NMSE scores mean : {}\".format(scores.mean()))\n",
    "print(\"NMSE scores std : {}\".format(scores.std()))\n"
   ]
  },
  {
   "cell_type": "code",
   "execution_count": 63,
   "id": "275955c4",
   "metadata": {},
   "outputs": [
    {
     "name": "stdout",
     "output_type": "stream",
     "text": [
      "R2 scores: [ 0.73376082  0.4730725  -1.00631454  0.64113984  0.54766046  0.73640292\n",
      "  0.37828386 -0.12922703 -0.76843243  0.4189435 ]\n",
      "R2 scores mean: 0.20252899006056008\n",
      "R2 scores std: 0.5952960169512287\n"
     ]
    }
   ],
   "source": [
    "r2_scores = cross_val_score(model, boston.data, boston.target, cv=10, scoring='r2')\n",
    "\n",
    "print(\"R2 scores: {}\".format(r2_scores))\n",
    "print(\"R2 scores mean: {}\".format(r2_scores.mean()))\n",
    "print(\"R2 scores std: {}\".format(r2_scores.std()))"
   ]
  },
  {
   "cell_type": "code",
   "execution_count": 64,
   "id": "d6e26639",
   "metadata": {},
   "outputs": [
    {
     "name": "stdout",
     "output_type": "stream",
     "text": [
      "y= 35.34019295609928 \n",
      "-0.10441340830912274*X0\n",
      "0.04272793918912589*X1\n",
      "-0.016644965612406866*X2\n",
      "3.0165877699783614*X3\n",
      "-16.263221187676095*X4\n",
      "3.755561642676909*X5\n",
      "-0.0014802460348676749*X6\n",
      "-1.4325448189456413*X7\n",
      "0.30207039768596977*X8\n",
      "-0.012371512888263228*X9\n",
      "-0.8928959115274522*X10\n",
      "0.008833627207349402*X11\n",
      "-0.5107883437001934*X12\n"
     ]
    }
   ],
   "source": [
    "print('y= ' + str(model.intercept_) + ' ')\n",
    "for i, c in enumerate(model.coef_) :\n",
    "    print(str(c) + '*X' + str(i))"
   ]
  },
  {
   "cell_type": "code",
   "execution_count": 65,
   "id": "3c67fcc1",
   "metadata": {},
   "outputs": [
    {
     "name": "stdout",
     "output_type": "stream",
     "text": [
      "RMSE : 4.657526376793998\n",
      "R2 Score : 0.7386953888121628\n"
     ]
    }
   ],
   "source": [
    "from sklearn.metrics import mean_squared_error, r2_score\n",
    "\n",
    "y_train_predict = model.predict(x_train)\n",
    "rmse = (np.sqrt(mean_squared_error(y_train, y_train_predict)))\n",
    "r2 = r2_score(y_train, y_train_predict)\n",
    "\n",
    "print('RMSE : {}'.format(rmse))\n",
    "print('R2 Score : {}'.format(r2))"
   ]
  },
  {
   "cell_type": "code",
   "execution_count": 66,
   "id": "e45847ab",
   "metadata": {},
   "outputs": [
    {
     "name": "stdout",
     "output_type": "stream",
     "text": [
      "RMSE : 4.791386342508935\n",
      "R2 Score : 0.7416109300331599\n"
     ]
    }
   ],
   "source": [
    "y_test_predict = model.predict(x_test)\n",
    "rmse = (np.sqrt(mean_squared_error(y_test, y_test_predict)))\n",
    "r2 = r2_score(y_test, y_test_predict)\n",
    "\n",
    "print('RMSE : {}'.format(rmse))\n",
    "print('R2 Score : {}'.format(r2))"
   ]
  },
  {
   "cell_type": "code",
   "execution_count": 67,
   "id": "4d4cff59",
   "metadata": {},
   "outputs": [
    {
     "data": {
      "image/png": "[encoded data removed]",
      "text/plain": [
       "<Figure size 576x288 with 1 Axes>"
      ]
     },
     "metadata": {
      "needs_background": "light"
     },
     "output_type": "display_data"
    }
   ],
   "source": [
    "def plot_boston_prices(expected, predicted) :\n",
    "    plt.figure(figsize=(8,4))\n",
    "    plt.scatter(expected, predicted)\n",
    "    plt.plot([5,50], [5,50], '--r')\n",
    "    plt.xlabel('True price')\n",
    "    plt.ylabel('Predicted price')\n",
    "    plt.tight_layout()\n",
    "    \n",
    "predicted = model.predict(x_test)\n",
    "expected = y_test\n",
    "\n",
    "plot_boston_prices(expected, predicted)"
   ]
  },
  {
   "cell_type": "code",
   "execution_count": 71,
   "id": "0f754e4e",
   "metadata": {},
   "outputs": [
    {
     "name": "stdout",
     "output_type": "stream",
     "text": [
      "test[1]의 추정 price = 16.89\n",
      "test[1]의 실제 price = 10.20\n",
      "추정 오류 = rmse(추정 price - 실제 price) = 6.69\n",
      "시험 데이터 전체 오류 (rmse) = 23.9680\n",
      "시험 데이터 전체 오류 (R2-score) = 0.8179\n"
     ]
    },
    {
     "data": {
      "image/png": "[encoded data removed]",
      "text/plain": [
       "<Figure size 432x432 with 1 Axes>"
      ]
     },
     "metadata": {
      "needs_background": "light"
     },
     "output_type": "display_data"
    }
   ],
   "source": [
    "# Linear Regression으로 Boston Housing 데이터를 학습한다.\n",
    "# ------------------------------------------------------\n",
    "import numpy as np\n",
    "from sklearn.datasets import load_boston\n",
    "from sklearn.model_selection import train_test_split\n",
    "from sklearn.linear_model import LinearRegression\n",
    "from sklearn.metrics import mean_squared_error\n",
    "import matplotlib.pyplot as plt\n",
    "from sklearn.preprocessing import StandardScaler\n",
    "\n",
    "# Boston housing data set을 읽어온다\n",
    "boston = load_boston()\n",
    "\n",
    "# 데이터를 표준화한다. train과 test 데이터를 동시에 표준화 했다.\n",
    "# 괜찮을까? 문제라면 무엇이 문제일까?\n",
    "f_scale = StandardScaler()\n",
    "t_scale = StandardScaler()\n",
    "\n",
    "f_scaled = f_scale.fit_transform(boston.data)\n",
    "t_scaled = t_scale.fit_transform(boston.target.reshape(-1,1))\n",
    "\n",
    "# Train 데이터 세트와 Test 데이터 세트를 구성한다\n",
    "x_train, x_test, y_train, y_test = train_test_split(f_scaled, t_scaled, test_size = 0.2)\n",
    "\n",
    "# Logistic Regression으로 Train 데이터 세트를 학습한다.\n",
    "model = LinearRegression()\n",
    "model.fit(x_train, y_train)\n",
    "\n",
    "# x_test[n]에 해당하는 target (price)을 추정한다.\n",
    "n = 1\n",
    "y_pred = model.predict(x_test[n].reshape(1, -1))\n",
    "\n",
    "y_pred\n",
    "\n",
    "# 복원\n",
    "y_pred = t_scale.inverse_transform(y_pred)\n",
    "y_true = t_scale.inverse_transform(y_test[n].reshape(-1, 1))\n",
    "\n",
    "print('test[%d]의 추정 price = %.2f' % (n, y_pred))\n",
    "print('test[%d]의 실제 price = %.2f' % (n, y_true))\n",
    "print('추정 오류 = rmse(추정 price - 실제 price) = %.2f' % np.sqrt(np.square(y_pred - y_true)))\n",
    "\n",
    "# 시험 데이터 전체의 오류를 MSE로 표시한다.\n",
    "# MSE는 값의 범위가 크다는 단점이 있다.\n",
    "y_pred = model.predict(x_test)\n",
    "y_pred = t_scale.inverse_transform(y_pred)\n",
    "y_true = t_scale.inverse_transform(y_test)\n",
    "\n",
    "rmse = (np.sqrt(mean_squared_error(y_test, y_pred)))\n",
    "print('시험 데이터 전체 오류 (rmse) = %.4f' % rmse)\n",
    "\n",
    "# 시험 데이터 전체의 오류를 R-square로 표시한다.\n",
    "# 범위가 한정되어 MSE보다 좋은 척도다.\n",
    "print('시험 데이터 전체 오류 (R2-score) = %.4f' % model.score(x_test, y_test))\n",
    "\n",
    "y_pred\n",
    "\n",
    "# 추정 결과를 시각화 한다.\n",
    "plt.figure(figsize=(6, 6))\n",
    "plt.scatter(y_true, y_pred, c='red', s=30, alpha=0.5)\n",
    "plt.xlabel(\"house price\")\n",
    "plt.ylabel(\"predicted price\")\n",
    "plt.show()\n"
   ]
  },
  {
   "cell_type": "code",
   "execution_count": 72,
   "id": "09c13949",
   "metadata": {},
   "outputs": [
    {
     "name": "stdout",
     "output_type": "stream",
     "text": [
      "y_pred_LinearRegression :  [[1.29904784]]\n",
      "y_pred_Lasso :  [-0.02773571]\n",
      "y_pred_Ridge :  [[1.29492847]]\n",
      "y_pred_ElasticNet :  [0.2210092]\n",
      "y_pred_LinearRegression test[1]의 추정 price = 34.47\n",
      "test[1]의 실제 price = 39.80\n",
      "추정 오류 = rmse(추정 price - 실제 price) = 5.33\n",
      "y_pred_Lasso test[1]의 추정 price = 22.28\n",
      "test[1]의 실제 price = 39.80\n",
      "추정 오류 = rmse(추정 price - 실제 price) = 17.52\n",
      "y_pred_Ridge test[1]의 추정 price = 34.43\n",
      "test[1]의 실제 price = 39.80\n",
      "추정 오류 = rmse(추정 price - 실제 price) = 5.37\n",
      "y_pred_ElasticNet test[1]의 추정 price = 24.56\n",
      "test[1]의 실제 price = 39.80\n",
      "추정 오류 = rmse(추정 price - 실제 price) = 15.24\n"
     ]
    }
   ],
   "source": [
    "# Linear Regression으로 Boston Housing 데이터를 학습한다.\n",
    "# ------------------------------------------------------\n",
    "import numpy as np\n",
    "from sklearn.datasets import load_boston\n",
    "from sklearn.model_selection import train_test_split\n",
    "from sklearn.linear_model import LinearRegression\n",
    "from sklearn.linear_model import Ridge\n",
    "from sklearn.linear_model import Lasso\n",
    "from sklearn.linear_model import ElasticNet\n",
    "from sklearn.metrics import mean_squared_error\n",
    "import matplotlib.pyplot as plt\n",
    "from sklearn.preprocessing import StandardScaler\n",
    "\n",
    "# Boston housing data set을 읽어온다\n",
    "boston = load_boston()\n",
    "\n",
    "# 데이터를 표준화한다. train과 test 데이터를 동시에 표준화 했다.\n",
    "# 괜찮을까? 문제라면 무엇이 문제일까?\n",
    "f_scale = StandardScaler()\n",
    "t_scale = StandardScaler()\n",
    "\n",
    "f_scaled = f_scale.fit_transform(boston.data)\n",
    "t_scaled = t_scale.fit_transform(boston.target.reshape(-1,1))\n",
    "\n",
    "# Train 데이터 세트와 Test 데이터 세트를 구성한다\n",
    "x_train, x_test, y_train, y_test = train_test_split(f_scaled, t_scaled, test_size = 0.2)\n",
    "\n",
    "# Logistic Regression으로 Train 데이터 세트를 학습한다.\n",
    "model_LinearRegression = LinearRegression()\n",
    "model_Lasso = Lasso(alpha = 1.0)\n",
    "model_Ridge = Ridge(alpha = 1.0)\n",
    "model_ElasticNet = ElasticNet(alpha =1.0, l1_ratio=0.5)\n",
    "\n",
    "model_LinearRegression.fit(x_train, y_train)\n",
    "model_Lasso.fit(x_train, y_train)\n",
    "model_Ridge.fit(x_train, y_train)\n",
    "model_ElasticNet.fit(x_train, y_train)\n",
    "\n",
    "# x_test[n]에 해당하는 target (price)을 추정한다.\n",
    "n = 1\n",
    "y_pred_LinearRegression = model_LinearRegression.predict(x_test[n].reshape(1, -1))\n",
    "y_pred_Lasso = model_Lasso.predict(x_test[n].reshape(1, -1))\n",
    "y_pred_Ridge = model_Ridge.predict(x_test[n].reshape(1, -1))\n",
    "y_pred_ElasticNet = model_ElasticNet.predict(x_test[n].reshape(1, -1))\n",
    "\n",
    "print(\"y_pred_LinearRegression : \", y_pred_LinearRegression)\n",
    "print(\"y_pred_Lasso : \", y_pred_Lasso)\n",
    "print(\"y_pred_Ridge : \", y_pred_Ridge)\n",
    "print(\"y_pred_ElasticNet : \", y_pred_ElasticNet)\n",
    "\n",
    "# 복원\n",
    "y_pred_LinearRegression = t_scale.inverse_transform(y_pred_LinearRegression)\n",
    "y_pred_Lasso = t_scale.inverse_transform(y_pred_Lasso)\n",
    "y_pred_Ridge = t_scale.inverse_transform(y_pred_Ridge)\n",
    "y_pred_ElasticNet = t_scale.inverse_transform(y_pred_ElasticNet)\n",
    "\n",
    "y_true = t_scale.inverse_transform(y_test[n].reshape(-1, 1))\n",
    "\n",
    "print('y_pred_LinearRegression test[%d]의 추정 price = %.2f' % (n, y_pred_LinearRegression))\n",
    "print('test[%d]의 실제 price = %.2f' % (n, y_true))\n",
    "print('추정 오류 = rmse(추정 price - 실제 price) = %.2f' % np.sqrt(np.square(y_pred_LinearRegression - y_true)))\n",
    "\n",
    "print('y_pred_Lasso test[%d]의 추정 price = %.2f' % (n, y_pred_Lasso))\n",
    "print('test[%d]의 실제 price = %.2f' % (n, y_true))\n",
    "print('추정 오류 = rmse(추정 price - 실제 price) = %.2f' % np.sqrt(np.square(y_pred_Lasso - y_true)))\n",
    "\n",
    "print('y_pred_Ridge test[%d]의 추정 price = %.2f' % (n, y_pred_Ridge))\n",
    "print('test[%d]의 실제 price = %.2f' % (n, y_true))\n",
    "print('추정 오류 = rmse(추정 price - 실제 price) = %.2f' % np.sqrt(np.square(y_pred_Ridge - y_true)))\n",
    "\n",
    "print('y_pred_ElasticNet test[%d]의 추정 price = %.2f' % (n, y_pred_ElasticNet))\n",
    "print('test[%d]의 실제 price = %.2f' % (n, y_true))\n",
    "print('추정 오류 = rmse(추정 price - 실제 price) = %.2f' % np.sqrt(np.square(y_pred_ElasticNet - y_true)))\n",
    "\n",
    "\n",
    "\n",
    "# # 시험 데이터 전체의 오류를 MSE로 표시한다.\n",
    "# # MSE는 값의 범위가 크다는 단점이 있다.\n",
    "# y_pred = model.predict(x_test)\n",
    "# y_pred = t_scale.inverse_transform(y_pred)\n",
    "# y_true = t_scale.inverse_transform(y_test)\n",
    "\n",
    "# rmse = (np.sqrt(mean_squared_error(y_test, y_pred)))\n",
    "# print('시험 데이터 전체 오류 (rmse) = %.4f' % rmse)\n",
    "\n",
    "# # 시험 데이터 전체의 오류를 R-square로 표시한다.\n",
    "# # 범위가 한정되어 MSE보다 좋은 척도다.\n",
    "# print('시험 데이터 전체 오류 (R2-score) = %.4f' % model.score(x_test, y_test))\n",
    "\n",
    "# y_pred\n",
    "\n",
    "# # 추정 결과를 시각화 한다.\n",
    "# plt.figure(figsize=(6, 6))\n",
    "# plt.scatter(y_true, y_pred, c='red', s=30, alpha=0.5)\n",
    "# plt.xlabel(\"house price\")\n",
    "# plt.ylabel(\"predicted price\")\n",
    "# plt.show()\n"
   ]
  },
  {
   "cell_type": "code",
   "execution_count": 74,
   "id": "e589bfef",
   "metadata": {},
   "outputs": [],
   "source": [
    "from sklearn.pipeline import Pipeline\n",
    "from sklearn.model_selection import train_test_split, GridSearchCV\n",
    "\n",
    "pipe = Pipeline(steps=[('model', LinearRegression())])  # 임의 model로 pip를 초기화한다.\n"
   ]
  },
  {
   "cell_type": "code",
   "execution_count": 102,
   "id": "9ddcae97",
   "metadata": {},
   "outputs": [
    {
     "name": "stdout",
     "output_type": "stream",
     "text": [
      "Best parameter =  {'model': Ridge(alpha=6.8), 'model__alpha': 6.8}\n",
      "Best test score =  0.8367131975609338\n"
     ]
    }
   ],
   "source": [
    "grid_params = [{'model':[LinearRegression()]},\n",
    "\n",
    "               {'model':[Lasso()],\n",
    "                'model__alpha':np.arange(0.1, 10, 0.1)},\n",
    "               \n",
    "               {'model':[Ridge()],\n",
    "                'model__alpha':np.arange(0.1, 10, 0.1)}, \n",
    "               \n",
    "               {'model':[ElasticNet()],\n",
    "                'model__alpha':np.arange(0.1, 10, 0.1),\n",
    "                'model__l1_ratio' :[0.1, 0.5, 1.0]}, \n",
    "              ]\n",
    "grid = GridSearchCV(estimator=pipe, param_grid=grid_params, cv=10, refit=True)\n",
    "grid.fit(x_train, y_train)\n",
    "\n",
    "best_model = grid.best_estimator_\n",
    "\n",
    "print(\"Best parameter = \", grid.best_params_)\n",
    "print(\"Best test score = \", best_model.score(x_test, y_test))"
   ]
  },
  {
   "cell_type": "code",
   "execution_count": 107,
   "id": "d63f1dcf",
   "metadata": {},
   "outputs": [
    {
     "name": "stdout",
     "output_type": "stream",
     "text": [
      "y_pred_Ridge :  [[1.27339969]]\n",
      "y_pred_Ridge :  [[34.23281742]]\n",
      "y_pred_Ridge test[1]의 추정 price = 34.23\n",
      "test[1]의 실제 price = 39.80\n",
      "추정 오류 = rmse(추정 price - 실제 price) = 5.57\n"
     ]
    }
   ],
   "source": [
    "model_Ridge = Ridge(alpha = 6.8)\n",
    "model_Ridge.fit(x_train, y_train)\n",
    "\n",
    "n=1\n",
    "y_pred_Ridge = model_Ridge.predict(x_test[n].reshape(1, -1))\n",
    "\n",
    "print(\"y_pred_Ridge : \", y_pred_Ridge)\n",
    "\n",
    "y_pred_Ridge = t_scale.inverse_transform(y_pred_Ridge)\n",
    "\n",
    "print(\"y_pred_Ridge : \", y_pred_Ridge)\n",
    "\n",
    "y_true = t_scale.inverse_transform(y_test[n].reshape(-1, 1))\n",
    "\n",
    "print('y_pred_Ridge test[%d]의 추정 price = %.2f' % (n, y_pred_Ridge))\n",
    "print('test[%d]의 실제 price = %.2f' % (n, y_true))\n",
    "print('추정 오류 = rmse(추정 price - 실제 price) = %.2f' % np.sqrt(np.square(y_pred_Ridge - y_true)))\n"
   ]
  },
  {
   "cell_type": "code",
   "execution_count": 110,
   "id": "47cfc986",
   "metadata": {},
   "outputs": [
    {
     "name": "stdout",
     "output_type": "stream",
     "text": [
      "시험 데이터 전체 오류 (rmse) = 25.0003\n",
      "시험 데이터 전체 오류 (R2-score) = 0.8352\n"
     ]
    },
    {
     "data": {
      "image/png": "[encoded data removed]",
      "text/plain": [
       "<Figure size 432x432 with 1 Axes>"
      ]
     },
     "metadata": {
      "needs_background": "light"
     },
     "output_type": "display_data"
    }
   ],
   "source": [
    "# 시험 데이터 전체의 오류를 MSE로 표시한다.\n",
    "# MSE는 값의 범위가 크다는 단점이 있다.\n",
    "y_pred_Ridge = model_Ridge.predict(x_test)\n",
    "y_pred_Ridge = t_scale.inverse_transform(y_pred_Ridge)\n",
    "y_true = t_scale.inverse_transform(y_test)\n",
    "\n",
    "rmse = (np.sqrt(mean_squared_error(y_test, y_pred_Ridge)))\n",
    "print('시험 데이터 전체 오류 (rmse) = %.4f' % rmse)\n",
    "\n",
    "# 시험 데이터 전체의 오류를 R-square로 표시한다.\n",
    "# 범위가 한정되어 MSE보다 좋은 척도다.\n",
    "print('시험 데이터 전체 오류 (R2-score) = %.4f' % model.score(x_test, y_test))\n",
    "\n",
    "y_pred\n",
    "\n",
    "# 추정 결과를 시각화 한다.\n",
    "plt.figure(figsize=(6, 6))\n",
    "plt.scatter(y_true, y_pred_Ridge, c='red', s=30, alpha=0.5)\n",
    "plt.xlabel(\"house price\")\n",
    "plt.ylabel(\"predicted price\")\n",
    "plt.plot([5,50], [5,50], '--b')\n",
    "plt.show()"
   ]
  },
  {
   "cell_type": "code",
   "execution_count": null,
   "id": "3bb98358",
   "metadata": {},
   "outputs": [],
   "source": []
  }
 ],
 "metadata": {
  "kernelspec": {
   "display_name": "Python 3 (ipykernel)",
   "language": "python",
   "name": "python3"
  },
  "language_info": {
   "codemirror_mode": {
    "name": "ipython",
    "version": 3
   },
   "file_extension": ".py",
   "mimetype": "text/x-python",
   "name": "python",
   "nbconvert_exporter": "python",
   "pygments_lexer": "ipython3",
   "version": "3.9.7"
  }
 },
 "nbformat": 4,
 "nbformat_minor": 5
}
