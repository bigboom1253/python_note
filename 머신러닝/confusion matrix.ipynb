{
 "cells": [
  {
   "cell_type": "code",
   "execution_count": 23,
   "id": "0f34210d",
   "metadata": {},
   "outputs": [],
   "source": [
    "import numpy as np\n",
    "import pandas as pd"
   ]
  },
  {
   "cell_type": "code",
   "execution_count": 13,
   "id": "7d7a5480",
   "metadata": {},
   "outputs": [],
   "source": [
    "data = np.array([1, 0, 1, 1, 0, 0, 1, 0])\n",
    "predict_prob = np.array([0.8, 0.2, 0.4, 0.4, 0.3, 0.6, 0.7, 0.1])\n",
    "\n",
    "threshold = 0.5"
   ]
  },
  {
   "cell_type": "code",
   "execution_count": 14,
   "id": "38509b7b",
   "metadata": {},
   "outputs": [
    {
     "data": {
      "text/plain": [
       "array([ True, False, False, False, False,  True,  True, False])"
      ]
     },
     "execution_count": 14,
     "metadata": {},
     "output_type": "execute_result"
    }
   ],
   "source": [
    "predict = predict_prob >= threshold\n",
    "predict"
   ]
  },
  {
   "cell_type": "code",
   "execution_count": 17,
   "id": "7301fa86",
   "metadata": {},
   "outputs": [
    {
     "data": {
      "text/plain": [
       "array([ True,  True, False, False,  True, False,  True,  True])"
      ]
     },
     "execution_count": 17,
     "metadata": {},
     "output_type": "execute_result"
    }
   ],
   "source": [
    "result = (predict == data)\n",
    "result"
   ]
  },
  {
   "cell_type": "code",
   "execution_count": 19,
   "id": "538bbabd",
   "metadata": {},
   "outputs": [
    {
     "data": {
      "text/plain": [
       "array([[0., 0.],\n",
       "       [0., 0.]])"
      ]
     },
     "execution_count": 19,
     "metadata": {},
     "output_type": "execute_result"
    }
   ],
   "source": [
    "confusion_matrix = np.zeros((2,2))\n",
    "confusion_matrix"
   ]
  },
  {
   "cell_type": "code",
   "execution_count": 22,
   "id": "930a4b9f",
   "metadata": {},
   "outputs": [
    {
     "data": {
      "text/plain": [
       "array([[3., 1.],\n",
       "       [2., 2.]])"
      ]
     },
     "execution_count": 22,
     "metadata": {},
     "output_type": "execute_result"
    }
   ],
   "source": [
    "for idx in range(0, len(data)) :\n",
    "    if data[idx] == True and predict[idx] == True :\n",
    "         confusion_matrix[1][1] += 1\n",
    "    elif data[idx] == True and predict[idx] == False :\n",
    "         confusion_matrix[1][0] += 1\n",
    "    elif data[idx] == False and predict[idx] == True :\n",
    "         confusion_matrix[0][1] += 1\n",
    "    elif data[idx] == False and predict[idx] == False :\n",
    "         confusion_matrix[0][0] += 1\n",
    "confusion_matrix"
   ]
  },
  {
   "cell_type": "code",
   "execution_count": 30,
   "id": "c99aaf20",
   "metadata": {},
   "outputs": [
    {
     "data": {
      "text/html": [
       "<div>\n",
       "<style scoped>\n",
       "    .dataframe tbody tr th:only-of-type {\n",
       "        vertical-align: middle;\n",
       "    }\n",
       "\n",
       "    .dataframe tbody tr th {\n",
       "        vertical-align: top;\n",
       "    }\n",
       "\n",
       "    .dataframe thead th {\n",
       "        text-align: right;\n",
       "    }\n",
       "</style>\n",
       "<table border=\"1\" class=\"dataframe\">\n",
       "  <thead>\n",
       "    <tr style=\"text-align: right;\">\n",
       "      <th></th>\n",
       "      <th>pred_N</th>\n",
       "      <th>pred_P</th>\n",
       "    </tr>\n",
       "  </thead>\n",
       "  <tbody>\n",
       "    <tr>\n",
       "      <th>res_N</th>\n",
       "      <td>3.0</td>\n",
       "      <td>1.0</td>\n",
       "    </tr>\n",
       "    <tr>\n",
       "      <th>res_P</th>\n",
       "      <td>2.0</td>\n",
       "      <td>2.0</td>\n",
       "    </tr>\n",
       "  </tbody>\n",
       "</table>\n",
       "</div>"
      ],
      "text/plain": [
       "       pred_N  pred_P\n",
       "res_N     3.0     1.0\n",
       "res_P     2.0     2.0"
      ]
     },
     "execution_count": 30,
     "metadata": {},
     "output_type": "execute_result"
    }
   ],
   "source": [
    "confusion_matrix = pd.DataFrame(confusion_matrix, columns=['pred_N', 'pred_P'], index=['res_N', 'res_P'])\n",
    "confusion_matrix"
   ]
  },
  {
   "cell_type": "code",
   "execution_count": 35,
   "id": "71914249",
   "metadata": {},
   "outputs": [],
   "source": [
    "TN = confusion_matrix['pred_N']['res_N'] \n",
    "FN = confusion_matrix['pred_N']['res_P']\n",
    "FP = confusion_matrix['pred_P']['res_N']\n",
    "TP = confusion_matrix['pred_P']['res_P']"
   ]
  },
  {
   "cell_type": "code",
   "execution_count": 37,
   "id": "6013928c",
   "metadata": {},
   "outputs": [
    {
     "data": {
      "text/plain": [
       "0.625"
      ]
     },
     "execution_count": 37,
     "metadata": {},
     "output_type": "execute_result"
    }
   ],
   "source": [
    "accuarcy = (TN + TP) / (TN + FP + FN + TP)\n",
    "accuarcy"
   ]
  },
  {
   "cell_type": "code",
   "execution_count": 39,
   "id": "fea2e2ad",
   "metadata": {},
   "outputs": [
    {
     "data": {
      "text/plain": [
       "0.6666666666666666"
      ]
     },
     "execution_count": 39,
     "metadata": {},
     "output_type": "execute_result"
    }
   ],
   "source": [
    "precision = (TP)/(TP + FP)\n",
    "precision"
   ]
  },
  {
   "cell_type": "code",
   "execution_count": 41,
   "id": "e7618372",
   "metadata": {},
   "outputs": [
    {
     "data": {
      "text/plain": [
       "0.5"
      ]
     },
     "execution_count": 41,
     "metadata": {},
     "output_type": "execute_result"
    }
   ],
   "source": [
    "recall = TP / (FN + TP)\n",
    "recall"
   ]
  },
  {
   "cell_type": "code",
   "execution_count": 44,
   "id": "153ffec1",
   "metadata": {},
   "outputs": [
    {
     "data": {
      "text/plain": [
       "0.5714285714285715"
      ]
     },
     "execution_count": 44,
     "metadata": {},
     "output_type": "execute_result"
    }
   ],
   "source": [
    "f1 = 2 * (precision * recall) / (precision + recall)\n",
    "f1"
   ]
  },
  {
   "cell_type": "code",
   "execution_count": 45,
   "id": "d298eaf8",
   "metadata": {},
   "outputs": [
    {
     "name": "stdout",
     "output_type": "stream",
     "text": [
      "[[3. 1.]\n",
      " [2. 2.]]\n",
      "\n",
      "accuracy = 0.625\n",
      "precision =  0.667\n",
      "recall =  0.500\n",
      "f1 =  0.571\n"
     ]
    }
   ],
   "source": [
    "import numpy as np\n",
    "\n",
    "y_test = np.array([1, 0, 1, 1, 0, 0, 1, 0])\n",
    "y_prob = np.array([0.8, 0.2, 0.4, 0.4, 0.3, 0.6, 0.7, 0.1])\n",
    "\n",
    "# 추정 확률로 label을 결정한다.\n",
    "def find_label(p, treshold = 0.5):\n",
    "    label = (p > treshold).astype('uint8')\n",
    "    return label\n",
    "\n",
    "y_pred = find_label(y_prob, 0.5)\n",
    "\n",
    "# Confusion matrix를 생성한다\n",
    "cm = np.zeros([2, 2])\n",
    "for a in [0, 1]:\n",
    "    idx = np.where(y_test == a)\n",
    "    for p in [0, 1]:\n",
    "        cm[a, p] = (y_pred[idx] == p).sum()\n",
    "\n",
    "# 평가 지표들을 계산한다.\n",
    "tn = cm[0, 0]\n",
    "fp = cm[0, 1]\n",
    "fn = cm[1, 0]\n",
    "tp = cm[1, 1]\n",
    "\n",
    "accuracy = (tn + tp) / cm.sum()\n",
    "precision = tp / cm[:, 1].sum()\n",
    "recall = tp / cm[1, :].sum()\n",
    "f1 = 2 * precision * recall / (precision + recall)\n",
    "\n",
    "print(cm)\n",
    "print('\\naccuracy = %.3f' % accuracy)\n",
    "print('precision =  %.3f' % precision)\n",
    "print('recall =  %.3f' % recall)\n",
    "print('f1 =  %.3f' % f1)\n"
   ]
  },
  {
   "cell_type": "code",
   "execution_count": 46,
   "id": "b7740202",
   "metadata": {},
   "outputs": [
    {
     "name": "stdout",
     "output_type": "stream",
     "text": [
      "              precision    recall  f1-score   support\n",
      "\n",
      "           0       0.60      0.75      0.67         4\n",
      "           1       0.67      0.50      0.57         4\n",
      "\n",
      "    accuracy                           0.62         8\n",
      "   macro avg       0.63      0.62      0.62         8\n",
      "weighted avg       0.63      0.62      0.62         8\n",
      "\n",
      " Accuracy = 0.625\n",
      "   Recall = 0.625\n",
      "Precision = 0.633\n",
      " F1-score = 0.619\n"
     ]
    }
   ],
   "source": [
    "from sklearn.metrics import classification_report\n",
    "from sklearn.metrics import accuracy_score, recall_score, precision_score, f1_score\n",
    "\n",
    "print(classification_report(y_test, y_pred))\n",
    "\n",
    "print(' Accuracy = %.3f' % accuracy_score(y_test, y_pred))\n",
    "print('   Recall = %.3f' % recall_score(y_test, y_pred, average='macro'))\n",
    "print('Precision = %.3f' % precision_score(y_test, y_pred, average='macro'))\n",
    "print(' F1-score = %.3f' % f1_score(y_test, y_pred, average='macro'))"
   ]
  },
  {
   "cell_type": "code",
   "execution_count": 73,
   "id": "5303d6bf",
   "metadata": {},
   "outputs": [
    {
     "data": {
      "image/png": "[encoded data removed]",
      "text/plain": [
       "<Figure size 432x288 with 1 Axes>"
      ]
     },
     "metadata": {
      "needs_background": "light"
     },
     "output_type": "display_data"
    },
    {
     "data": {
      "image/png": "[encoded data removed]",
      "text/plain": [
       "<Figure size 432x288 with 1 Axes>"
      ]
     },
     "metadata": {
      "needs_background": "light"
     },
     "output_type": "display_data"
    },
    {
     "name": "stdout",
     "output_type": "stream",
     "text": [
      "ROC AUC = 0.8750\n"
     ]
    }
   ],
   "source": [
    "import numpy as np\n",
    "import matplotlib.pyplot as plt\n",
    "\n",
    "y_test = np.array([1, 0, 1, 1, 0, 0, 1, 0])\n",
    "y_prob = np.array([0.8, 0.2, 0.4, 0.4, 0.3, 0.6, 0.7, 0.1])\n",
    "\n",
    "# 추정 확률로 label을 결정한다.\n",
    "def find_label(p, treshold = 0.5):\n",
    "    return (p > treshold).astype('uint8')\n",
    "\n",
    "fpr, tpr = [], []\n",
    "for thr in np.arange(0.1, 1.1, 0.1):\n",
    "    y_pred = find_label(y_prob, thr)\n",
    "\n",
    "    # Confusion matrix를 생성한다\n",
    "    cm = np.zeros([2, 2])\n",
    "    for a in [0, 1]:\n",
    "        idx = np.where(y_test == a)\n",
    "        for p in [0, 1]:\n",
    "            cm[a, p] = (y_pred[idx] == p).sum()\n",
    "    \n",
    "    fpr.append(cm[0, 1] / cm[0, :].sum())\n",
    "    tpr.append(cm[1, 1] / cm[1, :].sum())\n",
    "\n",
    "# ROC curve를 그린다\n",
    "plt.plot(fpr, tpr, marker='o')\n",
    "plt.xticks(fpr)\n",
    "plt.xlim(-0.1, 1)\n",
    "plt.xlabel('FPR')\n",
    "plt.ylabel('TPR')\n",
    "plt.show()\n",
    "\n",
    "from sklearn.metrics import roc_curve\n",
    "from sklearn.metrics import roc_auc_score\n",
    "\n",
    "# ROC curve를 그린다\n",
    "fprs, tprs, thresholds = roc_curve(y_test, y_prob)\n",
    "\n",
    "plt.plot(fprs, tprs, label = 'ROC')\n",
    "plt.plot([0,1], [0,1], '--', label = 'Random')\n",
    "plt.legend()\n",
    "plt.xlabel('FPR')\n",
    "plt.ylabel('TPR')\n",
    "plt.show()\n",
    "\n",
    "# AUC (Area Under Curve)를 계산한다\n",
    "auc = roc_auc_score(y_test, y_prob)\n",
    "print(\"ROC AUC = {0:.4f}\".format(auc))"
   ]
  },
  {
   "cell_type": "code",
   "execution_count": 75,
   "id": "89aac595",
   "metadata": {},
   "outputs": [
    {
     "data": {
      "text/plain": [
       "array([0.8, 0.2, 0.4, 0.4, 0.3, 0.6, 0.7, 0.1])"
      ]
     },
     "execution_count": 75,
     "metadata": {},
     "output_type": "execute_result"
    }
   ],
   "source": [
    "y_prob"
   ]
  },
  {
   "cell_type": "code",
   "execution_count": 87,
   "id": "29c5a240",
   "metadata": {},
   "outputs": [],
   "source": [
    "import numpy as np\n",
    "from sklearn.datasets import load_iris, load_breast_cancer\n",
    "from sklearn.tree import DecisionTreeRegressor\n",
    "from sklearn.svm import SVC\n",
    "from sklearn.neighbors import KNeighborsClassifier\n",
    "from sklearn.model_selection import train_test_split, GridSearchCV\n",
    "from sklearn.pipeline import Pipeline"
   ]
  },
  {
   "cell_type": "code",
   "execution_count": 88,
   "id": "1742c04d",
   "metadata": {},
   "outputs": [],
   "source": [
    "# iris = load_iris()\n",
    "# x_train, x_test, y_train, y_test = train_test_split(iris['data'], iris['target'], test_size = 0.2)\n",
    "\n",
    "breast_cancer = load_breast_cancer()\n",
    "x_train, x_test, y_train, y_test = train_test_split(breast_cancer['data'], breast_cancer['target'], test_size = 0.2)\n"
   ]
  },
  {
   "cell_type": "code",
   "execution_count": 89,
   "id": "f6baef13",
   "metadata": {},
   "outputs": [
    {
     "name": "stdout",
     "output_type": "stream",
     "text": [
      "Best parameter =  {'model': KNeighborsClassifier(), 'model__n_neighbors': 5}\n",
      "Best test score =  0.9210526315789473\n"
     ]
    }
   ],
   "source": [
    "pipe = Pipeline(steps=[('model', SVC())])  # 임의 model로 pip를 초기화한다.\n",
    "grid_params = [{'model':[SVC()],\n",
    "                'model__kernel':['rbf'],\n",
    "                'model__C':[0.1, 1.0, 10.0],\n",
    "                'model__gamma':[0.1, 1.0, 5.0],\n",
    "                'model__probability':[True],\n",
    "               },\n",
    "               \n",
    "               {'model':[DecisionTreeRegressor()],\n",
    "                'model__max_depth':[5, 10]},\n",
    "                \n",
    "               {'model':[KNeighborsClassifier()],\n",
    "                'model__n_neighbors' : [5, 10]\n",
    "               }   \n",
    "              ]\n",
    "grid = GridSearchCV(estimator=pipe, param_grid=grid_params, cv=5, refit=True)\n",
    "grid.fit(x_train, y_train)\n",
    "best_model = grid.best_estimator_\n",
    "\n",
    "print(\"Best parameter = \", grid.best_params_)\n",
    "print(\"Best test score = \", best_model.score(x_test, y_test))"
   ]
  },
  {
   "cell_type": "code",
   "execution_count": 90,
   "id": "025f9aba",
   "metadata": {},
   "outputs": [
    {
     "data": {
      "text/plain": [
       "array([[1. , 0. ],\n",
       "       [1. , 0. ],\n",
       "       [0. , 1. ],\n",
       "       [1. , 0. ],\n",
       "       [1. , 0. ],\n",
       "       [0. , 1. ],\n",
       "       [0. , 1. ],\n",
       "       [0. , 1. ],\n",
       "       [0.2, 0.8],\n",
       "       [0. , 1. ],\n",
       "       [0. , 1. ],\n",
       "       [0. , 1. ],\n",
       "       [0. , 1. ],\n",
       "       [1. , 0. ],\n",
       "       [0. , 1. ],\n",
       "       [0. , 1. ],\n",
       "       [0. , 1. ],\n",
       "       [0. , 1. ],\n",
       "       [0. , 1. ],\n",
       "       [0. , 1. ],\n",
       "       [1. , 0. ],\n",
       "       [0.6, 0.4],\n",
       "       [1. , 0. ],\n",
       "       [0. , 1. ],\n",
       "       [1. , 0. ],\n",
       "       [1. , 0. ],\n",
       "       [1. , 0. ],\n",
       "       [0. , 1. ],\n",
       "       [0.6, 0.4],\n",
       "       [1. , 0. ],\n",
       "       [0. , 1. ],\n",
       "       [0. , 1. ],\n",
       "       [1. , 0. ],\n",
       "       [0.2, 0.8],\n",
       "       [0. , 1. ],\n",
       "       [0. , 1. ],\n",
       "       [0.2, 0.8],\n",
       "       [0. , 1. ],\n",
       "       [0.8, 0.2],\n",
       "       [0. , 1. ],\n",
       "       [0. , 1. ],\n",
       "       [0.6, 0.4],\n",
       "       [0. , 1. ],\n",
       "       [0.2, 0.8],\n",
       "       [0.4, 0.6],\n",
       "       [0.2, 0.8],\n",
       "       [0. , 1. ],\n",
       "       [1. , 0. ],\n",
       "       [1. , 0. ],\n",
       "       [1. , 0. ],\n",
       "       [1. , 0. ],\n",
       "       [0. , 1. ],\n",
       "       [0. , 1. ],\n",
       "       [0. , 1. ],\n",
       "       [1. , 0. ],\n",
       "       [0. , 1. ],\n",
       "       [0. , 1. ],\n",
       "       [0. , 1. ],\n",
       "       [1. , 0. ],\n",
       "       [0. , 1. ],\n",
       "       [0. , 1. ],\n",
       "       [0. , 1. ],\n",
       "       [0. , 1. ],\n",
       "       [0.2, 0.8],\n",
       "       [0. , 1. ],\n",
       "       [0. , 1. ],\n",
       "       [0. , 1. ],\n",
       "       [1. , 0. ],\n",
       "       [0.4, 0.6],\n",
       "       [0. , 1. ],\n",
       "       [0.8, 0.2],\n",
       "       [0. , 1. ],\n",
       "       [0. , 1. ],\n",
       "       [1. , 0. ],\n",
       "       [1. , 0. ],\n",
       "       [1. , 0. ],\n",
       "       [0.2, 0.8],\n",
       "       [1. , 0. ],\n",
       "       [1. , 0. ],\n",
       "       [0.4, 0.6],\n",
       "       [0. , 1. ],\n",
       "       [0. , 1. ],\n",
       "       [0. , 1. ],\n",
       "       [0.2, 0.8],\n",
       "       [0. , 1. ],\n",
       "       [0.2, 0.8],\n",
       "       [0. , 1. ],\n",
       "       [1. , 0. ],\n",
       "       [0. , 1. ],\n",
       "       [0.8, 0.2],\n",
       "       [0.2, 0.8],\n",
       "       [1. , 0. ],\n",
       "       [0. , 1. ],\n",
       "       [0. , 1. ],\n",
       "       [1. , 0. ],\n",
       "       [0. , 1. ],\n",
       "       [0. , 1. ],\n",
       "       [0. , 1. ],\n",
       "       [0. , 1. ],\n",
       "       [0. , 1. ],\n",
       "       [0. , 1. ],\n",
       "       [0. , 1. ],\n",
       "       [0.2, 0.8],\n",
       "       [0.6, 0.4],\n",
       "       [1. , 0. ],\n",
       "       [0. , 1. ],\n",
       "       [0. , 1. ],\n",
       "       [0.2, 0.8],\n",
       "       [0. , 1. ],\n",
       "       [0.4, 0.6],\n",
       "       [0.6, 0.4],\n",
       "       [0.4, 0.6],\n",
       "       [0. , 1. ],\n",
       "       [0. , 1. ]])"
      ]
     },
     "execution_count": 90,
     "metadata": {},
     "output_type": "execute_result"
    }
   ],
   "source": [
    "y_prob = best_model.predict_proba(x_test)\n",
    "y_prob"
   ]
  },
  {
   "cell_type": "code",
   "execution_count": 98,
   "id": "1cb9beff",
   "metadata": {},
   "outputs": [
    {
     "data": {
      "text/plain": [
       "array([0. , 0. , 1. , 0. , 0. , 1. , 1. , 1. , 0.8, 1. , 1. , 1. , 1. ,\n",
       "       0. , 1. , 1. , 1. , 1. , 1. , 1. , 0. , 0.4, 0. , 1. , 0. , 0. ,\n",
       "       0. , 1. , 0.4, 0. , 1. , 1. , 0. , 0.8, 1. , 1. , 0.8, 1. , 0.2,\n",
       "       1. , 1. , 0.4, 1. , 0.8, 0.6, 0.8, 1. , 0. , 0. , 0. , 0. , 1. ,\n",
       "       1. , 1. , 0. , 1. , 1. , 1. , 0. , 1. , 1. , 1. , 1. , 0.8, 1. ,\n",
       "       1. , 1. , 0. , 0.6, 1. , 0.2, 1. , 1. , 0. , 0. , 0. , 0.8, 0. ,\n",
       "       0. , 0.6, 1. , 1. , 1. , 0.8, 1. , 0.8, 1. , 0. , 1. , 0.2, 0.8,\n",
       "       0. , 1. , 1. , 0. , 1. , 1. , 1. , 1. , 1. , 1. , 1. , 0.8, 0.4,\n",
       "       0. , 1. , 1. , 0.8, 1. , 0.6, 0.4, 0.6, 1. , 1. ])"
      ]
     },
     "execution_count": 98,
     "metadata": {},
     "output_type": "execute_result"
    }
   ],
   "source": [
    "y_prob[:,1]"
   ]
  },
  {
   "cell_type": "code",
   "execution_count": 100,
   "id": "cdb4436b",
   "metadata": {},
   "outputs": [
    {
     "data": {
      "text/plain": [
       "array([0, 0, 1, 0, 0, 1, 1, 1, 1, 1, 1, 1, 1, 0, 1, 0, 1, 1, 1, 1, 0, 0,\n",
       "       0, 1, 0, 0, 0, 1, 0, 0, 1, 1, 0, 1, 1, 1, 1, 1, 0, 1, 1, 0, 1, 1,\n",
       "       1, 1, 1, 0, 0, 0, 0, 1, 1, 1, 0, 1, 1, 1, 0, 1, 1, 1, 1, 0, 1, 1,\n",
       "       1, 0, 1, 1, 0, 1, 1, 0, 0, 0, 1, 0, 0, 1, 1, 1, 1, 1, 1, 0, 1, 0,\n",
       "       0, 1, 1, 0, 1, 1, 0, 1, 1, 1, 1, 1, 1, 1, 1, 1, 0, 1, 1, 0, 1, 0,\n",
       "       0, 0, 1, 1])"
      ]
     },
     "execution_count": 100,
     "metadata": {},
     "output_type": "execute_result"
    }
   ],
   "source": [
    "y_test"
   ]
  },
  {
   "cell_type": "code",
   "execution_count": 99,
   "id": "5fbd1cd3",
   "metadata": {},
   "outputs": [
    {
     "data": {
      "text/plain": [
       "0.9567323755429334"
      ]
     },
     "execution_count": 99,
     "metadata": {},
     "output_type": "execute_result"
    }
   ],
   "source": [
    "# roc_auc_score(y_test, y_prob, multi_class=\"ovo\")\n",
    "roc_auc_score(y_test, y_prob[:,1])"
   ]
  },
  {
   "cell_type": "code",
   "execution_count": 101,
   "id": "10fdf619",
   "metadata": {},
   "outputs": [
    {
     "data": {
      "image/png": "[encoded data removed]",
      "text/plain": [
       "<Figure size 432x288 with 1 Axes>"
      ]
     },
     "metadata": {
      "needs_background": "light"
     },
     "output_type": "display_data"
    },
    {
     "name": "stdout",
     "output_type": "stream",
     "text": [
      "ROC AUC = 0.9760\n"
     ]
    }
   ],
   "source": [
    "# ROC AUC score 연습 코드\n",
    "# ----------------------\n",
    "import matplotlib.pyplot as plt\n",
    "from sklearn.datasets import load_breast_cancer\n",
    "from sklearn.model_selection import train_test_split\n",
    "from sklearn.neighbors import KNeighborsClassifier\n",
    "from sklearn.metrics import roc_curve\n",
    "from sklearn.metrics import roc_auc_score\n",
    "\n",
    "# 학습 데이터를 읽어온다.\n",
    "cancer = load_breast_cancer()\n",
    "\n",
    "# Train 데이터 세트와 Test 데이터 세트를 구성한다\n",
    "x_train, x_test, y_train, y_test = train_test_split(cancer['data'], cancer['target'], test_size = 0.2)\n",
    "\n",
    "# KNN 으로 Train 데이터 세트를 학습한다.\n",
    "knn = KNeighborsClassifier(n_neighbors=5)\n",
    "knn.fit(x_train, y_train)\n",
    "\n",
    "# Test 세트의 Feature에 대한 class를 추정하고, 정확도를 계산한다\n",
    "y_pred = knn.predict_proba(x_test)[:, 1]\n",
    "\n",
    "# ROC curve를 그린다\n",
    "fprs, tprs, thresholds = roc_curve(y_test, y_pred)\n",
    "\n",
    "# thresholdsndarray of shape = (n_thresholds,)\n",
    "# Decreasing thresholds on the decision function used to compute fpr and tpr. \n",
    "# thresholds[0] represents no instances being predicted and is arbitrarily set to max(y_score) + 1.\n",
    "# y_pred = 1.0인 경우도 있을 수 있으므로 가장 큰 threshold는 1.0보다 크게 적용한 것 같음.\n",
    "\n",
    "plt.plot(fprs, tprs, marker= 'o', label = 'ROC')\n",
    "plt.plot([0,1], [0,1], '--', label = 'Random')\n",
    "plt.legend()\n",
    "plt.xlabel('FPR')\n",
    "plt.ylabel('TPR')\n",
    "plt.show()\n",
    "\n",
    "# AUC (Area Under Curve)를 계산한다\n",
    "auc = roc_auc_score(y_test, y_pred)\n",
    "print(\"ROC AUC = {0:.4f}\".format(auc))"
   ]
  },
  {
   "cell_type": "code",
   "execution_count": null,
   "id": "53ffbf3d",
   "metadata": {},
   "outputs": [],
   "source": []
  }
 ],
 "metadata": {
  "kernelspec": {
   "display_name": "Python 3 (ipykernel)",
   "language": "python",
   "name": "python3"
  },
  "language_info": {
   "codemirror_mode": {
    "name": "ipython",
    "version": 3
   },
   "file_extension": ".py",
   "mimetype": "text/x-python",
   "name": "python",
   "nbconvert_exporter": "python",
   "pygments_lexer": "ipython3",
   "version": "3.9.7"
  }
 },
 "nbformat": 4,
 "nbformat_minor": 5
}
