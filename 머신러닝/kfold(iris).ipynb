{
 "cells": [
  {
   "cell_type": "code",
   "execution_count": 2,
   "id": "a01966c3",
   "metadata": {},
   "outputs": [],
   "source": [
    "# -*- coding: utf-8 -*-\n",
    "\n",
    "# K-Fold cross validation 기능 연습\n",
    "import numpy as np\n",
    "from sklearn.datasets import load_iris\n",
    "from sklearn.tree import DecisionTreeClassifier\n",
    "from sklearn.model_selection import train_test_split, KFold\n",
    "import pdb"
   ]
  },
  {
   "cell_type": "code",
   "execution_count": 5,
   "id": "7e686dc2",
   "metadata": {},
   "outputs": [
    {
     "name": "stdout",
     "output_type": "stream",
     "text": [
      "depth- 1 : fold acculate = [0.667 0.667 0.583 0.625 0.5  ] --> 평균 = 0.6083\n",
      "depth- 2 : fold acculate = [0.917 0.917 0.833 0.917 0.917] --> 평균 = 0.9000\n",
      "depth- 3 : fold acculate = [0.958 0.917 1.    0.917 0.875] --> 평균 = 0.9333\n",
      "depth- 4 : fold acculate = [1.    0.958 0.833 0.875 1.   ] --> 평균 = 0.9333\n",
      "depth- 5 : fold acculate = [0.958 0.958 0.958 0.917 0.917] --> 평균 = 0.9417\n",
      "depth- 6 : fold acculate = [1.    0.917 0.917 0.958 0.875] --> 평균 = 0.9333\n",
      "depth- 7 : fold acculate = [0.833 0.958 0.958 0.875 1.   ] --> 평균 = 0.9250\n",
      "depth- 8 : fold acculate = [0.917 0.917 0.958 0.875 0.917] --> 평균 = 0.9167\n",
      "depth- 9 : fold acculate = [0.958 0.875 1.    0.875 0.917] --> 평균 = 0.9250\n",
      "depth-10 : fold acculate = [0.958 0.958 0.958 0.917 0.875] --> 평균 = 0.9333\n",
      "depth-11 : fold acculate = [0.792 0.917 0.875 1.    1.   ] --> 평균 = 0.9167\n",
      "depth-12 : fold acculate = [0.958 1.    0.875 0.833 0.917] --> 평균 = 0.9167\n",
      "depth-13 : fold acculate = [0.958 0.958 0.875 1.    0.917] --> 평균 = 0.9417\n",
      "depth-14 : fold acculate = [0.958 0.958 0.875 1.    0.917] --> 평균 = 0.9417\n",
      "depth-15 : fold acculate = [0.917 0.917 0.958 0.917 0.917] --> 평균 = 0.9250\n",
      "depth-16 : fold acculate = [0.917 0.833 0.917 0.958 0.958] --> 평균 = 0.9167\n",
      "depth-17 : fold acculate = [0.958 0.875 0.958 1.    0.917] --> 평균 = 0.9417\n",
      "depth-18 : fold acculate = [0.917 0.792 0.917 1.    0.917] --> 평균 = 0.9083\n",
      "depth-19 : fold acculate = [0.958 0.958 0.958 0.792 0.917] --> 평균 = 0.9167\n",
      "\n",
      "최적 depth = 13\n",
      "시험 데이터 정확도 = 1.0000\n"
     ]
    }
   ],
   "source": [
    "iris = load_iris()\n",
    "\n",
    "x_train, x_test, y_train, y_test = train_test_split(iris['data'], iris['target'], test_size = 0.2)\n",
    "\n",
    "# 5-fold를 구성한다.\n",
    "cv = KFold(n_splits = 5, shuffle=True)\n",
    "\n",
    "depth_acc = []  # depth 별 정확도 리스트\n",
    "for depth in range(1, 20):\n",
    "    model = DecisionTreeClassifier(max_depth = depth)\n",
    "\n",
    "    fold_acc = [] # k-fold 별 정확도 리스트\n",
    "    for i, (tx, vx) in enumerate(cv.split(x_train)):\n",
    "        # 학습용, 평가용 데이터\n",
    "        xf_train, xf_eval = x_train[tx], x_train[vx]\n",
    "        yf_train, yf_eval = y_train[tx], y_train[vx]\n",
    "        \n",
    "        # 학습\n",
    "        model.fit(xf_train, yf_train)\n",
    "\n",
    "        # 평가\n",
    "        fold_acc.append(model.score(xf_eval, yf_eval))\n",
    "\n",
    "    print(\"depth-{:2d} : fold acculate = {}\".format(depth, np.round(fold_acc, 3)), end=\"\")\n",
    "\n",
    "    # fold 별 정확도 평균을 저장한다 = depth 별 정확도\n",
    "    depth_acc.append(np.mean(fold_acc))\n",
    "    print(\" --> 평균 = {:.4f}\".format(depth_acc[-1]))\n",
    "\n",
    "# 최적 depth로 model를 최종 학습하고, 시험 데이터로 성능을 평가한다.\n",
    "opt_depth = np.argmax(depth_acc) + 1\n",
    "\n",
    "model = DecisionTreeClassifier(max_depth = opt_depth)\n",
    "model.fit(x_train, y_train)\n",
    "\n",
    "print(\"\\n최적 depth = {}\".format(opt_depth))\n",
    "print(\"시험 데이터 정확도 = {:.4f}\".format(model.score(x_test, y_test)))\n"
   ]
  },
  {
   "cell_type": "code",
   "execution_count": null,
   "id": "ff0d36be",
   "metadata": {},
   "outputs": [],
   "source": []
  }
 ],
 "metadata": {
  "kernelspec": {
   "display_name": "Python 3 (ipykernel)",
   "language": "python",
   "name": "python3"
  },
  "language_info": {
   "codemirror_mode": {
    "name": "ipython",
    "version": 3
   },
   "file_extension": ".py",
   "mimetype": "text/x-python",
   "name": "python",
   "nbconvert_exporter": "python",
   "pygments_lexer": "ipython3",
   "version": "3.9.7"
  }
 },
 "nbformat": 4,
 "nbformat_minor": 5
}
