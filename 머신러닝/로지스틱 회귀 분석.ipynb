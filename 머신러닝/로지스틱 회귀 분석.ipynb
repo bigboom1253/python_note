{
 "cells": [
  {
   "cell_type": "code",
   "execution_count": null,
   "id": "22244b99",
   "metadata": {},
   "outputs": [],
   "source": [
    "# Logistic Regression으로 diabates 데이터를 학습한다.\n",
    "# binary classification (class = [0, 1])\n",
    "# ------------------------------------------------\n",
    "import pandas as pd\n",
    "import numpy as np\n",
    "from sklearn.model_selection import train_test_split\n",
    "from sklearn.linear_model import LogisticRegression\n",
    "from sklearn.preprocessing import StandardScaler\n",
    "\n",
    "# diabetes 데이터를 읽어온다\n",
    "DATA_PATH = '/content/drive/MyDrive/Colab Notebooks/data/'\n",
    "data = pd.read_csv(DATA_PATH + 'diabetes.csv')\n",
    "\n",
    "f_data = np.array(data.drop('Outcome', axis=1))\n",
    "t_data = np.array(data['Outcome'])\n",
    "data.head()\n",
    "\n",
    "# 데이터를 표준화한다. train과 test 데이터를 동시에 표준화 했다.\n",
    "# 괜찮을까? 문제라면 무엇이 문제일까?\n",
    "f_scale = StandardScaler()\n",
    "t_scale = StandardScaler()\n",
    "\n",
    "f_scaled = f_scale.fit_transform(f_data)\n",
    "\n",
    "# Train 데이터 세트와 Test 데이터 세트를 구성한다\n",
    "x_train, x_test, y_train, y_test = train_test_split(f_scaled, t_data, test_size = 0.2)\n",
    "\n",
    "# Logistic Regression으로 Train 데이터 세트를 학습한다.\n",
    "model = LogisticRegression()\n",
    "model.fit(x_train, y_train)\n",
    "\n",
    "# Test 세트의 Feature에 대한 class를 추정하고, 정확도를 계산한다\n",
    "print(\"* 학습용 데이터로 측정한 정확도 = %.2f\" % model.score(x_train, y_train))\n",
    "print(\"* 시험용 데이터로 측정한 정확도 = %.2f\" % model.score(x_test, y_test))\n",
    "\n",
    "# 학습된 w, b를 확인해 본다.\n",
    "print('\\nw :')\n",
    "print(model.coef_)\n",
    "print('\\nb :')\n",
    "print(model.intercept_)\n",
    "print('\\nclass :')\n",
    "print(model.classes_)\n",
    "\n",
    "# x_test[n]의 class를 추정한다.\n",
    "n = 1\n",
    "y_pred = model.predict(x_test[n].reshape(1, -1))[0]\n",
    "print('y_test[{}] = {}, y_pred = {}'.format(n, y_test[n], y_pred))\n",
    "print('probability = ', model.predict_proba(x_test[n].reshape(1, -1))[0])\n",
    "\n",
    "# manual로 x_test[n]의 class를 추정해 본다. 각 파라메터의 기능을 확인한다.\n",
    "theta = np.dot(model.coef_[0], x_test[n]) + model.intercept_\n",
    "prob = 1.0 / (1.0 + np.exp(-theta))\n",
    "print('probability = ', prob)\n"
   ]
  }
 ],
 "metadata": {
  "kernelspec": {
   "display_name": "Python 3 (ipykernel)",
   "language": "python",
   "name": "python3"
  },
  "language_info": {
   "codemirror_mode": {
    "name": "ipython",
    "version": 3
   },
   "file_extension": ".py",
   "mimetype": "text/x-python",
   "name": "python",
   "nbconvert_exporter": "python",
   "pygments_lexer": "ipython3",
   "version": "3.9.7"
  }
 },
 "nbformat": 4,
 "nbformat_minor": 5
}
