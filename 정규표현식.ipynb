{
 "cells": [
  {
   "cell_type": "code",
   "execution_count": 10,
   "id": "b3b44cbc",
   "metadata": {},
   "outputs": [],
   "source": [
    "import re"
   ]
  },
  {
   "cell_type": "code",
   "execution_count": 15,
   "id": "687be0aa",
   "metadata": {},
   "outputs": [
    {
     "data": {
      "text/plain": [
       "'case'"
      ]
     },
     "execution_count": 15,
     "metadata": {},
     "output_type": "execute_result"
    }
   ],
   "source": [
    "p = re.compile('ca.e')\n",
    "m = p.match('case')\n",
    "\n",
    "m.group()"
   ]
  },
  {
   "cell_type": "code",
   "execution_count": 23,
   "id": "120bab12",
   "metadata": {},
   "outputs": [],
   "source": [
    "def print_match(m):\n",
    "    if m :\n",
    "        print(f'm.group() : {m.group()}') #매칭된 문자열\n",
    "        print(f'm.string : {m.string}') # 입력받은 문자열\n",
    "        print(f'm.start() : {m.start()}') #매칭된 문자열의 시작 인덱스\n",
    "        print(f'm.end() : {m.end()}') #매칭된 문자열의 끝 인덱스\n",
    "        print(f'm.span() : {m.span()}') # 시작과 끝 인덱스\n",
    "        \n",
    "    else :\n",
    "        print('Error')\n"
   ]
  },
  {
   "cell_type": "code",
   "execution_count": 24,
   "id": "7b30e7ec",
   "metadata": {},
   "outputs": [
    {
     "name": "stdout",
     "output_type": "stream",
     "text": [
      "m.group() : care\n",
      "m.string : care\n",
      "m.start() : 0\n",
      "m.end() : 4\n",
      "m.span() : (0, 4)\n"
     ]
    }
   ],
   "source": [
    "m = p.match('care')\n",
    "\n",
    "print_match(m)"
   ]
  },
  {
   "cell_type": "code",
   "execution_count": 25,
   "id": "4c0875ba",
   "metadata": {},
   "outputs": [
    {
     "name": "stdout",
     "output_type": "stream",
     "text": [
      "m.group() : care\n",
      "m.string : good care\n",
      "m.start() : 5\n",
      "m.end() : 9\n",
      "m.span() : (5, 9)\n"
     ]
    }
   ],
   "source": [
    "m = p.search('good care')\n",
    "\n",
    "print_match(m)"
   ]
  },
  {
   "cell_type": "code",
   "execution_count": 26,
   "id": "f9c36cb3",
   "metadata": {},
   "outputs": [
    {
     "name": "stdout",
     "output_type": "stream",
     "text": [
      "m.group() : care\n",
      "m.string : careless\n",
      "m.start() : 0\n",
      "m.end() : 4\n",
      "m.span() : (0, 4)\n",
      "m.group() : care\n",
      "m.string : careless\n",
      "m.start() : 0\n",
      "m.end() : 4\n",
      "m.span() : (0, 4)\n"
     ]
    }
   ],
   "source": [
    "m = p.match('careless')\n",
    "print_match(m)\n",
    "\n",
    "m = p.search('careless')\n",
    "print_match(m)"
   ]
  },
  {
   "cell_type": "code",
   "execution_count": null,
   "id": "1ceab05d",
   "metadata": {},
   "outputs": [],
   "source": []
  }
 ],
 "metadata": {
  "kernelspec": {
   "display_name": "Python 3 (ipykernel)",
   "language": "python",
   "name": "python3"
  },
  "language_info": {
   "codemirror_mode": {
    "name": "ipython",
    "version": 3
   },
   "file_extension": ".py",
   "mimetype": "text/x-python",
   "name": "python",
   "nbconvert_exporter": "python",
   "pygments_lexer": "ipython3",
   "version": "3.9.7"
  }
 },
 "nbformat": 4,
 "nbformat_minor": 5
}
